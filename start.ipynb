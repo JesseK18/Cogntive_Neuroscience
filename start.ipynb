{
  "cells": [
    {
      "cell_type": "markdown",
      "metadata": {
        "id": "view-in-github",
        "colab_type": "text"
      },
      "source": [
        "<a href=\"https://colab.research.google.com/github/JesseK18/Cogntive_Neuroscience/blob/main/start.ipynb\" target=\"_parent\"><img src=\"https://colab.research.google.com/assets/colab-badge.svg\" alt=\"Open In Colab\"/></a>"
      ]
    },
    {
      "cell_type": "markdown",
      "metadata": {
        "id": "FrfKx63UZ4QT"
      },
      "source": [
        "# Coding for COGNEURO\n"
      ]
    },
    {
      "cell_type": "code",
      "execution_count": null,
      "metadata": {
        "collapsed": true,
        "id": "lLWiBxJ5Z4QW",
        "outputId": "5f84572f-22d1-4b60-aa38-e411d1f13049"
      },
      "outputs": [
        {
          "name": "stdout",
          "output_type": "stream",
          "text": [
            "Retrieving notices: ...working... done\n",
            "Channels:\n",
            " - conda-forge\n",
            " - defaults\n",
            "Platform: osx-64\n",
            "Collecting package metadata (repodata.json): done\n",
            "Solving environment: done\n",
            "\n",
            "## Package Plan ##\n",
            "\n",
            "  environment location: /opt/anaconda3/envs/ML_assignment_4\n",
            "\n",
            "  added / updated specs:\n",
            "    - tensorflow\n",
            "\n",
            "\n",
            "The following packages will be downloaded:\n",
            "\n",
            "    package                    |            build\n",
            "    ---------------------------|-----------------\n",
            "    absl-py-2.1.0              |     pyhd8ed1ab_0         105 KB  conda-forge\n",
            "    astunparse-1.6.3           |     pyhd8ed1ab_2          18 KB  conda-forge\n",
            "    flatbuffers-24.3.25        |       h6d0c2b6_0         1.4 MB\n",
            "    gast-0.5.5                 |     pyhd8ed1ab_0          23 KB  conda-forge\n",
            "    google-pasta-0.2.0         |     pyhd8ed1ab_1          48 KB  conda-forge\n",
            "    grpcio-1.62.2              |  py311hab2016f_0        1023 KB\n",
            "    h5py-3.12.1                |  py311ha611a00_0         1.3 MB\n",
            "    keras-3.7.0                |     pyhd8ed1ab_0         932 KB  conda-forge\n",
            "    libabseil-20240116.2       | cxx17_h548131f_0         1.1 MB\n",
            "    libgrpc-1.62.2             |       hf2926fd_0         5.7 MB\n",
            "    libprotobuf-4.25.3         |       h34eed0b_0         2.3 MB\n",
            "    libssh2-1.10.0             |       hd3787cc_2         221 KB  conda-forge\n",
            "    markdown-3.6               |     pyhd8ed1ab_0          76 KB  conda-forge\n",
            "    markdown-it-py-3.0.0       |     pyhd8ed1ab_0          63 KB  conda-forge\n",
            "    mdurl-0.1.2                |     pyhd8ed1ab_0          14 KB  conda-forge\n",
            "    ml_dtypes-0.4.0            |  py311he327ffe_0         151 KB\n",
            "    namex-0.0.8                |     pyhd8ed1ab_0          11 KB  conda-forge\n",
            "    opt_einsum-3.4.0           |     pyhd8ed1ab_0          61 KB  conda-forge\n",
            "    optree-0.9.0               |  py311h36992d9_0         256 KB  conda-forge\n",
            "    protobuf-4.25.3            |  py311h43dadc6_0         387 KB\n",
            "    python-flatbuffers-24.3.25 |     pyh59ac667_0          34 KB  conda-forge\n",
            "    re2-2022.04.01             |       h96cf925_0         201 KB  conda-forge\n",
            "    rich-13.9.4                |     pyhd8ed1ab_0         181 KB  conda-forge\n",
            "    snappy-1.2.1               |       h6d0c2b6_0          41 KB\n",
            "    tensorboard-2.17.1         |     pyhd8ed1ab_0         4.9 MB  conda-forge\n",
            "    tensorboard-data-server-0.7.0|  py311h968b48f_2         3.1 MB  conda-forge\n",
            "    tensorflow-2.17.0          |cpu_py311hb3d9b59_0          33 KB\n",
            "    tensorflow-base-2.17.0     |cpu_py311h0426836_0       162.9 MB\n",
            "    tensorflow-estimator-2.17.0|cpu_py311h7aa49ff_0         675 KB\n",
            "    termcolor-2.5.0            |     pyhd8ed1ab_0          12 KB  conda-forge\n",
            "    werkzeug-3.1.3             |     pyhff2d567_0         237 KB  conda-forge\n",
            "    wrapt-1.17.0               |  py311h4d7f069_0          60 KB  conda-forge\n",
            "    zipp-3.21.0                |     pyhd8ed1ab_1          21 KB  conda-forge\n",
            "    ------------------------------------------------------------\n",
            "                                           Total:       187.5 MB\n",
            "\n",
            "The following NEW packages will be INSTALLED:\n",
            "\n",
            "  absl-py            conda-forge/noarch::absl-py-2.1.0-pyhd8ed1ab_0 \n",
            "  astunparse         conda-forge/noarch::astunparse-1.6.3-pyhd8ed1ab_2 \n",
            "  c-ares             conda-forge/osx-64::c-ares-1.34.3-hf13058a_1 \n",
            "  flatbuffers        pkgs/main/osx-64::flatbuffers-24.3.25-h6d0c2b6_0 \n",
            "  gast               conda-forge/noarch::gast-0.5.5-pyhd8ed1ab_0 \n",
            "  giflib             conda-forge/osx-64::giflib-5.2.2-h10d778d_0 \n",
            "  google-pasta       conda-forge/noarch::google-pasta-0.2.0-pyhd8ed1ab_1 \n",
            "  grpcio             pkgs/main/osx-64::grpcio-1.62.2-py311hab2016f_0 \n",
            "  h5py               pkgs/main/osx-64::h5py-3.12.1-py311ha611a00_0 \n",
            "  hdf5               pkgs/main/osx-64::hdf5-1.12.1-ha01d115_3 \n",
            "  importlib-metadata conda-forge/noarch::importlib-metadata-8.5.0-pyha770c72_0 \n",
            "  keras              conda-forge/noarch::keras-3.7.0-pyhd8ed1ab_0 \n",
            "  libabseil          pkgs/main/osx-64::libabseil-20240116.2-cxx17_h548131f_0 \n",
            "  libcurl            pkgs/main/osx-64::libcurl-8.9.1-h3a17b82_0 \n",
            "  libev              conda-forge/osx-64::libev-4.33-h10d778d_2 \n",
            "  libgrpc            pkgs/main/osx-64::libgrpc-1.62.2-hf2926fd_0 \n",
            "  libnghttp2         pkgs/main/osx-64::libnghttp2-1.57.0-h9beae6a_0 \n",
            "  libprotobuf        pkgs/main/osx-64::libprotobuf-4.25.3-h34eed0b_0 \n",
            "  libssh2            conda-forge/osx-64::libssh2-1.10.0-hd3787cc_2 \n",
            "  markdown           conda-forge/noarch::markdown-3.6-pyhd8ed1ab_0 \n",
            "  markdown-it-py     conda-forge/noarch::markdown-it-py-3.0.0-pyhd8ed1ab_0 \n",
            "  mdurl              conda-forge/noarch::mdurl-0.1.2-pyhd8ed1ab_0 \n",
            "  ml_dtypes          pkgs/main/osx-64::ml_dtypes-0.4.0-py311he327ffe_0 \n",
            "  namex              conda-forge/noarch::namex-0.0.8-pyhd8ed1ab_0 \n",
            "  opt_einsum         conda-forge/noarch::opt_einsum-3.4.0-pyhd8ed1ab_0 \n",
            "  optree             conda-forge/osx-64::optree-0.9.0-py311h36992d9_0 \n",
            "  protobuf           pkgs/main/osx-64::protobuf-4.25.3-py311h43dadc6_0 \n",
            "  python-flatbuffers conda-forge/noarch::python-flatbuffers-24.3.25-pyh59ac667_0 \n",
            "  python_abi         conda-forge/osx-64::python_abi-3.11-2_cp311 \n",
            "  re2                conda-forge/osx-64::re2-2022.04.01-h96cf925_0 \n",
            "  rich               conda-forge/noarch::rich-13.9.4-pyhd8ed1ab_0 \n",
            "  snappy             pkgs/main/osx-64::snappy-1.2.1-h6d0c2b6_0 \n",
            "  tensorboard        conda-forge/noarch::tensorboard-2.17.1-pyhd8ed1ab_0 \n",
            "  tensorboard-data-~ conda-forge/osx-64::tensorboard-data-server-0.7.0-py311h968b48f_2 \n",
            "  tensorflow         pkgs/main/osx-64::tensorflow-2.17.0-cpu_py311hb3d9b59_0 \n",
            "  tensorflow-base    pkgs/main/osx-64::tensorflow-base-2.17.0-cpu_py311h0426836_0 \n",
            "  tensorflow-estima~ pkgs/main/osx-64::tensorflow-estimator-2.17.0-cpu_py311h7aa49ff_0 \n",
            "  termcolor          conda-forge/noarch::termcolor-2.5.0-pyhd8ed1ab_0 \n",
            "  werkzeug           conda-forge/noarch::werkzeug-3.1.3-pyhff2d567_0 \n",
            "  wrapt              conda-forge/osx-64::wrapt-1.17.0-py311h4d7f069_0 \n",
            "  zipp               conda-forge/noarch::zipp-3.21.0-pyhd8ed1ab_1 \n",
            "\n",
            "The following packages will be UPDATED:\n",
            "\n",
            "  ca-certificates    pkgs/main::ca-certificates-2024.3.11-~ --> conda-forge::ca-certificates-2024.8.30-h8857fd0_0 \n",
            "  certifi            pkgs/main/osx-64::certifi-2024.2.2-py~ --> conda-forge/noarch::certifi-2024.8.30-pyhd8ed1ab_0 \n",
            "  openssl              pkgs/main::openssl-3.0.13-hca72f7f_2 --> conda-forge::openssl-3.4.0-hd471939_0 \n",
            "\n",
            "\n",
            "Proceed ([y]/n)? ^C\n",
            "\n",
            "CondaSystemExit: \n",
            "Operation aborted.  Exiting.\n",
            "\n"
          ]
        }
      ],
      "source": [
        "! conda install -c conda-forge tensorflow\n",
        "!pip install snntorch\n"
      ]
    },
    {
      "cell_type": "code",
      "execution_count": 35,
      "metadata": {
        "id": "yetLT1paZ4QY"
      },
      "outputs": [],
      "source": [
        "# Importing used packages\n",
        "import matplotlib.pyplot as plt\n",
        "import pandas as pd\n",
        "import numpy as np\n",
        "import tensorflow as tf\n",
        "from sklearn.model_selection import KFold\n",
        "from tensorflow.keras.models import Sequential\n",
        "from tensorflow.keras.layers import Dense, Flatten\n",
        "from tensorflow.keras.layers import Conv2D, MaxPooling2D\n",
        "from tensorflow.keras.optimizers import Adam\n",
        "from tensorflow.keras.losses import SparseCategoricalCrossentropy\n",
        "from tensorflow.keras.metrics import Accuracy\n",
        "from tensorflow.keras.layers import Dropout\n",
        "from tensorflow.keras.preprocessing.image import ImageDataGenerator\n",
        "\n",
        "\n",
        "import snntorch as snn\n",
        "import torch\n",
        "import torch.nn as nn\n",
        "from torch.utils.data import TensorDataset\n",
        "from torch.utils.data import DataLoader\n",
        "from torchvision import datasets, transforms\n",
        "import torch.optim as optim\n",
        "\n"
      ]
    },
    {
      "cell_type": "markdown",
      "source": [
        "# Loading external data\n"
      ],
      "metadata": {
        "id": "h7DGWjHZJ3QD"
      }
    },
    {
      "cell_type": "code",
      "execution_count": 36,
      "metadata": {
        "colab": {
          "base_uri": "https://localhost:8080/"
        },
        "collapsed": true,
        "id": "v4c5owuyZ4Qa",
        "outputId": "1358f3be-5cc8-4c76-b8d2-0258a09039ab"
      },
      "outputs": [
        {
          "output_type": "stream",
          "name": "stdout",
          "text": [
            "[[[0 0 0 ... 0 0 0]\n",
            "  [0 0 0 ... 0 0 0]\n",
            "  [0 0 0 ... 0 0 0]\n",
            "  ...\n",
            "  [0 0 0 ... 0 0 0]\n",
            "  [0 0 0 ... 0 0 0]\n",
            "  [0 0 0 ... 0 0 0]]\n",
            "\n",
            " [[0 0 0 ... 2 0 0]\n",
            "  [0 0 0 ... 0 0 0]\n",
            "  [0 0 0 ... 0 0 0]\n",
            "  ...\n",
            "  [0 0 0 ... 0 0 0]\n",
            "  [0 0 0 ... 0 0 0]\n",
            "  [0 0 0 ... 0 0 0]]\n",
            "\n",
            " [[0 0 0 ... 0 0 0]\n",
            "  [0 0 0 ... 0 0 0]\n",
            "  [0 0 0 ... 0 0 0]\n",
            "  ...\n",
            "  [0 0 0 ... 0 0 0]\n",
            "  [0 0 0 ... 0 0 0]\n",
            "  [0 0 0 ... 0 0 0]]\n",
            "\n",
            " [[0 0 0 ... 0 0 0]\n",
            "  [0 0 0 ... 0 0 0]\n",
            "  [0 0 0 ... 1 1 0]\n",
            "  ...\n",
            "  [0 0 0 ... 0 0 0]\n",
            "  [0 0 0 ... 0 0 0]\n",
            "  [0 0 0 ... 0 0 0]]\n",
            "\n",
            " [[0 0 0 ... 0 0 0]\n",
            "  [0 0 0 ... 0 0 0]\n",
            "  [0 0 0 ... 0 0 0]\n",
            "  ...\n",
            "  [0 0 0 ... 0 0 0]\n",
            "  [0 0 0 ... 0 0 0]\n",
            "  [0 0 0 ... 0 0 0]]]\n",
            "[0 1 2 3 4]\n",
            "Shape of df_X: (290, 784)\n",
            "Shape of df_y: (290, 1)\n",
            "    0    1    2    3    4    5    6    7    8    9    ...  774  775  776  777  \\\n",
            "0     0    0    0    0    0    0    0    0    0    0  ...    0    0    0    0   \n",
            "1     0    0    0    0    0    0    0    0    0    0  ...    0    0    0    0   \n",
            "2     0    0    0    0    0    0    0    1    1    0  ...    0    0    0    0   \n",
            "3     0    0    0    0    0    0    0    0    0    0  ...    0    0    0    0   \n",
            "4     0    0    0    0    0    0    0    0    0    0  ...    0    0    0    0   \n",
            "5     0    0    0    0    0    0    0    0    0    0  ...    0    0    0    0   \n",
            "6     0    0    0    0    0    0    0    0    0    0  ...    0    0    0    0   \n",
            "7     0    0    0    0    0    0    0    0    0    0  ...    0    0    0    0   \n",
            "8     0    0    0    0    0    0    0    0    0    0  ...    0    0    0    0   \n",
            "9     0    0    0    0    0    0    0    0    0    0  ...    0    0    0    0   \n",
            "10    0    0    0    0    0    0    0    0    0    0  ...    0    0    0    0   \n",
            "11    0    0    0    0    0    0    0    0    0    0  ...    0    0    0    0   \n",
            "12    0    0    0    0    0    0    0    0    0    0  ...    0    0    0    0   \n",
            "13    0    0    0    0    0    0    0    0    0    0  ...    0    0    0    0   \n",
            "14    0    0    0    0    0    0    0    0    0    0  ...    0    0    0    0   \n",
            "15    0    0    0    0    0    0    0    0    0    0  ...    0    0    0    0   \n",
            "16    1    1    0    0    0    0    0    0    0    0  ...    0    0    0    0   \n",
            "17    0    0    0    0    0    0    0    0    0    0  ...    0    0    0    0   \n",
            "18    0    0    0    0    0    0    0    0    0    0  ...    0    0    0    0   \n",
            "19    0    0    0    0    0    0    0    0    0    0  ...    0    0    0    0   \n",
            "\n",
            "    778  779  780  781  782  783  \n",
            "0     0    0    0    0    0    0  \n",
            "1     0    0    0    0    0    0  \n",
            "2     0    0    0    0    0    0  \n",
            "3     0    0    0    0    0    0  \n",
            "4     0    0    0    0    0    0  \n",
            "5     0    0    0    0    0    0  \n",
            "6     0    0    0    0    0    0  \n",
            "7     0    0    0    0    0    0  \n",
            "8     0    1    1    2    2    0  \n",
            "9     0    0    0    0    0    0  \n",
            "10    0    0    0    0    0    0  \n",
            "11    0    0    0    0    0    0  \n",
            "12    0    0    0    0    0    0  \n",
            "13    0    0    0    0    0    0  \n",
            "14    0    0    0    0    0    0  \n",
            "15    0    0    0    0    0    0  \n",
            "16    0    0    0    0    0    0  \n",
            "17    0    0    0    0    0    0  \n",
            "18    0    0    0    0    0    0  \n",
            "19    0    0    0    0    0    0  \n",
            "\n",
            "[20 rows x 784 columns]\n",
            "    Label\n",
            "0       0\n",
            "1       1\n",
            "2       2\n",
            "3       3\n",
            "4       4\n",
            "5       5\n",
            "6       6\n",
            "7       7\n",
            "8       8\n",
            "9       9\n",
            "10      0\n",
            "11      1\n",
            "12      2\n",
            "13      3\n",
            "14      4\n",
            "15      5\n",
            "16      6\n",
            "17      7\n",
            "18      8\n",
            "19      9\n"
          ]
        }
      ],
      "source": [
        "\n",
        "digits_X = np.load('digits_X.npy')\n",
        "digits_y = np.load('digits_y.npy')\n",
        "\n",
        "# Print the first few rows to confirm the data\n",
        "print(digits_X[:5])  # For large arrays, show only the first 5 rows\n",
        "print(digits_y[:5])\n",
        "\n",
        "# Reshape the feature matrix to 2D\n",
        "digits_X_reshaped = digits_X.reshape(digits_X.shape[0], -1)\n",
        "\n",
        "# Convert to DataFrame\n",
        "df_X = pd.DataFrame(digits_X_reshaped)\n",
        "df_y = pd.DataFrame(digits_y, columns=['Label'])\n",
        "print(\"Shape of df_X:\", df_X.shape)\n",
        "print(\"Shape of df_y:\", df_y.shape)\n",
        "print(df_X.head(20))  # First 5 rows of the feature matrix\n",
        "\n",
        "print(df_y.head(20))  # First 5 labels\n"
      ]
    },
    {
      "cell_type": "code",
      "execution_count": 6,
      "metadata": {
        "colab": {
          "base_uri": "https://localhost:8080/",
          "height": 354
        },
        "id": "jVqIoQ3xZ4Qb",
        "outputId": "b719c91d-7504-416f-f390-e2118a23edc7"
      },
      "outputs": [
        {
          "output_type": "display_data",
          "data": {
            "text/plain": [
              "<Figure size 1500x600 with 40 Axes>"
            ],
            "image/png": "[encoded data removed]"
          },
          "metadata": {}
        }
      ],
      "source": [
        "\n",
        "# load. Ensure you get the path correct -- this code assumes the files are in the working directory\n",
        "X_test2 = np.load('./digits_X.npy')\n",
        "y_test2 = np.load('./digits_y.npy')\n",
        "\n",
        "# plot to see if loaded correctly\n",
        "f, ax = plt.subplots(4,10, figsize=(15,6))\n",
        "ax = ax.ravel()\n",
        "for i in range(40):\n",
        "    ax[i].imshow(X_test2[i,:,:], cmap='Greys_r')\n",
        "    ax[i].set_title(y_test2[i])\n",
        "    ax[i].axis('off')"
      ]
    },
    {
      "cell_type": "markdown",
      "source": [
        "# Creating 3 models accroding to the workgroup demands"
      ],
      "metadata": {
        "id": "fxGHI9sxKCFi"
      }
    },
    {
      "cell_type": "code",
      "execution_count": 37,
      "metadata": {
        "colab": {
          "base_uri": "https://localhost:8080/",
          "height": 857
        },
        "id": "d5vAz78uZ4Qb",
        "outputId": "ec0fcfb7-3103-4ceb-f4b7-2bc2cbfaa42a"
      },
      "outputs": [
        {
          "output_type": "stream",
          "name": "stderr",
          "text": [
            "/usr/local/lib/python3.10/dist-packages/keras/src/layers/reshaping/flatten.py:37: UserWarning: Do not pass an `input_shape`/`input_dim` argument to a layer. When using Sequential models, prefer using an `Input(shape)` object as the first layer in the model instead.\n",
            "  super().__init__(**kwargs)\n"
          ]
        },
        {
          "output_type": "display_data",
          "data": {
            "text/plain": [
              "\u001b[1mModel: \"sequential\"\u001b[0m\n"
            ],
            "text/html": [
              "<pre style=\"white-space:pre;overflow-x:auto;line-height:normal;font-family:Menlo,'DejaVu Sans Mono',consolas,'Courier New',monospace\"><span style=\"font-weight: bold\">Model: \"sequential\"</span>\n",
              "</pre>\n"
            ]
          },
          "metadata": {}
        },
        {
          "output_type": "display_data",
          "data": {
            "text/plain": [
              "┏━━━━━━━━━━━━━━━━━━━━━━━━━━━━━━━━━━━━━━┳━━━━━━━━━━━━━━━━━━━━━━━━━━━━━┳━━━━━━━━━━━━━━━━━┓\n",
              "┃\u001b[1m \u001b[0m\u001b[1mLayer (type)                        \u001b[0m\u001b[1m \u001b[0m┃\u001b[1m \u001b[0m\u001b[1mOutput Shape               \u001b[0m\u001b[1m \u001b[0m┃\u001b[1m \u001b[0m\u001b[1m        Param #\u001b[0m\u001b[1m \u001b[0m┃\n",
              "┡━━━━━━━━━━━━━━━━━━━━━━━━━━━━━━━━━━━━━━╇━━━━━━━━━━━━━━━━━━━━━━━━━━━━━╇━━━━━━━━━━━━━━━━━┩\n",
              "│ flatten (\u001b[38;5;33mFlatten\u001b[0m)                    │ (\u001b[38;5;45mNone\u001b[0m, \u001b[38;5;34m784\u001b[0m)                 │               \u001b[38;5;34m0\u001b[0m │\n",
              "├──────────────────────────────────────┼─────────────────────────────┼─────────────────┤\n",
              "│ dense (\u001b[38;5;33mDense\u001b[0m)                        │ (\u001b[38;5;45mNone\u001b[0m, \u001b[38;5;34m128\u001b[0m)                 │         \u001b[38;5;34m100,480\u001b[0m │\n",
              "├──────────────────────────────────────┼─────────────────────────────┼─────────────────┤\n",
              "│ dense_1 (\u001b[38;5;33mDense\u001b[0m)                      │ (\u001b[38;5;45mNone\u001b[0m, \u001b[38;5;34m10\u001b[0m)                  │           \u001b[38;5;34m1,290\u001b[0m │\n",
              "└──────────────────────────────────────┴─────────────────────────────┴─────────────────┘\n"
            ],
            "text/html": [
              "<pre style=\"white-space:pre;overflow-x:auto;line-height:normal;font-family:Menlo,'DejaVu Sans Mono',consolas,'Courier New',monospace\">┏━━━━━━━━━━━━━━━━━━━━━━━━━━━━━━━━━━━━━━┳━━━━━━━━━━━━━━━━━━━━━━━━━━━━━┳━━━━━━━━━━━━━━━━━┓\n",
              "┃<span style=\"font-weight: bold\"> Layer (type)                         </span>┃<span style=\"font-weight: bold\"> Output Shape                </span>┃<span style=\"font-weight: bold\">         Param # </span>┃\n",
              "┡━━━━━━━━━━━━━━━━━━━━━━━━━━━━━━━━━━━━━━╇━━━━━━━━━━━━━━━━━━━━━━━━━━━━━╇━━━━━━━━━━━━━━━━━┩\n",
              "│ flatten (<span style=\"color: #0087ff; text-decoration-color: #0087ff\">Flatten</span>)                    │ (<span style=\"color: #00d7ff; text-decoration-color: #00d7ff\">None</span>, <span style=\"color: #00af00; text-decoration-color: #00af00\">784</span>)                 │               <span style=\"color: #00af00; text-decoration-color: #00af00\">0</span> │\n",
              "├──────────────────────────────────────┼─────────────────────────────┼─────────────────┤\n",
              "│ dense (<span style=\"color: #0087ff; text-decoration-color: #0087ff\">Dense</span>)                        │ (<span style=\"color: #00d7ff; text-decoration-color: #00d7ff\">None</span>, <span style=\"color: #00af00; text-decoration-color: #00af00\">128</span>)                 │         <span style=\"color: #00af00; text-decoration-color: #00af00\">100,480</span> │\n",
              "├──────────────────────────────────────┼─────────────────────────────┼─────────────────┤\n",
              "│ dense_1 (<span style=\"color: #0087ff; text-decoration-color: #0087ff\">Dense</span>)                      │ (<span style=\"color: #00d7ff; text-decoration-color: #00d7ff\">None</span>, <span style=\"color: #00af00; text-decoration-color: #00af00\">10</span>)                  │           <span style=\"color: #00af00; text-decoration-color: #00af00\">1,290</span> │\n",
              "└──────────────────────────────────────┴─────────────────────────────┴─────────────────┘\n",
              "</pre>\n"
            ]
          },
          "metadata": {}
        },
        {
          "output_type": "display_data",
          "data": {
            "text/plain": [
              "\u001b[1m Total params: \u001b[0m\u001b[38;5;34m101,770\u001b[0m (397.54 KB)\n"
            ],
            "text/html": [
              "<pre style=\"white-space:pre;overflow-x:auto;line-height:normal;font-family:Menlo,'DejaVu Sans Mono',consolas,'Courier New',monospace\"><span style=\"font-weight: bold\"> Total params: </span><span style=\"color: #00af00; text-decoration-color: #00af00\">101,770</span> (397.54 KB)\n",
              "</pre>\n"
            ]
          },
          "metadata": {}
        },
        {
          "output_type": "display_data",
          "data": {
            "text/plain": [
              "\u001b[1m Trainable params: \u001b[0m\u001b[38;5;34m101,770\u001b[0m (397.54 KB)\n"
            ],
            "text/html": [
              "<pre style=\"white-space:pre;overflow-x:auto;line-height:normal;font-family:Menlo,'DejaVu Sans Mono',consolas,'Courier New',monospace\"><span style=\"font-weight: bold\"> Trainable params: </span><span style=\"color: #00af00; text-decoration-color: #00af00\">101,770</span> (397.54 KB)\n",
              "</pre>\n"
            ]
          },
          "metadata": {}
        },
        {
          "output_type": "display_data",
          "data": {
            "text/plain": [
              "\u001b[1m Non-trainable params: \u001b[0m\u001b[38;5;34m0\u001b[0m (0.00 B)\n"
            ],
            "text/html": [
              "<pre style=\"white-space:pre;overflow-x:auto;line-height:normal;font-family:Menlo,'DejaVu Sans Mono',consolas,'Courier New',monospace\"><span style=\"font-weight: bold\"> Non-trainable params: </span><span style=\"color: #00af00; text-decoration-color: #00af00\">0</span> (0.00 B)\n",
              "</pre>\n"
            ]
          },
          "metadata": {}
        },
        {
          "output_type": "display_data",
          "data": {
            "text/plain": [
              "\u001b[1mModel: \"sequential_1\"\u001b[0m\n"
            ],
            "text/html": [
              "<pre style=\"white-space:pre;overflow-x:auto;line-height:normal;font-family:Menlo,'DejaVu Sans Mono',consolas,'Courier New',monospace\"><span style=\"font-weight: bold\">Model: \"sequential_1\"</span>\n",
              "</pre>\n"
            ]
          },
          "metadata": {}
        },
        {
          "output_type": "display_data",
          "data": {
            "text/plain": [
              "┏━━━━━━━━━━━━━━━━━━━━━━━━━━━━━━━━━━━━━━┳━━━━━━━━━━━━━━━━━━━━━━━━━━━━━┳━━━━━━━━━━━━━━━━━┓\n",
              "┃\u001b[1m \u001b[0m\u001b[1mLayer (type)                        \u001b[0m\u001b[1m \u001b[0m┃\u001b[1m \u001b[0m\u001b[1mOutput Shape               \u001b[0m\u001b[1m \u001b[0m┃\u001b[1m \u001b[0m\u001b[1m        Param #\u001b[0m\u001b[1m \u001b[0m┃\n",
              "┡━━━━━━━━━━━━━━━━━━━━━━━━━━━━━━━━━━━━━━╇━━━━━━━━━━━━━━━━━━━━━━━━━━━━━╇━━━━━━━━━━━━━━━━━┩\n",
              "│ flatten_1 (\u001b[38;5;33mFlatten\u001b[0m)                  │ (\u001b[38;5;45mNone\u001b[0m, \u001b[38;5;34m784\u001b[0m)                 │               \u001b[38;5;34m0\u001b[0m │\n",
              "├──────────────────────────────────────┼─────────────────────────────┼─────────────────┤\n",
              "│ dense_2 (\u001b[38;5;33mDense\u001b[0m)                      │ (\u001b[38;5;45mNone\u001b[0m, \u001b[38;5;34m128\u001b[0m)                 │         \u001b[38;5;34m100,480\u001b[0m │\n",
              "├──────────────────────────────────────┼─────────────────────────────┼─────────────────┤\n",
              "│ dense_3 (\u001b[38;5;33mDense\u001b[0m)                      │ (\u001b[38;5;45mNone\u001b[0m, \u001b[38;5;34m64\u001b[0m)                  │           \u001b[38;5;34m8,256\u001b[0m │\n",
              "├──────────────────────────────────────┼─────────────────────────────┼─────────────────┤\n",
              "│ dense_4 (\u001b[38;5;33mDense\u001b[0m)                      │ (\u001b[38;5;45mNone\u001b[0m, \u001b[38;5;34m32\u001b[0m)                  │           \u001b[38;5;34m2,080\u001b[0m │\n",
              "├──────────────────────────────────────┼─────────────────────────────┼─────────────────┤\n",
              "│ dense_5 (\u001b[38;5;33mDense\u001b[0m)                      │ (\u001b[38;5;45mNone\u001b[0m, \u001b[38;5;34m10\u001b[0m)                  │             \u001b[38;5;34m330\u001b[0m │\n",
              "└──────────────────────────────────────┴─────────────────────────────┴─────────────────┘\n"
            ],
            "text/html": [
              "<pre style=\"white-space:pre;overflow-x:auto;line-height:normal;font-family:Menlo,'DejaVu Sans Mono',consolas,'Courier New',monospace\">┏━━━━━━━━━━━━━━━━━━━━━━━━━━━━━━━━━━━━━━┳━━━━━━━━━━━━━━━━━━━━━━━━━━━━━┳━━━━━━━━━━━━━━━━━┓\n",
              "┃<span style=\"font-weight: bold\"> Layer (type)                         </span>┃<span style=\"font-weight: bold\"> Output Shape                </span>┃<span style=\"font-weight: bold\">         Param # </span>┃\n",
              "┡━━━━━━━━━━━━━━━━━━━━━━━━━━━━━━━━━━━━━━╇━━━━━━━━━━━━━━━━━━━━━━━━━━━━━╇━━━━━━━━━━━━━━━━━┩\n",
              "│ flatten_1 (<span style=\"color: #0087ff; text-decoration-color: #0087ff\">Flatten</span>)                  │ (<span style=\"color: #00d7ff; text-decoration-color: #00d7ff\">None</span>, <span style=\"color: #00af00; text-decoration-color: #00af00\">784</span>)                 │               <span style=\"color: #00af00; text-decoration-color: #00af00\">0</span> │\n",
              "├──────────────────────────────────────┼─────────────────────────────┼─────────────────┤\n",
              "│ dense_2 (<span style=\"color: #0087ff; text-decoration-color: #0087ff\">Dense</span>)                      │ (<span style=\"color: #00d7ff; text-decoration-color: #00d7ff\">None</span>, <span style=\"color: #00af00; text-decoration-color: #00af00\">128</span>)                 │         <span style=\"color: #00af00; text-decoration-color: #00af00\">100,480</span> │\n",
              "├──────────────────────────────────────┼─────────────────────────────┼─────────────────┤\n",
              "│ dense_3 (<span style=\"color: #0087ff; text-decoration-color: #0087ff\">Dense</span>)                      │ (<span style=\"color: #00d7ff; text-decoration-color: #00d7ff\">None</span>, <span style=\"color: #00af00; text-decoration-color: #00af00\">64</span>)                  │           <span style=\"color: #00af00; text-decoration-color: #00af00\">8,256</span> │\n",
              "├──────────────────────────────────────┼─────────────────────────────┼─────────────────┤\n",
              "│ dense_4 (<span style=\"color: #0087ff; text-decoration-color: #0087ff\">Dense</span>)                      │ (<span style=\"color: #00d7ff; text-decoration-color: #00d7ff\">None</span>, <span style=\"color: #00af00; text-decoration-color: #00af00\">32</span>)                  │           <span style=\"color: #00af00; text-decoration-color: #00af00\">2,080</span> │\n",
              "├──────────────────────────────────────┼─────────────────────────────┼─────────────────┤\n",
              "│ dense_5 (<span style=\"color: #0087ff; text-decoration-color: #0087ff\">Dense</span>)                      │ (<span style=\"color: #00d7ff; text-decoration-color: #00d7ff\">None</span>, <span style=\"color: #00af00; text-decoration-color: #00af00\">10</span>)                  │             <span style=\"color: #00af00; text-decoration-color: #00af00\">330</span> │\n",
              "└──────────────────────────────────────┴─────────────────────────────┴─────────────────┘\n",
              "</pre>\n"
            ]
          },
          "metadata": {}
        },
        {
          "output_type": "display_data",
          "data": {
            "text/plain": [
              "\u001b[1m Total params: \u001b[0m\u001b[38;5;34m111,146\u001b[0m (434.16 KB)\n"
            ],
            "text/html": [
              "<pre style=\"white-space:pre;overflow-x:auto;line-height:normal;font-family:Menlo,'DejaVu Sans Mono',consolas,'Courier New',monospace\"><span style=\"font-weight: bold\"> Total params: </span><span style=\"color: #00af00; text-decoration-color: #00af00\">111,146</span> (434.16 KB)\n",
              "</pre>\n"
            ]
          },
          "metadata": {}
        },
        {
          "output_type": "display_data",
          "data": {
            "text/plain": [
              "\u001b[1m Trainable params: \u001b[0m\u001b[38;5;34m111,146\u001b[0m (434.16 KB)\n"
            ],
            "text/html": [
              "<pre style=\"white-space:pre;overflow-x:auto;line-height:normal;font-family:Menlo,'DejaVu Sans Mono',consolas,'Courier New',monospace\"><span style=\"font-weight: bold\"> Trainable params: </span><span style=\"color: #00af00; text-decoration-color: #00af00\">111,146</span> (434.16 KB)\n",
              "</pre>\n"
            ]
          },
          "metadata": {}
        },
        {
          "output_type": "display_data",
          "data": {
            "text/plain": [
              "\u001b[1m Non-trainable params: \u001b[0m\u001b[38;5;34m0\u001b[0m (0.00 B)\n"
            ],
            "text/html": [
              "<pre style=\"white-space:pre;overflow-x:auto;line-height:normal;font-family:Menlo,'DejaVu Sans Mono',consolas,'Courier New',monospace\"><span style=\"font-weight: bold\"> Non-trainable params: </span><span style=\"color: #00af00; text-decoration-color: #00af00\">0</span> (0.00 B)\n",
              "</pre>\n"
            ]
          },
          "metadata": {}
        },
        {
          "output_type": "stream",
          "name": "stderr",
          "text": [
            "/usr/local/lib/python3.10/dist-packages/keras/src/layers/convolutional/base_conv.py:107: UserWarning: Do not pass an `input_shape`/`input_dim` argument to a layer. When using Sequential models, prefer using an `Input(shape)` object as the first layer in the model instead.\n",
            "  super().__init__(activity_regularizer=activity_regularizer, **kwargs)\n"
          ]
        },
        {
          "output_type": "display_data",
          "data": {
            "text/plain": [
              "\u001b[1mModel: \"sequential_2\"\u001b[0m\n"
            ],
            "text/html": [
              "<pre style=\"white-space:pre;overflow-x:auto;line-height:normal;font-family:Menlo,'DejaVu Sans Mono',consolas,'Courier New',monospace\"><span style=\"font-weight: bold\">Model: \"sequential_2\"</span>\n",
              "</pre>\n"
            ]
          },
          "metadata": {}
        },
        {
          "output_type": "display_data",
          "data": {
            "text/plain": [
              "┏━━━━━━━━━━━━━━━━━━━━━━━━━━━━━━━━━━━━━━┳━━━━━━━━━━━━━━━━━━━━━━━━━━━━━┳━━━━━━━━━━━━━━━━━┓\n",
              "┃\u001b[1m \u001b[0m\u001b[1mLayer (type)                        \u001b[0m\u001b[1m \u001b[0m┃\u001b[1m \u001b[0m\u001b[1mOutput Shape               \u001b[0m\u001b[1m \u001b[0m┃\u001b[1m \u001b[0m\u001b[1m        Param #\u001b[0m\u001b[1m \u001b[0m┃\n",
              "┡━━━━━━━━━━━━━━━━━━━━━━━━━━━━━━━━━━━━━━╇━━━━━━━━━━━━━━━━━━━━━━━━━━━━━╇━━━━━━━━━━━━━━━━━┩\n",
              "│ conv2d (\u001b[38;5;33mConv2D\u001b[0m)                      │ (\u001b[38;5;45mNone\u001b[0m, \u001b[38;5;34m26\u001b[0m, \u001b[38;5;34m26\u001b[0m, \u001b[38;5;34m32\u001b[0m)          │             \u001b[38;5;34m320\u001b[0m │\n",
              "├──────────────────────────────────────┼─────────────────────────────┼─────────────────┤\n",
              "│ max_pooling2d (\u001b[38;5;33mMaxPooling2D\u001b[0m)         │ (\u001b[38;5;45mNone\u001b[0m, \u001b[38;5;34m13\u001b[0m, \u001b[38;5;34m13\u001b[0m, \u001b[38;5;34m32\u001b[0m)          │               \u001b[38;5;34m0\u001b[0m │\n",
              "├──────────────────────────────────────┼─────────────────────────────┼─────────────────┤\n",
              "│ flatten_2 (\u001b[38;5;33mFlatten\u001b[0m)                  │ (\u001b[38;5;45mNone\u001b[0m, \u001b[38;5;34m5408\u001b[0m)                │               \u001b[38;5;34m0\u001b[0m │\n",
              "├──────────────────────────────────────┼─────────────────────────────┼─────────────────┤\n",
              "│ dense_6 (\u001b[38;5;33mDense\u001b[0m)                      │ (\u001b[38;5;45mNone\u001b[0m, \u001b[38;5;34m128\u001b[0m)                 │         \u001b[38;5;34m692,352\u001b[0m │\n",
              "├──────────────────────────────────────┼─────────────────────────────┼─────────────────┤\n",
              "│ dense_7 (\u001b[38;5;33mDense\u001b[0m)                      │ (\u001b[38;5;45mNone\u001b[0m, \u001b[38;5;34m10\u001b[0m)                  │           \u001b[38;5;34m1,290\u001b[0m │\n",
              "└──────────────────────────────────────┴─────────────────────────────┴─────────────────┘\n"
            ],
            "text/html": [
              "<pre style=\"white-space:pre;overflow-x:auto;line-height:normal;font-family:Menlo,'DejaVu Sans Mono',consolas,'Courier New',monospace\">┏━━━━━━━━━━━━━━━━━━━━━━━━━━━━━━━━━━━━━━┳━━━━━━━━━━━━━━━━━━━━━━━━━━━━━┳━━━━━━━━━━━━━━━━━┓\n",
              "┃<span style=\"font-weight: bold\"> Layer (type)                         </span>┃<span style=\"font-weight: bold\"> Output Shape                </span>┃<span style=\"font-weight: bold\">         Param # </span>┃\n",
              "┡━━━━━━━━━━━━━━━━━━━━━━━━━━━━━━━━━━━━━━╇━━━━━━━━━━━━━━━━━━━━━━━━━━━━━╇━━━━━━━━━━━━━━━━━┩\n",
              "│ conv2d (<span style=\"color: #0087ff; text-decoration-color: #0087ff\">Conv2D</span>)                      │ (<span style=\"color: #00d7ff; text-decoration-color: #00d7ff\">None</span>, <span style=\"color: #00af00; text-decoration-color: #00af00\">26</span>, <span style=\"color: #00af00; text-decoration-color: #00af00\">26</span>, <span style=\"color: #00af00; text-decoration-color: #00af00\">32</span>)          │             <span style=\"color: #00af00; text-decoration-color: #00af00\">320</span> │\n",
              "├──────────────────────────────────────┼─────────────────────────────┼─────────────────┤\n",
              "│ max_pooling2d (<span style=\"color: #0087ff; text-decoration-color: #0087ff\">MaxPooling2D</span>)         │ (<span style=\"color: #00d7ff; text-decoration-color: #00d7ff\">None</span>, <span style=\"color: #00af00; text-decoration-color: #00af00\">13</span>, <span style=\"color: #00af00; text-decoration-color: #00af00\">13</span>, <span style=\"color: #00af00; text-decoration-color: #00af00\">32</span>)          │               <span style=\"color: #00af00; text-decoration-color: #00af00\">0</span> │\n",
              "├──────────────────────────────────────┼─────────────────────────────┼─────────────────┤\n",
              "│ flatten_2 (<span style=\"color: #0087ff; text-decoration-color: #0087ff\">Flatten</span>)                  │ (<span style=\"color: #00d7ff; text-decoration-color: #00d7ff\">None</span>, <span style=\"color: #00af00; text-decoration-color: #00af00\">5408</span>)                │               <span style=\"color: #00af00; text-decoration-color: #00af00\">0</span> │\n",
              "├──────────────────────────────────────┼─────────────────────────────┼─────────────────┤\n",
              "│ dense_6 (<span style=\"color: #0087ff; text-decoration-color: #0087ff\">Dense</span>)                      │ (<span style=\"color: #00d7ff; text-decoration-color: #00d7ff\">None</span>, <span style=\"color: #00af00; text-decoration-color: #00af00\">128</span>)                 │         <span style=\"color: #00af00; text-decoration-color: #00af00\">692,352</span> │\n",
              "├──────────────────────────────────────┼─────────────────────────────┼─────────────────┤\n",
              "│ dense_7 (<span style=\"color: #0087ff; text-decoration-color: #0087ff\">Dense</span>)                      │ (<span style=\"color: #00d7ff; text-decoration-color: #00d7ff\">None</span>, <span style=\"color: #00af00; text-decoration-color: #00af00\">10</span>)                  │           <span style=\"color: #00af00; text-decoration-color: #00af00\">1,290</span> │\n",
              "└──────────────────────────────────────┴─────────────────────────────┴─────────────────┘\n",
              "</pre>\n"
            ]
          },
          "metadata": {}
        },
        {
          "output_type": "display_data",
          "data": {
            "text/plain": [
              "\u001b[1m Total params: \u001b[0m\u001b[38;5;34m693,962\u001b[0m (2.65 MB)\n"
            ],
            "text/html": [
              "<pre style=\"white-space:pre;overflow-x:auto;line-height:normal;font-family:Menlo,'DejaVu Sans Mono',consolas,'Courier New',monospace\"><span style=\"font-weight: bold\"> Total params: </span><span style=\"color: #00af00; text-decoration-color: #00af00\">693,962</span> (2.65 MB)\n",
              "</pre>\n"
            ]
          },
          "metadata": {}
        },
        {
          "output_type": "display_data",
          "data": {
            "text/plain": [
              "\u001b[1m Trainable params: \u001b[0m\u001b[38;5;34m693,962\u001b[0m (2.65 MB)\n"
            ],
            "text/html": [
              "<pre style=\"white-space:pre;overflow-x:auto;line-height:normal;font-family:Menlo,'DejaVu Sans Mono',consolas,'Courier New',monospace\"><span style=\"font-weight: bold\"> Trainable params: </span><span style=\"color: #00af00; text-decoration-color: #00af00\">693,962</span> (2.65 MB)\n",
              "</pre>\n"
            ]
          },
          "metadata": {}
        },
        {
          "output_type": "display_data",
          "data": {
            "text/plain": [
              "\u001b[1m Non-trainable params: \u001b[0m\u001b[38;5;34m0\u001b[0m (0.00 B)\n"
            ],
            "text/html": [
              "<pre style=\"white-space:pre;overflow-x:auto;line-height:normal;font-family:Menlo,'DejaVu Sans Mono',consolas,'Courier New',monospace\"><span style=\"font-weight: bold\"> Non-trainable params: </span><span style=\"color: #00af00; text-decoration-color: #00af00\">0</span> (0.00 B)\n",
              "</pre>\n"
            ]
          },
          "metadata": {}
        }
      ],
      "source": [
        "\"\"\"Create the three models described in the report\"\"\"\n",
        "# Define the model\n",
        "model_1_hidden = Sequential([\n",
        "    Flatten(input_shape=(28, 28)),  # Flatten the input\n",
        "    Dense(128, activation='relu'),  # 1 hidden layer with 128 nodes\n",
        "    Dense(10, activation='softmax')  # Output layer with 10 nodes (for 10 classes)\n",
        "])\n",
        "\n",
        "# Compile the model\n",
        "model_1_hidden.compile(optimizer='adam', loss='sparse_categorical_crossentropy', metrics=['accuracy'])\n",
        "\n",
        "# Summary of the model\n",
        "model_1_hidden.summary()\n",
        "\n",
        "\n",
        "# Define the model\n",
        "model_3_hidden = Sequential([\n",
        "    Flatten(input_shape=(28, 28)),  # Flatten the input\n",
        "    Dense(128, activation='relu'),  # 1st hidden layer with 128 nodes\n",
        "    Dense(64, activation='relu'),   # 2nd hidden layer with 64 nodes\n",
        "    Dense(32, activation='relu'),   # 3rd hidden layer with 32 nodes\n",
        "    Dense(10, activation='softmax')  # Output layer with 10 nodes (for 10 classes)\n",
        "])\n",
        "\n",
        "# Compile the model\n",
        "model_3_hidden.compile(optimizer='adam', loss='sparse_categorical_crossentropy', metrics=['accuracy'])\n",
        "\n",
        "# Summary of the model\n",
        "model_3_hidden.summary()\n",
        "\n",
        "\n",
        "\n",
        "\n",
        "# Define the model\n",
        "model_1_conv = Sequential([\n",
        "    Conv2D(32, (3, 3), activation='relu', input_shape=(28, 28, 1)),  # 1 convolutional layer\n",
        "    MaxPooling2D((2, 2)),  # Max pooling layer\n",
        "    Flatten(),\n",
        "    Dense(128, activation='relu'),  # Fully connected layer\n",
        "    Dense(10, activation='softmax')  # Output layer with 10 nodes (for 10 classes)\n",
        "])\n",
        "\n",
        "# Compile the model\n",
        "model_1_conv.compile(optimizer='adam', loss='sparse_categorical_crossentropy', metrics=['accuracy'])\n",
        "\n",
        "# Summary of the model\n",
        "model_1_conv.summary()"
      ]
    },
    {
      "cell_type": "markdown",
      "source": [
        "# Training the CNN on the MNIST and external dataset with the convolutional network"
      ],
      "metadata": {
        "id": "KVIR30_eKIgW"
      }
    },
    {
      "cell_type": "code",
      "execution_count": 47,
      "metadata": {
        "colab": {
          "base_uri": "https://localhost:8080/",
          "height": 822
        },
        "id": "eGiGbZBqZ4Qc",
        "outputId": "4c7b5b02-72ed-48b9-defc-51335f999661"
      },
      "outputs": [
        {
          "output_type": "stream",
          "name": "stdout",
          "text": [
            "Epoch 1/5\n",
            "\u001b[1m1875/1875\u001b[0m \u001b[32m━━━━━━━━━━━━━━━━━━━━\u001b[0m\u001b[37m\u001b[0m \u001b[1m4s\u001b[0m 2ms/step - accuracy: 0.9996 - loss: 0.0013 - val_accuracy: 0.9863 - val_loss: 0.0785\n",
            "Epoch 2/5\n",
            "\u001b[1m1875/1875\u001b[0m \u001b[32m━━━━━━━━━━━━━━━━━━━━\u001b[0m\u001b[37m\u001b[0m \u001b[1m6s\u001b[0m 3ms/step - accuracy: 0.9993 - loss: 0.0024 - val_accuracy: 0.9881 - val_loss: 0.0648\n",
            "Epoch 3/5\n",
            "\u001b[1m1875/1875\u001b[0m \u001b[32m━━━━━━━━━━━━━━━━━━━━\u001b[0m\u001b[37m\u001b[0m \u001b[1m4s\u001b[0m 2ms/step - accuracy: 0.9995 - loss: 0.0014 - val_accuracy: 0.9866 - val_loss: 0.0762\n",
            "Epoch 4/5\n",
            "\u001b[1m1875/1875\u001b[0m \u001b[32m━━━━━━━━━━━━━━━━━━━━\u001b[0m\u001b[37m\u001b[0m \u001b[1m5s\u001b[0m 3ms/step - accuracy: 0.9993 - loss: 0.0023 - val_accuracy: 0.9854 - val_loss: 0.0807\n",
            "Epoch 5/5\n",
            "\u001b[1m1875/1875\u001b[0m \u001b[32m━━━━━━━━━━━━━━━━━━━━\u001b[0m\u001b[37m\u001b[0m \u001b[1m5s\u001b[0m 2ms/step - accuracy: 0.9996 - loss: 0.0013 - val_accuracy: 0.9875 - val_loss: 0.0812\n"
          ]
        },
        {
          "output_type": "display_data",
          "data": {
            "text/plain": [
              "<Figure size 800x600 with 1 Axes>"
            ],
            "image/png": "[encoded data removed]"
          },
          "metadata": {}
        },
        {
          "output_type": "stream",
          "name": "stdout",
          "text": [
            "Final Training Accuracy: 1.00\n",
            "Final Validation Accuracy: 0.99\n",
            "____________\n",
            "Test Accuracy on External Validation Dataset: 0.8345\n"
          ]
        }
      ],
      "source": [
        "\"\"\"Train the CNN on the MNIST and test/ evaluate the model to check how accurate it is\"\"\"\n",
        "np.random.seed(42)\n",
        "#Load the external dataset\n",
        "\n",
        "X_test2 = np.load('./digits_X.npy')\n",
        "y_test2 = np.load('./digits_y.npy')\n",
        "\n",
        "# Normalize and reshape the external validation dataset\n",
        "X_test2 = X_test2 / 255.0\n",
        "X_test2 = X_test2.reshape(-1, 28, 28, 1)\n",
        "\n",
        "\n",
        "# Load the MNIST dataset\n",
        "mnist = tf.keras.datasets.mnist\n",
        "(X_train, y_train), (X_test, y_test) = mnist.load_data()\n",
        "\n",
        "# Normalize the data\n",
        "X_train, X_test = X_train / 255.0, X_test / 255.0\n",
        "\n",
        "# Reshape the data for convolutional networks\n",
        "X_train = X_train.reshape(-1, 28, 28, 1)\n",
        "X_test = X_test.reshape(-1, 28, 28, 1)\n",
        "\n",
        "# Train the model\n",
        "history = model_1_conv.fit(X_train, y_train, epochs=5, validation_data=(X_test, y_test))\n",
        "\n",
        "\n",
        "plt.figure(figsize=(8, 6))\n",
        "plt.plot(history.history['accuracy'], label='Training Accuracy')\n",
        "plt.plot(history.history['val_accuracy'], label='Validation Accuracy')\n",
        "plt.title('Model Accuracy Over Epochs')\n",
        "plt.xlabel('Epochs')\n",
        "plt.ylabel('Accuracy')\n",
        "plt.legend()\n",
        "plt.grid(True)\n",
        "plt.show()\n",
        "\n",
        "# Print final accuracy\n",
        "final_train_accuracy = history.history['accuracy'][-1]\n",
        "final_val_accuracy = history.history['val_accuracy'][-1]\n",
        "print(f\"Final Training Accuracy: {final_train_accuracy:.2f}\")\n",
        "print(f\"Final Validation Accuracy: {final_val_accuracy:.2f}\")\n",
        "print(\"____________\")\n",
        "\n",
        "test_loss, test_accuracy = model_1_conv.evaluate(X_test2, y_test2, verbose=0)\n",
        "print(f'Test Accuracy on External Validation Dataset: {test_accuracy:.4f}')\n"
      ]
    },
    {
      "cell_type": "code",
      "source": [
        "\"\"\"Train the  model_1_conv on the external training and test data. create a split on both and do cross validationa and report the accuracies\"\"\"\n",
        "\n",
        "np.random.seed(42)\n",
        "X_test2 = np.load('./digits_X.npy')\n",
        "y_test2 = np.load('./digits_y.npy')\n",
        "X = X_test2\n",
        "y = y_test2\n",
        "\n",
        "# Reshape the data for the convolutional model\n",
        "X = X.reshape(-1, 28, 28, 1)\n",
        "\n",
        "# Normalize pixel values\n",
        "X = X / 255.0\n",
        "\n",
        "# Define the number of folds for cross-validation\n",
        "n_splits = 5  # Example: 5-fold cross-validation\n",
        "kf = KFold(n_splits=n_splits, shuffle=True, random_state=42)\n",
        "\n",
        "# Lists to store accuracy scores for each fold\n",
        "accuracy_scores_train = []\n",
        "accuracy_scores_val = []\n",
        "\n",
        "# Perform cross-validation\n",
        "for train_index, val_index in kf.split(X):\n",
        "    X_train, X_val = X[train_index], X[val_index]\n",
        "    y_train, y_val = y[train_index], y[val_index]\n",
        "\n",
        "    # Create a new instance of the model for each fold (important!)\n",
        "    model_1_conv = Sequential([\n",
        "        Conv2D(32, (3, 3), activation='relu', input_shape=(28, 28, 1)),\n",
        "        MaxPooling2D((2, 2)),\n",
        "        Flatten(),\n",
        "        Dense(128, activation='relu'),\n",
        "        Dense(10, activation='softmax')\n",
        "    ])\n",
        "    model_1_conv.compile(optimizer='adam', loss='sparse_categorical_crossentropy', metrics=['accuracy'])\n",
        "\n",
        "    # Train the model\n",
        "    history = model_1_conv.fit(X_train, y_train, epochs=5, validation_data=(X_val, y_val), verbose=0) # Set verbose to 0\n",
        "\n",
        "    # Evaluate the model on both training and validation data\n",
        "    _, train_accuracy = model_1_conv.evaluate(X_train, y_train, verbose=0)\n",
        "    _, val_accuracy = model_1_conv.evaluate(X_val, y_val, verbose=0)\n",
        "\n",
        "    accuracy_scores_train.append(train_accuracy)\n",
        "    accuracy_scores_val.append(val_accuracy)\n",
        "\n",
        "\n",
        "# Print accuracy scores\n",
        "for i in range(n_splits):\n",
        "    print(f\"Fold {i + 1}: Train Accuracy = {accuracy_scores_train[i]:.4f}, Validation Accuracy = {accuracy_scores_val[i]:.4f}\")\n",
        "\n",
        "print(f\"Average Training Accuracy: {np.mean(accuracy_scores_train):.4f}\")\n",
        "print(f\"Average Validation Accuracy: {np.mean(accuracy_scores_val):.4f}\")\n",
        "\n",
        "# Evaluate the model on the MNIST test set\n",
        "_, mnist_accuracy = model_1_conv.evaluate(X_test, y_test, verbose=0)\n",
        "print(f\"MNIST Test Accuracy: {mnist_accuracy:.4f}\")\n",
        "# Plot the accuracy scores for each fold\n",
        "plt.figure(figsize=(8, 6))\n",
        "plt.plot(range(1, n_splits+1), accuracy_scores_train, marker='o', label='Training Accuracy')\n",
        "plt.plot(range(1, n_splits+1), accuracy_scores_val, marker='o', label='Validation Accuracy')\n",
        "plt.title('Cross-Validation Accuracy Scores')\n",
        "plt.xlabel('Fold')\n",
        "plt.ylabel('Accuracy')\n",
        "plt.legend()\n",
        "plt.grid(True)\n",
        "plt.show()"
      ],
      "metadata": {
        "colab": {
          "base_uri": "https://localhost:8080/",
          "height": 754
        },
        "id": "4nNxshOyBGVk",
        "outputId": "532f0f28-d98b-4fd7-ccff-912390e4c895"
      },
      "execution_count": 43,
      "outputs": [
        {
          "output_type": "stream",
          "name": "stderr",
          "text": [
            "/usr/local/lib/python3.10/dist-packages/keras/src/layers/convolutional/base_conv.py:107: UserWarning: Do not pass an `input_shape`/`input_dim` argument to a layer. When using Sequential models, prefer using an `Input(shape)` object as the first layer in the model instead.\n",
            "  super().__init__(activity_regularizer=activity_regularizer, **kwargs)\n"
          ]
        },
        {
          "output_type": "stream",
          "name": "stdout",
          "text": [
            "Fold 1: Train Accuracy = 0.8707, Validation Accuracy = 0.7759\n",
            "Fold 2: Train Accuracy = 0.8534, Validation Accuracy = 0.7414\n",
            "Fold 3: Train Accuracy = 0.8836, Validation Accuracy = 0.7759\n",
            "Fold 4: Train Accuracy = 0.8836, Validation Accuracy = 0.7241\n",
            "Fold 5: Train Accuracy = 0.8793, Validation Accuracy = 0.7759\n",
            "Average Training Accuracy: 0.8741\n",
            "Average Validation Accuracy: 0.7586\n",
            "MNIST Test Accuracy: 0.4619\n"
          ]
        },
        {
          "output_type": "display_data",
          "data": {
            "text/plain": [
              "<Figure size 800x600 with 1 Axes>"
            ],
            "image/png": "[encoded data removed]"
          },
          "metadata": {}
        }
      ]
    },
    {
      "cell_type": "code",
      "source": [
        "\"\"\"Comparing size of datasets to check if comparison is reasonable or our dataset is to small\"\"\"\n",
        "\n",
        "import numpy as np\n",
        "\n",
        "# Load the external dataset\n",
        "digits_X = np.load('digits_X.npy')\n",
        "digits_y = np.load('digits_y.npy')\n",
        "\n",
        "# Load the MNIST dataset\n",
        "from tensorflow.keras.datasets import mnist\n",
        "(X_train, y_train), (X_test, y_test) = mnist.load_data()\n",
        "\n",
        "# Number of digits in the external dataset\n",
        "num_digits_external = digits_X.shape[0]\n",
        "print(f\"Number of digits in the external dataset: {num_digits_external}\")\n",
        "\n",
        "# Number of digits in the MNIST dataset\n",
        "num_digits_mnist = X_train.shape[0] + X_test.shape[0]\n",
        "print(f\"Number of digits in the MNIST dataset: {num_digits_mnist}\")"
      ],
      "metadata": {
        "colab": {
          "base_uri": "https://localhost:8080/"
        },
        "id": "z59hi3F_Aboe",
        "outputId": "68af9582-f6b1-4f35-e42f-7585a9d5426e"
      },
      "execution_count": 40,
      "outputs": [
        {
          "output_type": "stream",
          "name": "stdout",
          "text": [
            "Number of digits in the external dataset: 290\n",
            "Number of digits in the MNIST dataset: 70000\n"
          ]
        }
      ]
    },
    {
      "cell_type": "code",
      "execution_count": 49,
      "metadata": {
        "colab": {
          "base_uri": "https://localhost:8080/",
          "height": 992
        },
        "id": "CqlSh9MeZ4Qd",
        "outputId": "9853bb15-6d62-4547-90a4-0282c8088ccf"
      },
      "outputs": [
        {
          "output_type": "stream",
          "name": "stderr",
          "text": [
            "/usr/local/lib/python3.10/dist-packages/keras/src/layers/reshaping/flatten.py:37: UserWarning: Do not pass an `input_shape`/`input_dim` argument to a layer. When using Sequential models, prefer using an `Input(shape)` object as the first layer in the model instead.\n",
            "  super().__init__(**kwargs)\n"
          ]
        },
        {
          "output_type": "stream",
          "name": "stdout",
          "text": [
            "Average Validation Accuracy: 0.9738\n",
            "Epoch 1/5\n",
            "\u001b[1m1875/1875\u001b[0m \u001b[32m━━━━━━━━━━━━━━━━━━━━\u001b[0m\u001b[37m\u001b[0m \u001b[1m8s\u001b[0m 3ms/step - accuracy: 0.8645 - loss: 0.4694\n",
            "Epoch 2/5\n",
            "\u001b[1m1875/1875\u001b[0m \u001b[32m━━━━━━━━━━━━━━━━━━━━\u001b[0m\u001b[37m\u001b[0m \u001b[1m4s\u001b[0m 2ms/step - accuracy: 0.9563 - loss: 0.1476\n",
            "Epoch 3/5\n",
            "\u001b[1m1875/1875\u001b[0m \u001b[32m━━━━━━━━━━━━━━━━━━━━\u001b[0m\u001b[37m\u001b[0m \u001b[1m5s\u001b[0m 2ms/step - accuracy: 0.9674 - loss: 0.1077\n",
            "Epoch 4/5\n",
            "\u001b[1m1875/1875\u001b[0m \u001b[32m━━━━━━━━━━━━━━━━━━━━\u001b[0m\u001b[37m\u001b[0m \u001b[1m5s\u001b[0m 2ms/step - accuracy: 0.9730 - loss: 0.0897\n",
            "Epoch 5/5\n",
            "\u001b[1m1875/1875\u001b[0m \u001b[32m━━━━━━━━━━━━━━━━━━━━\u001b[0m\u001b[37m\u001b[0m \u001b[1m4s\u001b[0m 2ms/step - accuracy: 0.9777 - loss: 0.0720\n",
            "\u001b[1m10/10\u001b[0m \u001b[32m━━━━━━━━━━━━━━━━━━━━\u001b[0m\u001b[37m\u001b[0m \u001b[1m1s\u001b[0m 28ms/step - accuracy: 0.5939 - loss: 1.7477\n",
            "Test Accuracy on External Validation Dataset: 0.5724\n"
          ]
        },
        {
          "output_type": "error",
          "ename": "KeyError",
          "evalue": "'val_accuracy'",
          "traceback": [
            "\u001b[0;31m---------------------------------------------------------------------------\u001b[0m",
            "\u001b[0;31mKeyError\u001b[0m                                  Traceback (most recent call last)",
            "\u001b[0;32m<ipython-input-49-f444f206a659>\u001b[0m in \u001b[0;36m<cell line: 84>\u001b[0;34m()\u001b[0m\n\u001b[1;32m     82\u001b[0m \u001b[0mplt\u001b[0m\u001b[0;34m.\u001b[0m\u001b[0mfigure\u001b[0m\u001b[0;34m(\u001b[0m\u001b[0mfigsize\u001b[0m\u001b[0;34m=\u001b[0m\u001b[0;34m(\u001b[0m\u001b[0;36m8\u001b[0m\u001b[0;34m,\u001b[0m \u001b[0;36m6\u001b[0m\u001b[0;34m)\u001b[0m\u001b[0;34m)\u001b[0m\u001b[0;34m\u001b[0m\u001b[0;34m\u001b[0m\u001b[0m\n\u001b[1;32m     83\u001b[0m \u001b[0mplt\u001b[0m\u001b[0;34m.\u001b[0m\u001b[0mplot\u001b[0m\u001b[0;34m(\u001b[0m\u001b[0mhistory\u001b[0m\u001b[0;34m.\u001b[0m\u001b[0mhistory\u001b[0m\u001b[0;34m[\u001b[0m\u001b[0;34m'accuracy'\u001b[0m\u001b[0;34m]\u001b[0m\u001b[0;34m,\u001b[0m \u001b[0mlabel\u001b[0m\u001b[0;34m=\u001b[0m\u001b[0;34m'Training Accuracy'\u001b[0m\u001b[0;34m)\u001b[0m\u001b[0;34m\u001b[0m\u001b[0;34m\u001b[0m\u001b[0m\n\u001b[0;32m---> 84\u001b[0;31m \u001b[0mplt\u001b[0m\u001b[0;34m.\u001b[0m\u001b[0mplot\u001b[0m\u001b[0;34m(\u001b[0m\u001b[0mhistory\u001b[0m\u001b[0;34m.\u001b[0m\u001b[0mhistory\u001b[0m\u001b[0;34m[\u001b[0m\u001b[0;34m'val_accuracy'\u001b[0m\u001b[0;34m]\u001b[0m\u001b[0;34m,\u001b[0m \u001b[0mlabel\u001b[0m\u001b[0;34m=\u001b[0m\u001b[0;34m'Validation Accuracy'\u001b[0m\u001b[0;34m)\u001b[0m\u001b[0;34m\u001b[0m\u001b[0;34m\u001b[0m\u001b[0m\n\u001b[0m\u001b[1;32m     85\u001b[0m \u001b[0mplt\u001b[0m\u001b[0;34m.\u001b[0m\u001b[0mtitle\u001b[0m\u001b[0;34m(\u001b[0m\u001b[0;34m'Model Accuracy Over Epochs'\u001b[0m\u001b[0;34m)\u001b[0m\u001b[0;34m\u001b[0m\u001b[0;34m\u001b[0m\u001b[0m\n\u001b[1;32m     86\u001b[0m \u001b[0mplt\u001b[0m\u001b[0;34m.\u001b[0m\u001b[0mxlabel\u001b[0m\u001b[0;34m(\u001b[0m\u001b[0;34m'Epochs'\u001b[0m\u001b[0;34m)\u001b[0m\u001b[0;34m\u001b[0m\u001b[0;34m\u001b[0m\u001b[0m\n",
            "\u001b[0;31mKeyError\u001b[0m: 'val_accuracy'"
          ]
        },
        {
          "output_type": "display_data",
          "data": {
            "text/plain": [
              "<Figure size 800x600 with 1 Axes>"
            ],
            "image/png": "[encoded data removed]"
          },
          "metadata": {}
        }
      ],
      "source": [
        "\"\"\"Loading data set in mnist. training on mnist only and evaluating/testing on both mnist and our dataset\"\"\"\n",
        "\"\"\"I dont know why but here I am creating a new model instead of using the other one, nice to have, bu yeah...\"\"\"\n",
        "\n",
        "# Load the MNIST dataset\n",
        "(X_train, y_train), (X_test, y_test) = mnist.load_data()\n",
        "\n",
        "# Normalize the training and testing data\n",
        "X_train = X_train / 255.0\n",
        "X_test = X_test / 255.0\n",
        "\n",
        "# Reshape the data for fully connected networks\n",
        "X_train = X_train.reshape(-1, 28 * 28)\n",
        "X_test = X_test.reshape(-1, 28 * 28)\n",
        "\n",
        "# Load external validation dataset\n",
        "X_test2 = np.load('./digits_X.npy')\n",
        "y_test2 = np.load('./digits_y.npy')\n",
        "\n",
        "# Normalize and reshape the external validation dataset\n",
        "X_test2 = X_test2 / 255.0\n",
        "X_test2 = X_test2.reshape(-1, 28 * 28)\n",
        "\n",
        "# Define a function to create the model\n",
        "def create_model():\n",
        "    model = Sequential([\n",
        "        Flatten(input_shape=(28 * 28,)),  # Flatten the input\n",
        "        Dense(128, activation='relu'),   # First dense layer with 128 nodes\n",
        "        Dropout(0.2),                    # Dropout regularization to prevent overfitting\n",
        "        Dense(10, activation='softmax')  # Output layer with 10 nodes (for 10 classes)\n",
        "    ])\n",
        "    model.compile(\n",
        "        optimizer=Adam(),\n",
        "        loss=SparseCategoricalCrossentropy(),\n",
        "        metrics=['accuracy']\n",
        "    )\n",
        "    return model\n",
        "\n",
        "# Data augmentation using ImageDataGenerator\n",
        "datagen = ImageDataGenerator(\n",
        "    rotation_range=10,\n",
        "    width_shift_range=0.1,\n",
        "    height_shift_range=0.1,\n",
        "    shear_range=0.1,\n",
        "    zoom_range=0.1,\n",
        "    horizontal_flip=False,  # No horizontal flips for digit classification\n",
        "    fill_mode='nearest'\n",
        ")\n",
        "\n",
        "# Fit the data augmentation generator to the training data\n",
        "datagen.fit(X_train.reshape(-1, 28, 28, 1))  # Reshape to match expected 4D input for data augmentation\n",
        "\n",
        "# Example: Train a convolutional model (assuming `model_1_conv` is predefined)\n",
        "# model_1_conv.fit(datagen.flow(X_train.reshape(-1, 28, 28, 1), y_train, batch_size=32),\n",
        "#                  epochs=5, validation_data=(X_test.reshape(-1, 28, 28, 1), y_test))\n",
        "\n",
        "# Cross-validation with KFold\n",
        "kf = KFold(n_splits=5, shuffle=True, random_state=42)\n",
        "val_accuracies = []\n",
        "\n",
        "for train_index, val_index in kf.split(X_train):\n",
        "    X_train_fold, X_val_fold = X_train[train_index], X_train[val_index]\n",
        "    y_train_fold, y_val_fold = y_train[train_index], y_train[val_index]\n",
        "\n",
        "    model = create_model()\n",
        "    model.fit(X_train_fold, y_train_fold, epochs=5, verbose=0)  # Silent training\n",
        "\n",
        "    val_loss, val_accuracy = model.evaluate(X_val_fold, y_val_fold, verbose=0)\n",
        "    val_accuracies.append(val_accuracy)\n",
        "\n",
        "# Calculate the average validation accuracy\n",
        "average_val_accuracy = np.mean(val_accuracies)\n",
        "print(f'Average Validation Accuracy: {average_val_accuracy:.4f}')\n",
        "\n",
        "# Final model training on full dataset\n",
        "final_model = create_model()\n",
        "history = final_model.fit(X_train, y_train, epochs=5, verbose=1)\n",
        "\n",
        "# Evaluate on the external validation dataset\n",
        "test_loss, test_accuracy = final_model.evaluate(X_test2, y_test2, verbose=1)\n",
        "print(f'Test Accuracy on External Validation Dataset: {test_accuracy:.4f}')\n",
        "\n",
        "plt.figure(figsize=(8, 6))\n",
        "plt.plot(history.history['accuracy'], label='Training Accuracy')\n",
        "plt.plot(history.history['val_accuracy'], label='Validation Accuracy')\n",
        "plt.title('Model Accuracy Over Epochs')\n",
        "plt.xlabel('Epochs')\n",
        "plt.ylabel('Accuracy')\n",
        "plt.legend()\n",
        "plt.grid(True)\n",
        "plt.show()\n"
      ]
    },
    {
      "cell_type": "code",
      "source": [
        "\"\"\"SNN trained and fitted to evaluate accuracy on mnist\"\"\"\n",
        "\n",
        "# Define the Spiking Neural Network (SNN) model and\n",
        "class SpikingMNISTClassifier(nn.Module):\n",
        "    def __init__(self, timesteps):\n",
        "        super().__init__()\n",
        "        self.timesteps = timesteps\n",
        "        self.conv1 = nn.Conv2d(1, 16, kernel_size=3, padding=1)\n",
        "        self.lif1 = snn.Leaky(beta=0.9)  # Use biologically plausible LIF neuron\n",
        "        self.conv2 = nn.Conv2d(16, 32, kernel_size=3, padding=1)\n",
        "        self.lif2 = snn.Leaky(beta=0.9)\n",
        "        self.fc1 = None  # Will be dynamically set\n",
        "        self.lif3 = snn.Leaky(beta=0.9)\n",
        "        self.fc2 = nn.Linear(128, 10)\n",
        "        self.lif4 = snn.Leaky(beta=0.9)  # Output layer with LIF neurons\n",
        "\n",
        "    def forward(self, x):\n",
        "        # Initialize hidden states\n",
        "        mem1 = self.lif1.init_leaky()\n",
        "        mem2 = self.lif2.init_leaky()\n",
        "        mem3 = self.lif3.init_leaky()\n",
        "        mem4 = self.lif4.init_leaky()\n",
        "\n",
        "        spk_rec = []\n",
        "        for t in range(self.timesteps):\n",
        "            cur1 = self.conv1(x)\n",
        "            spk1, mem1 = self.lif1(cur1, mem1)\n",
        "            cur2 = self.conv2(spk1)\n",
        "            spk2, mem2 = self.lif2(cur2, mem2)\n",
        "            cur2 = torch.flatten(spk2, 1)  # Flatten the output of conv layers\n",
        "            cur3 = self.fc1(cur2)          # Apply dynamically set fully connected layer\n",
        "            spk3, mem3 = self.lif3(cur3, mem3)\n",
        "            cur4 = self.fc2(spk3)\n",
        "            spk4, mem4 = self.lif4(cur4, mem4)\n",
        "            spk_rec.append(spk4)\n",
        "\n",
        "        return torch.stack(spk_rec, dim=0).sum(dim=0)  # Sum spikes over time\n",
        "\n",
        "    def set_fc1_input_size(self, input_size):\n",
        "        \"\"\"Dynamically set fc1 input size based on flattened output from conv2.\"\"\"\n",
        "        self.fc1 = nn.Linear(input_size, 128)\n",
        "\n",
        "\n",
        "# Data loading and preprocessing\n",
        "transform = transforms.Compose([\n",
        "    transforms.ToTensor(),\n",
        "    transforms.Normalize((0.1307,), (0.3081,))\n",
        "])\n",
        "\n",
        "# Load MNIST data\n",
        "train_dataset = datasets.MNIST('./data', train=True, download=True, transform=transform)\n",
        "test_dataset = datasets.MNIST('./data', train=False, transform=transform)\n",
        "\n",
        "# Create dataloaders\n",
        "train_loader = DataLoader(train_dataset, batch_size=64, shuffle=True)\n",
        "test_loader = DataLoader(test_dataset, batch_size=64, shuffle=False)\n",
        "\n",
        "\n",
        "# Model initialization and training setup\n",
        "device = torch.device(\"cuda\" if torch.cuda.is_available() else \"cpu\")\n",
        "timesteps = 10  # Simulate for 10 timesteps\n",
        "model = SpikingMNISTClassifier(timesteps).to(device)\n",
        "\n",
        "# Dynamically calculate the input size for fc1\n",
        "dummy_input = torch.zeros(1, 1, 28, 28).to(device)  # Example input\n",
        "with torch.no_grad():\n",
        "    conv_output = model.conv2(model.lif1(model.conv1(dummy_input))[0])\n",
        "    flattened_size = torch.flatten(conv_output, 1).shape[1]\n",
        "    model.set_fc1_input_size(flattened_size)\n",
        "\n",
        "optimizer = optim.Adam(model.parameters(), lr=1e-3)\n",
        "loss_fn = nn.CrossEntropyLoss()\n",
        "\n",
        "# Training loop with device consistency checks\n",
        "epochs = 5\n",
        "for epoch in range(epochs):\n",
        "    for data, targets in train_loader:\n",
        "        # Move data and targets to the same device as the model\n",
        "        data, targets = data.to(device), targets.to(device)\n",
        "        # Ensure model is on the correct device\n",
        "        model.to(device)\n",
        "        optimizer.zero_grad()\n",
        "        output = model(data)  # Model output\n",
        "        loss = loss_fn(output, targets)  # Compute loss\n",
        "        loss.backward()  # Backpropagation\n",
        "        optimizer.step()  # Update weights\n",
        "\n",
        "    print(f'Epoch: {epoch+1}, Loss: {loss.item():.4f}')\n",
        "\n",
        "# Test loop\n",
        "correct = 0\n",
        "total = 0\n",
        "with torch.no_grad():\n",
        "    for data, targets in test_loader:\n",
        "        # Move test data and targets to the same device as the model\n",
        "        data, targets = data.to(device), targets.to(device)\n",
        "        outputs = model(data)  # Model predictions\n",
        "        _, predicted = torch.max(outputs.data, 1)  # Predicted classes\n",
        "        total += targets.size(0)\n",
        "        correct += (predicted == targets).sum().item()\n",
        "\n",
        "print('Test Accuracy: {:.2f}%'.format(100 * correct / total))\n",
        "\n"
      ],
      "metadata": {
        "colab": {
          "base_uri": "https://localhost:8080/"
        },
        "id": "A-x1plSPpA0W",
        "outputId": "c54facdc-f716-461e-c343-f6ca4bf631ab"
      },
      "execution_count": 21,
      "outputs": [
        {
          "output_type": "stream",
          "name": "stdout",
          "text": [
            "Epoch: 1, Loss: 0.1765\n",
            "Epoch: 2, Loss: 0.1339\n",
            "Epoch: 3, Loss: 0.0031\n",
            "Epoch: 4, Loss: 0.0038\n",
            "Epoch: 5, Loss: 0.0017\n",
            "Test Accuracy: 98.44%\n"
          ]
        }
      ]
    },
    {
      "cell_type": "code",
      "source": [
        "#training the model on mnist and then checking how accurate it is on our dataset\n",
        "\n",
        "# Define the Spiking Neural Network (SNN) model\n",
        "class SpikingMNISTClassifier(nn.Module):\n",
        "    def __init__(self, timesteps):\n",
        "        super().__init__()\n",
        "        self.timesteps = timesteps\n",
        "        self.conv1 = nn.Conv2d(1, 16, kernel_size=3, padding=1)\n",
        "        self.lif1 = snn.Leaky(beta=0.9)\n",
        "        self.conv2 = nn.Conv2d(16, 32, kernel_size=3, padding=1)\n",
        "        self.lif2 = snn.Leaky(beta=0.9)\n",
        "        self.fc1 = None  # Will be dynamically set\n",
        "        self.lif3 = snn.Leaky(beta=0.9)\n",
        "        self.fc2 = nn.Linear(128, 10)\n",
        "        self.lif4 = snn.Leaky(beta=0.9)\n",
        "\n",
        "    def forward(self, x):\n",
        "        # Initialize hidden states\n",
        "        mem1, mem2, mem3, mem4 = self.lif1.init_leaky(), self.lif2.init_leaky(), self.lif3.init_leaky(), self.lif4.init_leaky()\n",
        "        spk_rec = []\n",
        "        for t in range(self.timesteps):\n",
        "            cur1 = self.conv1(x)\n",
        "            spk1, mem1 = self.lif1(cur1, mem1)\n",
        "            cur2 = self.conv2(spk1)\n",
        "            spk2, mem2 = self.lif2(cur2, mem2)\n",
        "            cur2 = torch.flatten(spk2, 1)  # Flatten output of conv2\n",
        "            cur3 = self.fc1(cur2)          # Pass through fully connected layer\n",
        "            spk3, mem3 = self.lif3(cur3, mem3)\n",
        "            cur4 = self.fc2(spk3)\n",
        "            spk4, mem4 = self.lif4(cur4, mem4)\n",
        "            spk_rec.append(spk4)\n",
        "        return torch.stack(spk_rec, dim=0).sum(dim=0)  # Sum spikes over time\n",
        "\n",
        "    def set_fc1_input_size(self, input_size):\n",
        "        \"\"\"Dynamically set the input size of fc1.\"\"\"\n",
        "        self.fc1 = nn.Linear(input_size, 128)\n",
        "\n",
        "# Initialize the model\n",
        "device = torch.device(\"cuda\" if torch.cuda.is_available() else \"cpu\")\n",
        "timesteps = 10\n",
        "model = SpikingMNISTClassifier(timesteps).to(device)\n",
        "\n",
        "# Dynamically calculate and set the input size for fc1\n",
        "dummy_input = torch.zeros(1, 1, 28, 28).to(device)  # Example input\n",
        "with torch.no_grad():\n",
        "    conv_output = model.conv2(model.lif1(model.conv1(dummy_input))[0])\n",
        "    flattened_size = torch.flatten(conv_output, 1).shape[1]\n",
        "    model.set_fc1_input_size(flattened_size)\n",
        "\n",
        "# Save the trained model properly (with fc1 initialized)\n",
        "torch.save(model.state_dict(), './spiking_mnist_model.pth')\n",
        "\n",
        "# Load external datasets\n",
        "X_test2 = torch.Tensor(np.load('./digits_X.npy')).float()\n",
        "y_test2 = torch.Tensor(np.load('./digits_y.npy')).long()\n",
        "\n",
        "# Normalize and reshape the external datasets\n",
        "X_test2 = X_test2 / 255.0\n",
        "X_test2 = X_test2.unsqueeze(1)  # Add a channel dimension for grayscale images\n",
        "\n",
        "# Create a DataLoader for the external dataset\n",
        "test_dataset = TensorDataset(X_test2, y_test2)\n",
        "test_loader = DataLoader(test_dataset, batch_size=64, shuffle=False)\n",
        "\n",
        "# Load the trained model\n",
        "model = SpikingMNISTClassifier(timesteps=10).to(device)\n",
        "model.set_fc1_input_size(flattened_size)  # Ensure fc1 is set before loading weights\n",
        "model.load_state_dict(torch.load('./spiking_mnist_model.pth', map_location=device))\n",
        "model.eval()\n",
        "model.to(device)\n",
        "# Test accuracy on the external dataset\n",
        "correct, total = 0, 0\n",
        "with torch.no_grad():\n",
        "    for data, targets in test_loader:\n",
        "        data, targets = data.to(device), targets.to(device)\n",
        "\n",
        "        outputs = model(data)\n",
        "        _, predicted = torch.max(outputs.data, 1)\n",
        "        total += targets.size(0)\n",
        "        correct += (predicted == targets).sum().item()\n",
        "\n",
        "# Print the test accuracy\n",
        "print('Test Accuracy on External Dataset: {:.2f}%'.format(100 * correct / total))\n",
        "\n"
      ],
      "metadata": {
        "colab": {
          "base_uri": "https://localhost:8080/"
        },
        "id": "r_AatSdGx9R-",
        "outputId": "996ccecf-9110-4f4e-b2bd-ffb8ea499bf3"
      },
      "execution_count": 31,
      "outputs": [
        {
          "output_type": "stream",
          "name": "stdout",
          "text": [
            "Test Accuracy on External Dataset: 10.00%\n"
          ]
        },
        {
          "output_type": "stream",
          "name": "stderr",
          "text": [
            "<ipython-input-31-31b11c394839>:72: FutureWarning: You are using `torch.load` with `weights_only=False` (the current default value), which uses the default pickle module implicitly. It is possible to construct malicious pickle data which will execute arbitrary code during unpickling (See https://github.com/pytorch/pytorch/blob/main/SECURITY.md#untrusted-models for more details). In a future release, the default value for `weights_only` will be flipped to `True`. This limits the functions that could be executed during unpickling. Arbitrary objects will no longer be allowed to be loaded via this mode unless they are explicitly allowlisted by the user via `torch.serialization.add_safe_globals`. We recommend you start setting `weights_only=True` for any use case where you don't have full control of the loaded file. Please open an issue on GitHub for any issues related to this experimental feature.\n",
            "  model.load_state_dict(torch.load('./spiking_mnist_model.pth', map_location=device))\n"
          ]
        }
      ]
    },
    {
      "cell_type": "code",
      "source": [
        "# prompt: Now train the SNN model on the X_test2 = torch.Tensor(np.load('./digits_X.npy')).float()\n",
        "# y_test2 = torch.Tensor(np.load('./digits_y.npy')).long(). do kfold cross validation and also give the accuracy of teh testing set after training\n",
        "\n",
        "import torch\n",
        "import torch.nn as nn\n",
        "import torch.optim as optim\n",
        "from torch.utils.data import DataLoader, TensorDataset\n",
        "import numpy as np\n",
        "from sklearn.model_selection import KFold\n",
        "\n",
        "# Assuming SpikingMNISTClassifier and other necessary components are defined as in the previous code\n",
        "\n",
        "# Load the external datasets\n",
        "X_test2 = torch.Tensor(np.load('./digits_X.npy')).float()\n",
        "y_test2 = torch.Tensor(np.load('./digits_y.npy')).long()\n",
        "\n",
        "# Normalize and reshape\n",
        "X_test2 = X_test2 / 255.0\n",
        "X_test2 = X_test2.unsqueeze(1)\n",
        "\n",
        "# Create dataset and dataloader for k-fold\n",
        "dataset = TensorDataset(X_test2, y_test2)\n",
        "\n",
        "# Define k-fold cross-validation parameters\n",
        "k_folds = 5\n",
        "kfold = KFold(n_splits=k_folds, shuffle=True, random_state=42)\n",
        "\n",
        "# Initialize lists to store results\n",
        "fold_accuracies = []\n",
        "\n",
        "\n",
        "# K-fold cross-validation\n",
        "for fold, (train_idx, test_idx) in enumerate(kfold.split(dataset)):\n",
        "    print(f\"Fold {fold + 1}/{k_folds}\")\n",
        "\n",
        "    # Split data into train/test sets for this fold\n",
        "    train_subset = torch.utils.data.Subset(dataset, train_idx)\n",
        "    test_subset = torch.utils.data.Subset(dataset, test_idx)\n",
        "    train_loader = DataLoader(train_subset, batch_size=64, shuffle=True)\n",
        "    test_loader = DataLoader(test_subset, batch_size=64, shuffle=False)\n",
        "\n",
        "    # Initialize model, optimizer, and loss function\n",
        "    device = torch.device(\"cuda\" if torch.cuda.is_available() else \"cpu\")\n",
        "    timesteps = 10  # Number of timesteps for simulation\n",
        "    model = SpikingMNISTClassifier(timesteps).to(device)\n",
        "\n",
        "    # Dynamically set input size for fc1 (this part is crucial and needs to be included in your training loop as well)\n",
        "    dummy_input = torch.zeros(1, 1, 28, 28).to(device)\n",
        "    with torch.no_grad():\n",
        "        conv_output = model.conv2(model.lif1(model.conv1(dummy_input))[0])\n",
        "        flattened_size = torch.flatten(conv_output, 1).shape[1]\n",
        "        model.set_fc1_input_size(flattened_size)\n",
        "\n",
        "\n",
        "    optimizer = optim.Adam(model.parameters(), lr=0.001)\n",
        "    loss_fn = nn.CrossEntropyLoss()\n",
        "    model.to(device)\n",
        "    # Training loop\n",
        "    epochs = 5 # You may need to adjust epochs\n",
        "    for epoch in range(epochs):\n",
        "      for data, targets in train_loader:\n",
        "          data, targets = data.to(device), targets.to(device)\n",
        "          optimizer.zero_grad()\n",
        "          outputs = model(data)\n",
        "          loss = loss_fn(outputs, targets)\n",
        "          loss.backward()\n",
        "          optimizer.step()\n",
        "\n",
        "      print(f\"Fold {fold+1}, Epoch {epoch+1}/{epochs}, Loss: {loss.item():.4f}\")\n",
        "\n",
        "    # Testing loop\n",
        "    correct = 0\n",
        "    total = 0\n",
        "    with torch.no_grad():\n",
        "        for data, targets in test_loader:\n",
        "            data, targets = data.to(device), targets.to(device)\n",
        "            outputs = model(data)\n",
        "            _, predicted = torch.max(outputs.data, 1)\n",
        "            total += targets.size(0)\n",
        "            correct += (predicted == targets).sum().item()\n",
        "\n",
        "    accuracy = 100 * correct / total\n",
        "    fold_accuracies.append(accuracy)\n",
        "    print(f\"Fold {fold+1} Accuracy: {accuracy:.2f}%\")\n",
        "\n",
        "# Average accuracy over all folds\n",
        "avg_accuracy = sum(fold_accuracies) / len(fold_accuracies)\n",
        "print(f\"Average accuracy across all folds: {avg_accuracy:.2f}%\")\n"
      ],
      "metadata": {
        "colab": {
          "base_uri": "https://localhost:8080/"
        },
        "id": "SB7qDJ_m2kta",
        "outputId": "12c747b9-309c-4f35-fbf7-1e1dda52fa1a"
      },
      "execution_count": 33,
      "outputs": [
        {
          "output_type": "stream",
          "name": "stdout",
          "text": [
            "Fold 1/5\n",
            "Fold 1, Epoch 1/5, Loss: 2.3026\n",
            "Fold 1, Epoch 2/5, Loss: 1.5494\n",
            "Fold 1, Epoch 3/5, Loss: 0.8864\n",
            "Fold 1, Epoch 4/5, Loss: 0.5661\n",
            "Fold 1, Epoch 5/5, Loss: 0.3407\n",
            "Fold 1 Accuracy: 84.48%\n",
            "Fold 2/5\n",
            "Fold 2, Epoch 1/5, Loss: 2.3026\n",
            "Fold 2, Epoch 2/5, Loss: 1.5536\n",
            "Fold 2, Epoch 3/5, Loss: 0.5884\n",
            "Fold 2, Epoch 4/5, Loss: 0.3730\n",
            "Fold 2, Epoch 5/5, Loss: 0.3646\n",
            "Fold 2 Accuracy: 81.03%\n",
            "Fold 3/5\n",
            "Fold 3, Epoch 1/5, Loss: 2.2114\n",
            "Fold 3, Epoch 2/5, Loss: 1.1399\n",
            "Fold 3, Epoch 3/5, Loss: 0.6460\n",
            "Fold 3, Epoch 4/5, Loss: 0.3063\n",
            "Fold 3, Epoch 5/5, Loss: 0.2396\n",
            "Fold 3 Accuracy: 70.69%\n",
            "Fold 4/5\n",
            "Fold 4, Epoch 1/5, Loss: 2.2745\n",
            "Fold 4, Epoch 2/5, Loss: 1.1317\n",
            "Fold 4, Epoch 3/5, Loss: 0.5094\n",
            "Fold 4, Epoch 4/5, Loss: 0.3189\n",
            "Fold 4, Epoch 5/5, Loss: 0.1820\n",
            "Fold 4 Accuracy: 75.86%\n",
            "Fold 5/5\n",
            "Fold 5, Epoch 1/5, Loss: 2.1510\n",
            "Fold 5, Epoch 2/5, Loss: 1.6213\n",
            "Fold 5, Epoch 3/5, Loss: 1.0362\n",
            "Fold 5, Epoch 4/5, Loss: 0.7179\n",
            "Fold 5, Epoch 5/5, Loss: 0.3224\n",
            "Fold 5 Accuracy: 81.03%\n",
            "Average accuracy across all folds: 78.62%\n"
          ]
        }
      ]
    }
  ],
  "metadata": {
    "kernelspec": {
      "display_name": "Python 3",
      "name": "python3"
    },
    "language_info": {
      "codemirror_mode": {
        "name": "ipython",
        "version": 3
      },
      "file_extension": ".py",
      "mimetype": "text/x-python",
      "name": "python",
      "nbconvert_exporter": "python",
      "pygments_lexer": "ipython3",
      "version": "3.11.9"
    },
    "colab": {
      "provenance": [],
      "gpuType": "T4",
      "include_colab_link": true
    },
    "accelerator": "GPU"
  },
  "nbformat": 4,
  "nbformat_minor": 0
}