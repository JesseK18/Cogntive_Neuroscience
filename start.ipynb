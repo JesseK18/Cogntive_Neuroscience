{
  "cells": [
    {
      "cell_type": "markdown",
      "metadata": {
        "id": "view-in-github",
        "colab_type": "text"
      },
      "source": [
        "<a href=\"https://colab.research.google.com/github/JesseK18/Cogntive_Neuroscience/blob/main/start.ipynb\" target=\"_parent\"><img src=\"https://colab.research.google.com/assets/colab-badge.svg\" alt=\"Open In Colab\"/></a>"
      ]
    },
    {
      "cell_type": "markdown",
      "metadata": {
        "id": "FrfKx63UZ4QT"
      },
      "source": [
        "# Coding for COGNEURO\n"
      ]
    },
    {
      "cell_type": "code",
      "execution_count": 10,
      "metadata": {
        "collapsed": true,
        "id": "lLWiBxJ5Z4QW",
        "outputId": "ebec4a12-f6da-4eac-b3df-3ae8b04de885",
        "colab": {
          "base_uri": "https://localhost:8080/"
        }
      },
      "outputs": [
        {
          "output_type": "stream",
          "name": "stdout",
          "text": [
            "/bin/bash: line 1: conda: command not found\n",
            "Requirement already satisfied: snntorch in /usr/local/lib/python3.10/dist-packages (0.9.1)\n",
            "Requirement already satisfied: torch>=1.1.0 in /usr/local/lib/python3.10/dist-packages (from snntorch) (2.5.1+cu121)\n",
            "Requirement already satisfied: pandas in /usr/local/lib/python3.10/dist-packages (from snntorch) (2.2.2)\n",
            "Requirement already satisfied: matplotlib in /usr/local/lib/python3.10/dist-packages (from snntorch) (3.8.0)\n",
            "Requirement already satisfied: numpy>=1.17 in /usr/local/lib/python3.10/dist-packages (from snntorch) (1.26.4)\n",
            "Requirement already satisfied: nir in /usr/local/lib/python3.10/dist-packages (from snntorch) (1.0.4)\n",
            "Requirement already satisfied: nirtorch in /usr/local/lib/python3.10/dist-packages (from snntorch) (1.0)\n",
            "Requirement already satisfied: filelock in /usr/local/lib/python3.10/dist-packages (from torch>=1.1.0->snntorch) (3.16.1)\n",
            "Requirement already satisfied: typing-extensions>=4.8.0 in /usr/local/lib/python3.10/dist-packages (from torch>=1.1.0->snntorch) (4.12.2)\n",
            "Requirement already satisfied: networkx in /usr/local/lib/python3.10/dist-packages (from torch>=1.1.0->snntorch) (3.4.2)\n",
            "Requirement already satisfied: jinja2 in /usr/local/lib/python3.10/dist-packages (from torch>=1.1.0->snntorch) (3.1.4)\n",
            "Requirement already satisfied: fsspec in /usr/local/lib/python3.10/dist-packages (from torch>=1.1.0->snntorch) (2024.10.0)\n",
            "Requirement already satisfied: sympy==1.13.1 in /usr/local/lib/python3.10/dist-packages (from torch>=1.1.0->snntorch) (1.13.1)\n",
            "Requirement already satisfied: mpmath<1.4,>=1.1.0 in /usr/local/lib/python3.10/dist-packages (from sympy==1.13.1->torch>=1.1.0->snntorch) (1.3.0)\n",
            "Requirement already satisfied: contourpy>=1.0.1 in /usr/local/lib/python3.10/dist-packages (from matplotlib->snntorch) (1.3.1)\n",
            "Requirement already satisfied: cycler>=0.10 in /usr/local/lib/python3.10/dist-packages (from matplotlib->snntorch) (0.12.1)\n",
            "Requirement already satisfied: fonttools>=4.22.0 in /usr/local/lib/python3.10/dist-packages (from matplotlib->snntorch) (4.55.0)\n",
            "Requirement already satisfied: kiwisolver>=1.0.1 in /usr/local/lib/python3.10/dist-packages (from matplotlib->snntorch) (1.4.7)\n",
            "Requirement already satisfied: packaging>=20.0 in /usr/local/lib/python3.10/dist-packages (from matplotlib->snntorch) (24.2)\n",
            "Requirement already satisfied: pillow>=6.2.0 in /usr/local/lib/python3.10/dist-packages (from matplotlib->snntorch) (11.0.0)\n",
            "Requirement already satisfied: pyparsing>=2.3.1 in /usr/local/lib/python3.10/dist-packages (from matplotlib->snntorch) (3.2.0)\n",
            "Requirement already satisfied: python-dateutil>=2.7 in /usr/local/lib/python3.10/dist-packages (from matplotlib->snntorch) (2.8.2)\n",
            "Requirement already satisfied: h5py in /usr/local/lib/python3.10/dist-packages (from nir->snntorch) (3.12.1)\n",
            "Requirement already satisfied: pytz>=2020.1 in /usr/local/lib/python3.10/dist-packages (from pandas->snntorch) (2024.2)\n",
            "Requirement already satisfied: tzdata>=2022.7 in /usr/local/lib/python3.10/dist-packages (from pandas->snntorch) (2024.2)\n",
            "Requirement already satisfied: six>=1.5 in /usr/local/lib/python3.10/dist-packages (from python-dateutil>=2.7->matplotlib->snntorch) (1.16.0)\n",
            "Requirement already satisfied: MarkupSafe>=2.0 in /usr/local/lib/python3.10/dist-packages (from jinja2->torch>=1.1.0->snntorch) (3.0.2)\n"
          ]
        }
      ],
      "source": [
        "! conda install -c conda-forge tensorflow\n",
        "!pip install snntorch\n"
      ]
    },
    {
      "cell_type": "code",
      "execution_count": 11,
      "metadata": {
        "id": "yetLT1paZ4QY"
      },
      "outputs": [],
      "source": [
        "# Importing used packages\n",
        "import matplotlib.pyplot as plt\n",
        "import pandas as pd\n",
        "import numpy as np\n",
        "import tensorflow as tf\n",
        "from sklearn.model_selection import KFold\n",
        "from tensorflow.keras.models import Sequential\n",
        "from tensorflow.keras.layers import Dense, Flatten\n",
        "from tensorflow.keras.layers import Conv2D, MaxPooling2D\n",
        "from tensorflow.keras.optimizers import Adam\n",
        "from tensorflow.keras.losses import SparseCategoricalCrossentropy\n",
        "from tensorflow.keras.metrics import Accuracy\n",
        "from tensorflow.keras.layers import Dropout\n",
        "from tensorflow.keras.preprocessing.image import ImageDataGenerator\n",
        "from tensorflow.keras.datasets import mnist\n",
        "\n",
        "\n",
        "import snntorch as snn\n",
        "import torch\n",
        "import torch.nn as nn\n",
        "from torch.utils.data import TensorDataset\n",
        "from torch.utils.data import DataLoader\n",
        "from torchvision import datasets, transforms\n",
        "import torch.optim as optim\n",
        "\n"
      ]
    },
    {
      "cell_type": "markdown",
      "source": [
        "# Loading external data\n"
      ],
      "metadata": {
        "id": "h7DGWjHZJ3QD"
      }
    },
    {
      "cell_type": "code",
      "execution_count": 12,
      "metadata": {
        "colab": {
          "base_uri": "https://localhost:8080/"
        },
        "collapsed": true,
        "id": "v4c5owuyZ4Qa",
        "outputId": "0169f048-ce47-4a72-ebfc-92b4a807f808"
      },
      "outputs": [
        {
          "output_type": "stream",
          "name": "stdout",
          "text": [
            "[[[0 0 0 ... 0 0 0]\n",
            "  [0 0 0 ... 0 0 0]\n",
            "  [0 0 0 ... 0 0 0]\n",
            "  ...\n",
            "  [0 0 0 ... 0 0 0]\n",
            "  [0 0 0 ... 0 0 0]\n",
            "  [0 0 0 ... 0 0 0]]\n",
            "\n",
            " [[0 0 0 ... 2 0 0]\n",
            "  [0 0 0 ... 0 0 0]\n",
            "  [0 0 0 ... 0 0 0]\n",
            "  ...\n",
            "  [0 0 0 ... 0 0 0]\n",
            "  [0 0 0 ... 0 0 0]\n",
            "  [0 0 0 ... 0 0 0]]\n",
            "\n",
            " [[0 0 0 ... 0 0 0]\n",
            "  [0 0 0 ... 0 0 0]\n",
            "  [0 0 0 ... 0 0 0]\n",
            "  ...\n",
            "  [0 0 0 ... 0 0 0]\n",
            "  [0 0 0 ... 0 0 0]\n",
            "  [0 0 0 ... 0 0 0]]\n",
            "\n",
            " [[0 0 0 ... 0 0 0]\n",
            "  [0 0 0 ... 0 0 0]\n",
            "  [0 0 0 ... 1 1 0]\n",
            "  ...\n",
            "  [0 0 0 ... 0 0 0]\n",
            "  [0 0 0 ... 0 0 0]\n",
            "  [0 0 0 ... 0 0 0]]\n",
            "\n",
            " [[0 0 0 ... 0 0 0]\n",
            "  [0 0 0 ... 0 0 0]\n",
            "  [0 0 0 ... 0 0 0]\n",
            "  ...\n",
            "  [0 0 0 ... 0 0 0]\n",
            "  [0 0 0 ... 0 0 0]\n",
            "  [0 0 0 ... 0 0 0]]]\n",
            "[0 1 2 3 4]\n",
            "Shape of df_X: (290, 784)\n",
            "Shape of df_y: (290, 1)\n",
            "    0    1    2    3    4    5    6    7    8    9    ...  774  775  776  777  \\\n",
            "0     0    0    0    0    0    0    0    0    0    0  ...    0    0    0    0   \n",
            "1     0    0    0    0    0    0    0    0    0    0  ...    0    0    0    0   \n",
            "2     0    0    0    0    0    0    0    1    1    0  ...    0    0    0    0   \n",
            "3     0    0    0    0    0    0    0    0    0    0  ...    0    0    0    0   \n",
            "4     0    0    0    0    0    0    0    0    0    0  ...    0    0    0    0   \n",
            "5     0    0    0    0    0    0    0    0    0    0  ...    0    0    0    0   \n",
            "6     0    0    0    0    0    0    0    0    0    0  ...    0    0    0    0   \n",
            "7     0    0    0    0    0    0    0    0    0    0  ...    0    0    0    0   \n",
            "8     0    0    0    0    0    0    0    0    0    0  ...    0    0    0    0   \n",
            "9     0    0    0    0    0    0    0    0    0    0  ...    0    0    0    0   \n",
            "10    0    0    0    0    0    0    0    0    0    0  ...    0    0    0    0   \n",
            "11    0    0    0    0    0    0    0    0    0    0  ...    0    0    0    0   \n",
            "12    0    0    0    0    0    0    0    0    0    0  ...    0    0    0    0   \n",
            "13    0    0    0    0    0    0    0    0    0    0  ...    0    0    0    0   \n",
            "14    0    0    0    0    0    0    0    0    0    0  ...    0    0    0    0   \n",
            "15    0    0    0    0    0    0    0    0    0    0  ...    0    0    0    0   \n",
            "16    1    1    0    0    0    0    0    0    0    0  ...    0    0    0    0   \n",
            "17    0    0    0    0    0    0    0    0    0    0  ...    0    0    0    0   \n",
            "18    0    0    0    0    0    0    0    0    0    0  ...    0    0    0    0   \n",
            "19    0    0    0    0    0    0    0    0    0    0  ...    0    0    0    0   \n",
            "\n",
            "    778  779  780  781  782  783  \n",
            "0     0    0    0    0    0    0  \n",
            "1     0    0    0    0    0    0  \n",
            "2     0    0    0    0    0    0  \n",
            "3     0    0    0    0    0    0  \n",
            "4     0    0    0    0    0    0  \n",
            "5     0    0    0    0    0    0  \n",
            "6     0    0    0    0    0    0  \n",
            "7     0    0    0    0    0    0  \n",
            "8     0    1    1    2    2    0  \n",
            "9     0    0    0    0    0    0  \n",
            "10    0    0    0    0    0    0  \n",
            "11    0    0    0    0    0    0  \n",
            "12    0    0    0    0    0    0  \n",
            "13    0    0    0    0    0    0  \n",
            "14    0    0    0    0    0    0  \n",
            "15    0    0    0    0    0    0  \n",
            "16    0    0    0    0    0    0  \n",
            "17    0    0    0    0    0    0  \n",
            "18    0    0    0    0    0    0  \n",
            "19    0    0    0    0    0    0  \n",
            "\n",
            "[20 rows x 784 columns]\n",
            "    Label\n",
            "0       0\n",
            "1       1\n",
            "2       2\n",
            "3       3\n",
            "4       4\n",
            "5       5\n",
            "6       6\n",
            "7       7\n",
            "8       8\n",
            "9       9\n",
            "10      0\n",
            "11      1\n",
            "12      2\n",
            "13      3\n",
            "14      4\n",
            "15      5\n",
            "16      6\n",
            "17      7\n",
            "18      8\n",
            "19      9\n"
          ]
        }
      ],
      "source": [
        "\n",
        "digits_X = np.load('digits_X.npy')\n",
        "digits_y = np.load('digits_y.npy')\n",
        "\n",
        "# Print the first few rows to confirm the data\n",
        "print(digits_X[:5])  # For large arrays, show only the first 5 rows\n",
        "print(digits_y[:5])\n",
        "\n",
        "# Reshape the feature matrix to 2D\n",
        "digits_X_reshaped = digits_X.reshape(digits_X.shape[0], -1)\n",
        "\n",
        "# Convert to DataFrame\n",
        "df_X = pd.DataFrame(digits_X_reshaped)\n",
        "df_y = pd.DataFrame(digits_y, columns=['Label'])\n",
        "print(\"Shape of df_X:\", df_X.shape)\n",
        "print(\"Shape of df_y:\", df_y.shape)\n",
        "print(df_X.head(20))  # First 5 rows of the feature matrix\n",
        "\n",
        "print(df_y.head(20))  # First 5 labels\n"
      ]
    },
    {
      "cell_type": "code",
      "execution_count": null,
      "metadata": {
        "colab": {
          "base_uri": "https://localhost:8080/",
          "height": 284
        },
        "id": "jVqIoQ3xZ4Qb",
        "outputId": "73325023-162b-456e-d03d-4f2afe6ebb58"
      },
      "outputs": [
        {
          "output_type": "display_data",
          "data": {
            "text/plain": [
              "<Figure size 1500x600 with 40 Axes>"
            ],
            "image/png": "[encoded data removed]"
          },
          "metadata": {}
        }
      ],
      "source": [
        "\n",
        "# load. Ensure you get the path correct -- this code assumes the files are in the working directory\n",
        "X_test2 = np.load('./digits_X.npy')\n",
        "y_test2 = np.load('./digits_y.npy')\n",
        "\n",
        "# plot to see if loaded correctly\n",
        "f, ax = plt.subplots(4,10, figsize=(15,6))\n",
        "ax = ax.ravel()\n",
        "for i in range(40):\n",
        "    ax[i].imshow(X_test2[i,:,:], cmap='Greys_r')\n",
        "    ax[i].set_title(y_test2[i])\n",
        "    ax[i].axis('off')"
      ]
    },
    {
      "cell_type": "markdown",
      "source": [
        "# Creating 3 models accroding to the workgroup demands"
      ],
      "metadata": {
        "id": "fxGHI9sxKCFi"
      }
    },
    {
      "cell_type": "code",
      "execution_count": null,
      "metadata": {
        "colab": {
          "base_uri": "https://localhost:8080/",
          "height": 857
        },
        "id": "d5vAz78uZ4Qb",
        "outputId": "4f665f73-fe37-4348-a508-da279a9c2054"
      },
      "outputs": [
        {
          "output_type": "stream",
          "name": "stderr",
          "text": [
            "/usr/local/lib/python3.10/dist-packages/keras/src/layers/reshaping/flatten.py:37: UserWarning: Do not pass an `input_shape`/`input_dim` argument to a layer. When using Sequential models, prefer using an `Input(shape)` object as the first layer in the model instead.\n",
            "  super().__init__(**kwargs)\n"
          ]
        },
        {
          "output_type": "display_data",
          "data": {
            "text/plain": [
              "\u001b[1mModel: \"sequential\"\u001b[0m\n"
            ],
            "text/html": [
              "<pre style=\"white-space:pre;overflow-x:auto;line-height:normal;font-family:Menlo,'DejaVu Sans Mono',consolas,'Courier New',monospace\"><span style=\"font-weight: bold\">Model: \"sequential\"</span>\n",
              "</pre>\n"
            ]
          },
          "metadata": {}
        },
        {
          "output_type": "display_data",
          "data": {
            "text/plain": [
              "┏━━━━━━━━━━━━━━━━━━━━━━━━━━━━━━━━━━━━━━┳━━━━━━━━━━━━━━━━━━━━━━━━━━━━━┳━━━━━━━━━━━━━━━━━┓\n",
              "┃\u001b[1m \u001b[0m\u001b[1mLayer (type)                        \u001b[0m\u001b[1m \u001b[0m┃\u001b[1m \u001b[0m\u001b[1mOutput Shape               \u001b[0m\u001b[1m \u001b[0m┃\u001b[1m \u001b[0m\u001b[1m        Param #\u001b[0m\u001b[1m \u001b[0m┃\n",
              "┡━━━━━━━━━━━━━━━━━━━━━━━━━━━━━━━━━━━━━━╇━━━━━━━━━━━━━━━━━━━━━━━━━━━━━╇━━━━━━━━━━━━━━━━━┩\n",
              "│ flatten (\u001b[38;5;33mFlatten\u001b[0m)                    │ (\u001b[38;5;45mNone\u001b[0m, \u001b[38;5;34m784\u001b[0m)                 │               \u001b[38;5;34m0\u001b[0m │\n",
              "├──────────────────────────────────────┼─────────────────────────────┼─────────────────┤\n",
              "│ dense (\u001b[38;5;33mDense\u001b[0m)                        │ (\u001b[38;5;45mNone\u001b[0m, \u001b[38;5;34m128\u001b[0m)                 │         \u001b[38;5;34m100,480\u001b[0m │\n",
              "├──────────────────────────────────────┼─────────────────────────────┼─────────────────┤\n",
              "│ dense_1 (\u001b[38;5;33mDense\u001b[0m)                      │ (\u001b[38;5;45mNone\u001b[0m, \u001b[38;5;34m10\u001b[0m)                  │           \u001b[38;5;34m1,290\u001b[0m │\n",
              "└──────────────────────────────────────┴─────────────────────────────┴─────────────────┘\n"
            ],
            "text/html": [
              "<pre style=\"white-space:pre;overflow-x:auto;line-height:normal;font-family:Menlo,'DejaVu Sans Mono',consolas,'Courier New',monospace\">┏━━━━━━━━━━━━━━━━━━━━━━━━━━━━━━━━━━━━━━┳━━━━━━━━━━━━━━━━━━━━━━━━━━━━━┳━━━━━━━━━━━━━━━━━┓\n",
              "┃<span style=\"font-weight: bold\"> Layer (type)                         </span>┃<span style=\"font-weight: bold\"> Output Shape                </span>┃<span style=\"font-weight: bold\">         Param # </span>┃\n",
              "┡━━━━━━━━━━━━━━━━━━━━━━━━━━━━━━━━━━━━━━╇━━━━━━━━━━━━━━━━━━━━━━━━━━━━━╇━━━━━━━━━━━━━━━━━┩\n",
              "│ flatten (<span style=\"color: #0087ff; text-decoration-color: #0087ff\">Flatten</span>)                    │ (<span style=\"color: #00d7ff; text-decoration-color: #00d7ff\">None</span>, <span style=\"color: #00af00; text-decoration-color: #00af00\">784</span>)                 │               <span style=\"color: #00af00; text-decoration-color: #00af00\">0</span> │\n",
              "├──────────────────────────────────────┼─────────────────────────────┼─────────────────┤\n",
              "│ dense (<span style=\"color: #0087ff; text-decoration-color: #0087ff\">Dense</span>)                        │ (<span style=\"color: #00d7ff; text-decoration-color: #00d7ff\">None</span>, <span style=\"color: #00af00; text-decoration-color: #00af00\">128</span>)                 │         <span style=\"color: #00af00; text-decoration-color: #00af00\">100,480</span> │\n",
              "├──────────────────────────────────────┼─────────────────────────────┼─────────────────┤\n",
              "│ dense_1 (<span style=\"color: #0087ff; text-decoration-color: #0087ff\">Dense</span>)                      │ (<span style=\"color: #00d7ff; text-decoration-color: #00d7ff\">None</span>, <span style=\"color: #00af00; text-decoration-color: #00af00\">10</span>)                  │           <span style=\"color: #00af00; text-decoration-color: #00af00\">1,290</span> │\n",
              "└──────────────────────────────────────┴─────────────────────────────┴─────────────────┘\n",
              "</pre>\n"
            ]
          },
          "metadata": {}
        },
        {
          "output_type": "display_data",
          "data": {
            "text/plain": [
              "\u001b[1m Total params: \u001b[0m\u001b[38;5;34m101,770\u001b[0m (397.54 KB)\n"
            ],
            "text/html": [
              "<pre style=\"white-space:pre;overflow-x:auto;line-height:normal;font-family:Menlo,'DejaVu Sans Mono',consolas,'Courier New',monospace\"><span style=\"font-weight: bold\"> Total params: </span><span style=\"color: #00af00; text-decoration-color: #00af00\">101,770</span> (397.54 KB)\n",
              "</pre>\n"
            ]
          },
          "metadata": {}
        },
        {
          "output_type": "display_data",
          "data": {
            "text/plain": [
              "\u001b[1m Trainable params: \u001b[0m\u001b[38;5;34m101,770\u001b[0m (397.54 KB)\n"
            ],
            "text/html": [
              "<pre style=\"white-space:pre;overflow-x:auto;line-height:normal;font-family:Menlo,'DejaVu Sans Mono',consolas,'Courier New',monospace\"><span style=\"font-weight: bold\"> Trainable params: </span><span style=\"color: #00af00; text-decoration-color: #00af00\">101,770</span> (397.54 KB)\n",
              "</pre>\n"
            ]
          },
          "metadata": {}
        },
        {
          "output_type": "display_data",
          "data": {
            "text/plain": [
              "\u001b[1m Non-trainable params: \u001b[0m\u001b[38;5;34m0\u001b[0m (0.00 B)\n"
            ],
            "text/html": [
              "<pre style=\"white-space:pre;overflow-x:auto;line-height:normal;font-family:Menlo,'DejaVu Sans Mono',consolas,'Courier New',monospace\"><span style=\"font-weight: bold\"> Non-trainable params: </span><span style=\"color: #00af00; text-decoration-color: #00af00\">0</span> (0.00 B)\n",
              "</pre>\n"
            ]
          },
          "metadata": {}
        },
        {
          "output_type": "display_data",
          "data": {
            "text/plain": [
              "\u001b[1mModel: \"sequential_1\"\u001b[0m\n"
            ],
            "text/html": [
              "<pre style=\"white-space:pre;overflow-x:auto;line-height:normal;font-family:Menlo,'DejaVu Sans Mono',consolas,'Courier New',monospace\"><span style=\"font-weight: bold\">Model: \"sequential_1\"</span>\n",
              "</pre>\n"
            ]
          },
          "metadata": {}
        },
        {
          "output_type": "display_data",
          "data": {
            "text/plain": [
              "┏━━━━━━━━━━━━━━━━━━━━━━━━━━━━━━━━━━━━━━┳━━━━━━━━━━━━━━━━━━━━━━━━━━━━━┳━━━━━━━━━━━━━━━━━┓\n",
              "┃\u001b[1m \u001b[0m\u001b[1mLayer (type)                        \u001b[0m\u001b[1m \u001b[0m┃\u001b[1m \u001b[0m\u001b[1mOutput Shape               \u001b[0m\u001b[1m \u001b[0m┃\u001b[1m \u001b[0m\u001b[1m        Param #\u001b[0m\u001b[1m \u001b[0m┃\n",
              "┡━━━━━━━━━━━━━━━━━━━━━━━━━━━━━━━━━━━━━━╇━━━━━━━━━━━━━━━━━━━━━━━━━━━━━╇━━━━━━━━━━━━━━━━━┩\n",
              "│ flatten_1 (\u001b[38;5;33mFlatten\u001b[0m)                  │ (\u001b[38;5;45mNone\u001b[0m, \u001b[38;5;34m784\u001b[0m)                 │               \u001b[38;5;34m0\u001b[0m │\n",
              "├──────────────────────────────────────┼─────────────────────────────┼─────────────────┤\n",
              "│ dense_2 (\u001b[38;5;33mDense\u001b[0m)                      │ (\u001b[38;5;45mNone\u001b[0m, \u001b[38;5;34m128\u001b[0m)                 │         \u001b[38;5;34m100,480\u001b[0m │\n",
              "├──────────────────────────────────────┼─────────────────────────────┼─────────────────┤\n",
              "│ dense_3 (\u001b[38;5;33mDense\u001b[0m)                      │ (\u001b[38;5;45mNone\u001b[0m, \u001b[38;5;34m64\u001b[0m)                  │           \u001b[38;5;34m8,256\u001b[0m │\n",
              "├──────────────────────────────────────┼─────────────────────────────┼─────────────────┤\n",
              "│ dense_4 (\u001b[38;5;33mDense\u001b[0m)                      │ (\u001b[38;5;45mNone\u001b[0m, \u001b[38;5;34m32\u001b[0m)                  │           \u001b[38;5;34m2,080\u001b[0m │\n",
              "├──────────────────────────────────────┼─────────────────────────────┼─────────────────┤\n",
              "│ dense_5 (\u001b[38;5;33mDense\u001b[0m)                      │ (\u001b[38;5;45mNone\u001b[0m, \u001b[38;5;34m10\u001b[0m)                  │             \u001b[38;5;34m330\u001b[0m │\n",
              "└──────────────────────────────────────┴─────────────────────────────┴─────────────────┘\n"
            ],
            "text/html": [
              "<pre style=\"white-space:pre;overflow-x:auto;line-height:normal;font-family:Menlo,'DejaVu Sans Mono',consolas,'Courier New',monospace\">┏━━━━━━━━━━━━━━━━━━━━━━━━━━━━━━━━━━━━━━┳━━━━━━━━━━━━━━━━━━━━━━━━━━━━━┳━━━━━━━━━━━━━━━━━┓\n",
              "┃<span style=\"font-weight: bold\"> Layer (type)                         </span>┃<span style=\"font-weight: bold\"> Output Shape                </span>┃<span style=\"font-weight: bold\">         Param # </span>┃\n",
              "┡━━━━━━━━━━━━━━━━━━━━━━━━━━━━━━━━━━━━━━╇━━━━━━━━━━━━━━━━━━━━━━━━━━━━━╇━━━━━━━━━━━━━━━━━┩\n",
              "│ flatten_1 (<span style=\"color: #0087ff; text-decoration-color: #0087ff\">Flatten</span>)                  │ (<span style=\"color: #00d7ff; text-decoration-color: #00d7ff\">None</span>, <span style=\"color: #00af00; text-decoration-color: #00af00\">784</span>)                 │               <span style=\"color: #00af00; text-decoration-color: #00af00\">0</span> │\n",
              "├──────────────────────────────────────┼─────────────────────────────┼─────────────────┤\n",
              "│ dense_2 (<span style=\"color: #0087ff; text-decoration-color: #0087ff\">Dense</span>)                      │ (<span style=\"color: #00d7ff; text-decoration-color: #00d7ff\">None</span>, <span style=\"color: #00af00; text-decoration-color: #00af00\">128</span>)                 │         <span style=\"color: #00af00; text-decoration-color: #00af00\">100,480</span> │\n",
              "├──────────────────────────────────────┼─────────────────────────────┼─────────────────┤\n",
              "│ dense_3 (<span style=\"color: #0087ff; text-decoration-color: #0087ff\">Dense</span>)                      │ (<span style=\"color: #00d7ff; text-decoration-color: #00d7ff\">None</span>, <span style=\"color: #00af00; text-decoration-color: #00af00\">64</span>)                  │           <span style=\"color: #00af00; text-decoration-color: #00af00\">8,256</span> │\n",
              "├──────────────────────────────────────┼─────────────────────────────┼─────────────────┤\n",
              "│ dense_4 (<span style=\"color: #0087ff; text-decoration-color: #0087ff\">Dense</span>)                      │ (<span style=\"color: #00d7ff; text-decoration-color: #00d7ff\">None</span>, <span style=\"color: #00af00; text-decoration-color: #00af00\">32</span>)                  │           <span style=\"color: #00af00; text-decoration-color: #00af00\">2,080</span> │\n",
              "├──────────────────────────────────────┼─────────────────────────────┼─────────────────┤\n",
              "│ dense_5 (<span style=\"color: #0087ff; text-decoration-color: #0087ff\">Dense</span>)                      │ (<span style=\"color: #00d7ff; text-decoration-color: #00d7ff\">None</span>, <span style=\"color: #00af00; text-decoration-color: #00af00\">10</span>)                  │             <span style=\"color: #00af00; text-decoration-color: #00af00\">330</span> │\n",
              "└──────────────────────────────────────┴─────────────────────────────┴─────────────────┘\n",
              "</pre>\n"
            ]
          },
          "metadata": {}
        },
        {
          "output_type": "display_data",
          "data": {
            "text/plain": [
              "\u001b[1m Total params: \u001b[0m\u001b[38;5;34m111,146\u001b[0m (434.16 KB)\n"
            ],
            "text/html": [
              "<pre style=\"white-space:pre;overflow-x:auto;line-height:normal;font-family:Menlo,'DejaVu Sans Mono',consolas,'Courier New',monospace\"><span style=\"font-weight: bold\"> Total params: </span><span style=\"color: #00af00; text-decoration-color: #00af00\">111,146</span> (434.16 KB)\n",
              "</pre>\n"
            ]
          },
          "metadata": {}
        },
        {
          "output_type": "display_data",
          "data": {
            "text/plain": [
              "\u001b[1m Trainable params: \u001b[0m\u001b[38;5;34m111,146\u001b[0m (434.16 KB)\n"
            ],
            "text/html": [
              "<pre style=\"white-space:pre;overflow-x:auto;line-height:normal;font-family:Menlo,'DejaVu Sans Mono',consolas,'Courier New',monospace\"><span style=\"font-weight: bold\"> Trainable params: </span><span style=\"color: #00af00; text-decoration-color: #00af00\">111,146</span> (434.16 KB)\n",
              "</pre>\n"
            ]
          },
          "metadata": {}
        },
        {
          "output_type": "display_data",
          "data": {
            "text/plain": [
              "\u001b[1m Non-trainable params: \u001b[0m\u001b[38;5;34m0\u001b[0m (0.00 B)\n"
            ],
            "text/html": [
              "<pre style=\"white-space:pre;overflow-x:auto;line-height:normal;font-family:Menlo,'DejaVu Sans Mono',consolas,'Courier New',monospace\"><span style=\"font-weight: bold\"> Non-trainable params: </span><span style=\"color: #00af00; text-decoration-color: #00af00\">0</span> (0.00 B)\n",
              "</pre>\n"
            ]
          },
          "metadata": {}
        },
        {
          "output_type": "stream",
          "name": "stderr",
          "text": [
            "/usr/local/lib/python3.10/dist-packages/keras/src/layers/convolutional/base_conv.py:107: UserWarning: Do not pass an `input_shape`/`input_dim` argument to a layer. When using Sequential models, prefer using an `Input(shape)` object as the first layer in the model instead.\n",
            "  super().__init__(activity_regularizer=activity_regularizer, **kwargs)\n"
          ]
        },
        {
          "output_type": "display_data",
          "data": {
            "text/plain": [
              "\u001b[1mModel: \"sequential_2\"\u001b[0m\n"
            ],
            "text/html": [
              "<pre style=\"white-space:pre;overflow-x:auto;line-height:normal;font-family:Menlo,'DejaVu Sans Mono',consolas,'Courier New',monospace\"><span style=\"font-weight: bold\">Model: \"sequential_2\"</span>\n",
              "</pre>\n"
            ]
          },
          "metadata": {}
        },
        {
          "output_type": "display_data",
          "data": {
            "text/plain": [
              "┏━━━━━━━━━━━━━━━━━━━━━━━━━━━━━━━━━━━━━━┳━━━━━━━━━━━━━━━━━━━━━━━━━━━━━┳━━━━━━━━━━━━━━━━━┓\n",
              "┃\u001b[1m \u001b[0m\u001b[1mLayer (type)                        \u001b[0m\u001b[1m \u001b[0m┃\u001b[1m \u001b[0m\u001b[1mOutput Shape               \u001b[0m\u001b[1m \u001b[0m┃\u001b[1m \u001b[0m\u001b[1m        Param #\u001b[0m\u001b[1m \u001b[0m┃\n",
              "┡━━━━━━━━━━━━━━━━━━━━━━━━━━━━━━━━━━━━━━╇━━━━━━━━━━━━━━━━━━━━━━━━━━━━━╇━━━━━━━━━━━━━━━━━┩\n",
              "│ conv2d (\u001b[38;5;33mConv2D\u001b[0m)                      │ (\u001b[38;5;45mNone\u001b[0m, \u001b[38;5;34m26\u001b[0m, \u001b[38;5;34m26\u001b[0m, \u001b[38;5;34m32\u001b[0m)          │             \u001b[38;5;34m320\u001b[0m │\n",
              "├──────────────────────────────────────┼─────────────────────────────┼─────────────────┤\n",
              "│ max_pooling2d (\u001b[38;5;33mMaxPooling2D\u001b[0m)         │ (\u001b[38;5;45mNone\u001b[0m, \u001b[38;5;34m13\u001b[0m, \u001b[38;5;34m13\u001b[0m, \u001b[38;5;34m32\u001b[0m)          │               \u001b[38;5;34m0\u001b[0m │\n",
              "├──────────────────────────────────────┼─────────────────────────────┼─────────────────┤\n",
              "│ flatten_2 (\u001b[38;5;33mFlatten\u001b[0m)                  │ (\u001b[38;5;45mNone\u001b[0m, \u001b[38;5;34m5408\u001b[0m)                │               \u001b[38;5;34m0\u001b[0m │\n",
              "├──────────────────────────────────────┼─────────────────────────────┼─────────────────┤\n",
              "│ dense_6 (\u001b[38;5;33mDense\u001b[0m)                      │ (\u001b[38;5;45mNone\u001b[0m, \u001b[38;5;34m128\u001b[0m)                 │         \u001b[38;5;34m692,352\u001b[0m │\n",
              "├──────────────────────────────────────┼─────────────────────────────┼─────────────────┤\n",
              "│ dense_7 (\u001b[38;5;33mDense\u001b[0m)                      │ (\u001b[38;5;45mNone\u001b[0m, \u001b[38;5;34m10\u001b[0m)                  │           \u001b[38;5;34m1,290\u001b[0m │\n",
              "└──────────────────────────────────────┴─────────────────────────────┴─────────────────┘\n"
            ],
            "text/html": [
              "<pre style=\"white-space:pre;overflow-x:auto;line-height:normal;font-family:Menlo,'DejaVu Sans Mono',consolas,'Courier New',monospace\">┏━━━━━━━━━━━━━━━━━━━━━━━━━━━━━━━━━━━━━━┳━━━━━━━━━━━━━━━━━━━━━━━━━━━━━┳━━━━━━━━━━━━━━━━━┓\n",
              "┃<span style=\"font-weight: bold\"> Layer (type)                         </span>┃<span style=\"font-weight: bold\"> Output Shape                </span>┃<span style=\"font-weight: bold\">         Param # </span>┃\n",
              "┡━━━━━━━━━━━━━━━━━━━━━━━━━━━━━━━━━━━━━━╇━━━━━━━━━━━━━━━━━━━━━━━━━━━━━╇━━━━━━━━━━━━━━━━━┩\n",
              "│ conv2d (<span style=\"color: #0087ff; text-decoration-color: #0087ff\">Conv2D</span>)                      │ (<span style=\"color: #00d7ff; text-decoration-color: #00d7ff\">None</span>, <span style=\"color: #00af00; text-decoration-color: #00af00\">26</span>, <span style=\"color: #00af00; text-decoration-color: #00af00\">26</span>, <span style=\"color: #00af00; text-decoration-color: #00af00\">32</span>)          │             <span style=\"color: #00af00; text-decoration-color: #00af00\">320</span> │\n",
              "├──────────────────────────────────────┼─────────────────────────────┼─────────────────┤\n",
              "│ max_pooling2d (<span style=\"color: #0087ff; text-decoration-color: #0087ff\">MaxPooling2D</span>)         │ (<span style=\"color: #00d7ff; text-decoration-color: #00d7ff\">None</span>, <span style=\"color: #00af00; text-decoration-color: #00af00\">13</span>, <span style=\"color: #00af00; text-decoration-color: #00af00\">13</span>, <span style=\"color: #00af00; text-decoration-color: #00af00\">32</span>)          │               <span style=\"color: #00af00; text-decoration-color: #00af00\">0</span> │\n",
              "├──────────────────────────────────────┼─────────────────────────────┼─────────────────┤\n",
              "│ flatten_2 (<span style=\"color: #0087ff; text-decoration-color: #0087ff\">Flatten</span>)                  │ (<span style=\"color: #00d7ff; text-decoration-color: #00d7ff\">None</span>, <span style=\"color: #00af00; text-decoration-color: #00af00\">5408</span>)                │               <span style=\"color: #00af00; text-decoration-color: #00af00\">0</span> │\n",
              "├──────────────────────────────────────┼─────────────────────────────┼─────────────────┤\n",
              "│ dense_6 (<span style=\"color: #0087ff; text-decoration-color: #0087ff\">Dense</span>)                      │ (<span style=\"color: #00d7ff; text-decoration-color: #00d7ff\">None</span>, <span style=\"color: #00af00; text-decoration-color: #00af00\">128</span>)                 │         <span style=\"color: #00af00; text-decoration-color: #00af00\">692,352</span> │\n",
              "├──────────────────────────────────────┼─────────────────────────────┼─────────────────┤\n",
              "│ dense_7 (<span style=\"color: #0087ff; text-decoration-color: #0087ff\">Dense</span>)                      │ (<span style=\"color: #00d7ff; text-decoration-color: #00d7ff\">None</span>, <span style=\"color: #00af00; text-decoration-color: #00af00\">10</span>)                  │           <span style=\"color: #00af00; text-decoration-color: #00af00\">1,290</span> │\n",
              "└──────────────────────────────────────┴─────────────────────────────┴─────────────────┘\n",
              "</pre>\n"
            ]
          },
          "metadata": {}
        },
        {
          "output_type": "display_data",
          "data": {
            "text/plain": [
              "\u001b[1m Total params: \u001b[0m\u001b[38;5;34m693,962\u001b[0m (2.65 MB)\n"
            ],
            "text/html": [
              "<pre style=\"white-space:pre;overflow-x:auto;line-height:normal;font-family:Menlo,'DejaVu Sans Mono',consolas,'Courier New',monospace\"><span style=\"font-weight: bold\"> Total params: </span><span style=\"color: #00af00; text-decoration-color: #00af00\">693,962</span> (2.65 MB)\n",
              "</pre>\n"
            ]
          },
          "metadata": {}
        },
        {
          "output_type": "display_data",
          "data": {
            "text/plain": [
              "\u001b[1m Trainable params: \u001b[0m\u001b[38;5;34m693,962\u001b[0m (2.65 MB)\n"
            ],
            "text/html": [
              "<pre style=\"white-space:pre;overflow-x:auto;line-height:normal;font-family:Menlo,'DejaVu Sans Mono',consolas,'Courier New',monospace\"><span style=\"font-weight: bold\"> Trainable params: </span><span style=\"color: #00af00; text-decoration-color: #00af00\">693,962</span> (2.65 MB)\n",
              "</pre>\n"
            ]
          },
          "metadata": {}
        },
        {
          "output_type": "display_data",
          "data": {
            "text/plain": [
              "\u001b[1m Non-trainable params: \u001b[0m\u001b[38;5;34m0\u001b[0m (0.00 B)\n"
            ],
            "text/html": [
              "<pre style=\"white-space:pre;overflow-x:auto;line-height:normal;font-family:Menlo,'DejaVu Sans Mono',consolas,'Courier New',monospace\"><span style=\"font-weight: bold\"> Non-trainable params: </span><span style=\"color: #00af00; text-decoration-color: #00af00\">0</span> (0.00 B)\n",
              "</pre>\n"
            ]
          },
          "metadata": {}
        }
      ],
      "source": [
        "\"\"\"Create the three models described in the report\"\"\"\n",
        "# Define the model\n",
        "model_1_hidden = Sequential([\n",
        "    Flatten(input_shape=(28, 28)),  # Flatten the input\n",
        "    Dense(128, activation='relu'),  # 1 hidden layer with 128 nodes\n",
        "    Dense(10, activation='softmax')  # Output layer with 10 nodes (for 10 classes)\n",
        "])\n",
        "\n",
        "# Compile the model\n",
        "model_1_hidden.compile(optimizer='adam', loss='sparse_categorical_crossentropy', metrics=['accuracy'])\n",
        "\n",
        "# Summary of the model\n",
        "model_1_hidden.summary()\n",
        "\n",
        "\n",
        "# Define the model\n",
        "model_3_hidden = Sequential([\n",
        "    Flatten(input_shape=(28, 28)),  # Flatten the input\n",
        "    Dense(128, activation='relu'),  # 1st hidden layer with 128 nodes\n",
        "    Dense(64, activation='relu'),   # 2nd hidden layer with 64 nodes\n",
        "    Dense(32, activation='relu'),   # 3rd hidden layer with 32 nodes\n",
        "    Dense(10, activation='softmax')  # Output layer with 10 nodes (for 10 classes)\n",
        "])\n",
        "\n",
        "# Compile the model\n",
        "model_3_hidden.compile(optimizer='adam', loss='sparse_categorical_crossentropy', metrics=['accuracy'])\n",
        "\n",
        "# Summary of the model\n",
        "model_3_hidden.summary()\n",
        "\n",
        "\n",
        "# Define the model\n",
        "model_1_conv = Sequential([\n",
        "    Conv2D(32, (3, 3), activation='relu', input_shape=(28, 28, 1)),  # 1 convolutional layer\n",
        "    MaxPooling2D((2, 2)),  # Max pooling layer\n",
        "    Flatten(),\n",
        "    Dense(128, activation='relu'),  # Fully connected layer\n",
        "    Dense(10, activation='softmax')  # Output layer with 10 nodes (for 10 classes)\n",
        "])\n",
        "\n",
        "# Compile the model\n",
        "model_1_conv.compile(optimizer='adam', loss='sparse_categorical_crossentropy', metrics=['accuracy'])\n",
        "\n",
        "# Summary of the model\n",
        "model_1_conv.summary()"
      ]
    },
    {
      "cell_type": "markdown",
      "source": [
        "# Training the CNN on the MNIST and external dataset with the convolutional network"
      ],
      "metadata": {
        "id": "KVIR30_eKIgW"
      }
    },
    {
      "cell_type": "code",
      "execution_count": null,
      "metadata": {
        "colab": {
          "base_uri": "https://localhost:8080/"
        },
        "id": "eGiGbZBqZ4Qc",
        "outputId": "010b49f5-fb45-4b9e-8e3f-c88af57ce84c"
      },
      "outputs": [
        {
          "output_type": "stream",
          "name": "stdout",
          "text": [
            "Epoch 1/5\n",
            "\u001b[1m1875/1875\u001b[0m \u001b[32m━━━━━━━━━━━━━━━━━━━━\u001b[0m\u001b[37m\u001b[0m \u001b[1m5s\u001b[0m 3ms/step - accuracy: 0.9976 - loss: 0.0081 - val_accuracy: 0.9880 - val_loss: 0.0413\n",
            "Epoch 2/5\n",
            "\u001b[1m1875/1875\u001b[0m \u001b[32m━━━━━━━━━━━━━━━━━━━━\u001b[0m\u001b[37m\u001b[0m \u001b[1m4s\u001b[0m 2ms/step - accuracy: 0.9979 - loss: 0.0061 - val_accuracy: 0.9867 - val_loss: 0.0476\n",
            "Epoch 3/5\n",
            "\u001b[1m1875/1875\u001b[0m \u001b[32m━━━━━━━━━━━━━━━━━━━━\u001b[0m\u001b[37m\u001b[0m \u001b[1m5s\u001b[0m 2ms/step - accuracy: 0.9982 - loss: 0.0051 - val_accuracy: 0.9840 - val_loss: 0.0624\n",
            "Epoch 4/5\n",
            "\u001b[1m1875/1875\u001b[0m \u001b[32m━━━━━━━━━━━━━━━━━━━━\u001b[0m\u001b[37m\u001b[0m \u001b[1m5s\u001b[0m 2ms/step - accuracy: 0.9980 - loss: 0.0056 - val_accuracy: 0.9870 - val_loss: 0.0548\n",
            "Epoch 5/5\n",
            "\u001b[1m1875/1875\u001b[0m \u001b[32m━━━━━━━━━━━━━━━━━━━━\u001b[0m\u001b[37m\u001b[0m \u001b[1m5s\u001b[0m 3ms/step - accuracy: 0.9988 - loss: 0.0047 - val_accuracy: 0.9863 - val_loss: 0.0579\n",
            "Epoch 1/5\n",
            "\u001b[1m1875/1875\u001b[0m \u001b[32m━━━━━━━━━━━━━━━━━━━━\u001b[0m\u001b[37m\u001b[0m \u001b[1m4s\u001b[0m 2ms/step - accuracy: 0.9905 - loss: 0.0326 - val_accuracy: 0.9764 - val_loss: 0.0793\n",
            "Epoch 2/5\n",
            "\u001b[1m1875/1875\u001b[0m \u001b[32m━━━━━━━━━━━━━━━━━━━━\u001b[0m\u001b[37m\u001b[0m \u001b[1m4s\u001b[0m 2ms/step - accuracy: 0.9924 - loss: 0.0249 - val_accuracy: 0.9774 - val_loss: 0.0741\n",
            "Epoch 3/5\n",
            "\u001b[1m1875/1875\u001b[0m \u001b[32m━━━━━━━━━━━━━━━━━━━━\u001b[0m\u001b[37m\u001b[0m \u001b[1m4s\u001b[0m 2ms/step - accuracy: 0.9936 - loss: 0.0210 - val_accuracy: 0.9799 - val_loss: 0.0751\n",
            "Epoch 4/5\n",
            "\u001b[1m1875/1875\u001b[0m \u001b[32m━━━━━━━━━━━━━━━━━━━━\u001b[0m\u001b[37m\u001b[0m \u001b[1m6s\u001b[0m 2ms/step - accuracy: 0.9950 - loss: 0.0163 - val_accuracy: 0.9789 - val_loss: 0.0728\n",
            "Epoch 5/5\n",
            "\u001b[1m1875/1875\u001b[0m \u001b[32m━━━━━━━━━━━━━━━━━━━━\u001b[0m\u001b[37m\u001b[0m \u001b[1m4s\u001b[0m 2ms/step - accuracy: 0.9964 - loss: 0.0128 - val_accuracy: 0.9803 - val_loss: 0.0785\n",
            "Epoch 1/5\n",
            "\u001b[1m1875/1875\u001b[0m \u001b[32m━━━━━━━━━━━━━━━━━━━━\u001b[0m\u001b[37m\u001b[0m \u001b[1m4s\u001b[0m 2ms/step - accuracy: 0.9895 - loss: 0.0319 - val_accuracy: 0.9762 - val_loss: 0.0852\n",
            "Epoch 2/5\n",
            "\u001b[1m1875/1875\u001b[0m \u001b[32m━━━━━━━━━━━━━━━━━━━━\u001b[0m\u001b[37m\u001b[0m \u001b[1m6s\u001b[0m 2ms/step - accuracy: 0.9905 - loss: 0.0287 - val_accuracy: 0.9798 - val_loss: 0.0786\n",
            "Epoch 3/5\n",
            "\u001b[1m1875/1875\u001b[0m \u001b[32m━━━━━━━━━━━━━━━━━━━━\u001b[0m\u001b[37m\u001b[0m \u001b[1m4s\u001b[0m 2ms/step - accuracy: 0.9929 - loss: 0.0223 - val_accuracy: 0.9789 - val_loss: 0.0819\n",
            "Epoch 4/5\n",
            "\u001b[1m1875/1875\u001b[0m \u001b[32m━━━━━━━━━━━━━━━━━━━━\u001b[0m\u001b[37m\u001b[0m \u001b[1m4s\u001b[0m 2ms/step - accuracy: 0.9935 - loss: 0.0195 - val_accuracy: 0.9720 - val_loss: 0.1131\n",
            "Epoch 5/5\n",
            "\u001b[1m1875/1875\u001b[0m \u001b[32m━━━━━━━━━━━━━━━━━━━━\u001b[0m\u001b[37m\u001b[0m \u001b[1m6s\u001b[0m 2ms/step - accuracy: 0.9929 - loss: 0.0202 - val_accuracy: 0.9784 - val_loss: 0.0905\n",
            "Model          Train Acc      Val Acc        External Test Acc   \n",
            "-----------------------------------------------------------------\n",
            "model_1_conv   0.9988         0.9863         0.7586              \n",
            "model_1_hidden 0.9952         0.9803         0.6138              \n",
            "model_3_hidden 0.9923         0.9784         0.6172              \n"
          ]
        }
      ],
      "source": [
        "\"\"\"Train the CNN on the MNIST and test/ evaluate the model to check how accurate it is\"\"\"\n",
        "np.random.seed(42)\n",
        "#Load the external dataset\n",
        "\n",
        "X_test2 = np.load('./digits_X.npy')\n",
        "y_test2 = np.load('./digits_y.npy')\n",
        "\n",
        "# Normalize and reshape the external validation dataset\n",
        "X_test2 = X_test2 / 255.0\n",
        "X_test2 = X_test2.reshape(-1, 28, 28, 1)\n",
        "\n",
        "\n",
        "# Load the MNIST dataset\n",
        "mnist = tf.keras.datasets.mnist\n",
        "(X_train, y_train), (X_test, y_test) = mnist.load_data()\n",
        "\n",
        "# Normalize the data\n",
        "X_train, X_test = X_train / 255.0, X_test / 255.0\n",
        "\n",
        "# Reshape the data for convolutional networks\n",
        "X_train = X_train.reshape(-1, 28, 28, 1)\n",
        "X_test = X_test.reshape(-1, 28, 28, 1)\n",
        "\n",
        "# Train the models\n",
        "history_1 = model_1_conv.fit(X_train, y_train, epochs=5, validation_data=(X_test, y_test))\n",
        "history_2 = model_1_hidden.fit(X_train, y_train, epochs=5, validation_data=(X_test, y_test))\n",
        "history_3 = model_3_hidden.fit(X_train, y_train, epochs=5, validation_data=(X_test, y_test))\n",
        "\n",
        "# Plot the accs for the 3 models\n",
        "final_train_accuracy_1 = history_1.history['accuracy'][-1]\n",
        "final_val_accuracy_1 = history_1.history['val_accuracy'][-1]\n",
        "external_test_loss_1, external_test_accuracy_1 = model_1_conv.evaluate(X_test2, y_test2, verbose=0)\n",
        "\n",
        "final_train_accuracy_2 = history_2.history['accuracy'][-1]\n",
        "final_val_accuracy_2 = history_2.history['val_accuracy'][-1]\n",
        "external_test_loss_2, external_test_accuracy_2 = model_1_hidden.evaluate(X_test2, y_test2, verbose=0)\n",
        "\n",
        "final_train_accuracy_3 = history_3.history['accuracy'][-1]\n",
        "final_val_accuracy_3 = history_3.history['val_accuracy'][-1]\n",
        "external_test_loss_3, external_test_accuracy_3 = model_3_hidden.evaluate(X_test2, y_test2, verbose=0)\n",
        "\n",
        "# Print results in a structured way\n",
        "print(f\"{'Model':<15}{'Train Acc':<15}{'Val Acc':<15}{'External Test Acc':<20}\")\n",
        "print(f\"{'-'*65}\")\n",
        "print(f\"{'model_1_conv':<15}{final_train_accuracy_1:<15.4f}{final_val_accuracy_1:<15.4f}{external_test_accuracy_1:<20.4f}\")\n",
        "print(f\"{'model_1_hidden':<15}{final_train_accuracy_2:<15.4f}{final_val_accuracy_2:<15.4f}{external_test_accuracy_2:<20.4f}\")\n",
        "print(f\"{'model_3_hidden':<15}{final_train_accuracy_3:<15.4f}{final_val_accuracy_3:<15.4f}{external_test_accuracy_3:<20.4f}\")\n"
      ]
    },
    {
      "cell_type": "code",
      "source": [
        "# group data together\n",
        "models = ['model_1_conv', 'model_1_hidden', 'model_3_hidden']\n",
        "train_accuracies = [final_train_accuracy_1, final_train_accuracy_2, final_train_accuracy_3]\n",
        "val_accuracies = [final_val_accuracy_1, final_val_accuracy_2, final_val_accuracy_3]\n",
        "external_test_accuracies = [external_test_accuracy_1, external_test_accuracy_2, external_test_accuracy_3]\n",
        "\n",
        "# Plot the accuracies using a line plot\n",
        "plt.figure(figsize=(10, 6))\n",
        "plt.plot(models, train_accuracies, marker='o', label='Train Accuracy', linewidth=2)\n",
        "plt.plot(models, val_accuracies, marker='s',label='Validation Accuracy', linewidth=2)\n",
        "plt.plot(models, external_test_accuracies, marker='^', label='External Test Accuracy', linewidth=2)\n",
        "\n",
        "# Nitty gritty\n",
        "plt.xlabel('Models', fontsize=12)\n",
        "plt.ylabel('Accuracy', fontsize=12)\n",
        "plt.title('Model Performance Comparison', fontsize=14)\n",
        "plt.ylim(0.5, 1.0)\n",
        "plt.legend()\n",
        "plt.grid(axis='y', linestyle='--', alpha=0.7)\n",
        "\n",
        "# Show the plot\n",
        "plt.tight_layout()\n",
        "plt.show()\n"
      ],
      "metadata": {
        "colab": {
          "base_uri": "https://localhost:8080/",
          "height": 607
        },
        "id": "Bq3bD-Fjhg69",
        "outputId": "b46d2ab8-f1fb-4edc-b151-bdee247fd9f0"
      },
      "execution_count": 13,
      "outputs": [
        {
          "output_type": "display_data",
          "data": {
            "text/plain": [
              "<Figure size 1000x600 with 1 Axes>"
            ],
            "image/png": "[encoded data removed]"
          },
          "metadata": {}
        }
      ]
    },
    {
      "cell_type": "code",
      "source": [
        "\"\"\"Comparing size of datasets to check if comparison is reasonable or our dataset is to small\"\"\"\n",
        "\n",
        "\n",
        "# Load the external dataset\n",
        "digits_X = np.load('digits_X.npy')\n",
        "digits_y = np.load('digits_y.npy')\n",
        "\n",
        "# Load the MNIST dataset\n",
        "(X_train, y_train), (X_test, y_test) = mnist.load_data()\n",
        "\n",
        "# Number of digits in the external dataset\n",
        "num_digits_external = digits_X.shape[0]\n",
        "print(f\"Number of digits in the external dataset: {num_digits_external}\")\n",
        "\n",
        "# Number of digits in the MNIST dataset\n",
        "num_digits_mnist = X_train.shape[0] + X_test.shape[0]\n",
        "print(f\"Number of digits in the MNIST dataset: {num_digits_mnist}\")"
      ],
      "metadata": {
        "colab": {
          "base_uri": "https://localhost:8080/"
        },
        "id": "z59hi3F_Aboe",
        "outputId": "68af9582-f6b1-4f35-e42f-7585a9d5426e"
      },
      "execution_count": null,
      "outputs": [
        {
          "output_type": "stream",
          "name": "stdout",
          "text": [
            "Number of digits in the external dataset: 290\n",
            "Number of digits in the MNIST dataset: 70000\n"
          ]
        }
      ]
    },
    {
      "cell_type": "code",
      "source": [
        "\"\"\"SNN trained and fitted to evaluate accuracy on mnist\"\"\"\n",
        "\n",
        "# Define the Spiking Neural Network (SNN) model and\n",
        "class SpikingClassifier(nn.Module):\n",
        "    def __init__(self, timesteps):\n",
        "        super().__init__()\n",
        "        self.timesteps = timesteps\n",
        "        self.conv1 = nn.Conv2d(1, 16, kernel_size=3, padding=1)\n",
        "        self.lif1 = snn.Leaky(beta=0.9)  # Use biologically plausible LIF neuron\n",
        "        self.conv2 = nn.Conv2d(16, 32, kernel_size=3, padding=1)\n",
        "        self.lif2 = snn.Leaky(beta=0.9)\n",
        "        self.fc1 = None  # Will be dynamically set\n",
        "        self.lif3 = snn.Leaky(beta=0.9)\n",
        "        self.fc2 = nn.Linear(128, 10)\n",
        "        self.lif4 = snn.Leaky(beta=0.9)  # Output layer with LIF neurons\n",
        "\n",
        "    def forward(self, x):\n",
        "        # Initialize hidden states\n",
        "        mem1 = self.lif1.init_leaky()\n",
        "        mem2 = self.lif2.init_leaky()\n",
        "        mem3 = self.lif3.init_leaky()\n",
        "        mem4 = self.lif4.init_leaky()\n",
        "\n",
        "        spk_rec = []\n",
        "        for t in range(self.timesteps):\n",
        "            cur1 = self.conv1(x)\n",
        "            spk1, mem1 = self.lif1(cur1, mem1)\n",
        "            cur2 = self.conv2(spk1)\n",
        "            spk2, mem2 = self.lif2(cur2, mem2)\n",
        "            cur2 = torch.flatten(spk2, 1)  # Flatten the output of conv layers\n",
        "            cur3 = self.fc1(cur2)          # Apply dynamically set fully connected layer\n",
        "            spk3, mem3 = self.lif3(cur3, mem3)\n",
        "            cur4 = self.fc2(spk3)\n",
        "            spk4, mem4 = self.lif4(cur4, mem4)\n",
        "            spk_rec.append(spk4)\n",
        "\n",
        "        return torch.stack(spk_rec, dim=0).sum(dim=0)  # Sum spikes over time\n",
        "\n",
        "    def set_fc1_input_size(self, input_size):\n",
        "        \"\"\"Dynamically set fc1 input size based on flattened output from conv2.\"\"\"\n",
        "        self.fc1 = nn.Linear(input_size, 128)\n",
        "\n",
        "\n",
        "# Data loading and preprocessing\n",
        "transform = transforms.Compose([\n",
        "    transforms.ToTensor(),\n",
        "    transforms.Normalize((0.1307,), (0.3081,))\n",
        "])\n",
        "\n",
        "# Load MNIST data\n",
        "train_dataset = datasets.MNIST('./data', train=True, download=True, transform=transform)\n",
        "test_dataset = datasets.MNIST('./data', train=False, transform=transform)\n",
        "\n",
        "# Create dataloaders\n",
        "train_loader = DataLoader(train_dataset, batch_size=64, shuffle=True)\n",
        "test_loader = DataLoader(test_dataset, batch_size=64, shuffle=False)\n",
        "\n",
        "\n",
        "# Model initialization and training setup\n",
        "device = torch.device(\"cuda\" if torch.cuda.is_available() else \"cpu\")\n",
        "timesteps = 10  # Simulate for 10 timesteps\n",
        "model = SpikingClassifier(timesteps).to(device)\n",
        "\n",
        "# Dynamically calculate the input size for fc1\n",
        "dummy_input = torch.zeros(1, 1, 28, 28).to(device)  # Example input\n",
        "with torch.no_grad():\n",
        "    conv_output = model.conv2(model.lif1(model.conv1(dummy_input))[0])\n",
        "    flattened_size = torch.flatten(conv_output, 1).shape[1]\n",
        "    model.set_fc1_input_size(flattened_size)\n",
        "\n",
        "optimizer = optim.Adam(model.parameters(), lr=1e-3)\n",
        "loss_fn = nn.CrossEntropyLoss()\n",
        "\n",
        "# Training loop with device consistency checks\n",
        "epochs = 5\n",
        "for epoch in range(epochs):\n",
        "    for data, targets in train_loader:\n",
        "        # Move data and targets to the same device as the model\n",
        "        data, targets = data.to(device), targets.to(device)\n",
        "        # Ensure model is on the correct device\n",
        "        model.to(device)\n",
        "        optimizer.zero_grad()\n",
        "        output = model(data)  # Model output\n",
        "        loss = loss_fn(output, targets)  # Compute loss\n",
        "        loss.backward()  # Backpropagation\n",
        "        optimizer.step()  # Update weights\n",
        "\n",
        "    print(f'Epoch: {epoch+1}, Loss: {loss.item():.4f}')\n",
        "\n"
      ],
      "metadata": {
        "colab": {
          "base_uri": "https://localhost:8080/"
        },
        "id": "A-x1plSPpA0W",
        "outputId": "33a830bd-a6d4-44db-d835-59ee456eed6b"
      },
      "execution_count": 32,
      "outputs": [
        {
          "output_type": "stream",
          "name": "stdout",
          "text": [
            "Epoch: 1, Loss: 0.0330\n",
            "Epoch: 2, Loss: 0.0396\n",
            "Epoch: 3, Loss: 0.0096\n",
            "Epoch: 4, Loss: 0.0422\n",
            "Epoch: 5, Loss: 0.0018\n"
          ]
        }
      ]
    },
    {
      "cell_type": "code",
      "source": [
        "# Test loop for MNIST and our dataset\n",
        "correct = 0\n",
        "total = 0\n",
        "with torch.no_grad():\n",
        "    for data, targets in test_loader:\n",
        "        # Move test data and targets to the same device as the model\n",
        "        data, targets = data.to(device), targets.to(device)\n",
        "        outputs = model(data)  # Model predictions\n",
        "        _, predicted = torch.max(outputs.data, 1)  # Predicted classes\n",
        "        total += targets.size(0)\n",
        "        correct += (predicted == targets).sum().item()\n",
        "\n",
        "print('Test Accuracy on MNIST: {:.2f}%'.format(100 * correct / total))\n",
        "\n",
        "\n",
        "# Load and test on external dataset\n",
        "\n",
        "X_test2 = torch.Tensor(np.load('./digits_X.npy')).float()\n",
        "y_test2 = torch.Tensor(np.load('./digits_y.npy')).long()\n",
        "\n",
        "# Normalize and reshape the external datasets\n",
        "X_test2 = X_test2 / 255.0\n",
        "X_test2 = X_test2.unsqueeze(1)  # Add a channel dimension for grayscale images\n",
        "\n",
        "# Create a DataLoader for the external dataset\n",
        "test_dataset2 = TensorDataset(X_test2, y_test2)\n",
        "test_loader2 = DataLoader(test_dataset2, batch_size=64, shuffle=False)\n",
        "\n",
        "\n",
        "correct = 0\n",
        "total = 0\n",
        "with torch.no_grad():\n",
        "    for data, targets in test_loader2:\n",
        "        # Move test data and targets to the same device as the model\n",
        "        data, targets = data.to(device), targets.to(device)\n",
        "        outputs = model(data)  # Model predictions\n",
        "        _, predicted = torch.max(outputs.data, 1)  # Predicted classes\n",
        "        total += targets.size(0)\n",
        "        correct += (predicted == targets).sum().item()\n",
        "\n",
        "print('Test Accuracy on our dataset: {:.2f}%'.format(100 * correct / total))\n"
      ],
      "metadata": {
        "id": "Bbn4C2yuNLuj",
        "outputId": "970a6aac-a476-44d9-9b21-8ad0c0a4d0de",
        "colab": {
          "base_uri": "https://localhost:8080/",
          "height": 207
        }
      },
      "execution_count": 1,
      "outputs": [
        {
          "output_type": "error",
          "ename": "NameError",
          "evalue": "name 'torch' is not defined",
          "traceback": [
            "\u001b[0;31m---------------------------------------------------------------------------\u001b[0m",
            "\u001b[0;31mNameError\u001b[0m                                 Traceback (most recent call last)",
            "\u001b[0;32m<ipython-input-1-3c430f8ae040>\u001b[0m in \u001b[0;36m<cell line: 4>\u001b[0;34m()\u001b[0m\n\u001b[1;32m      2\u001b[0m \u001b[0mcorrect\u001b[0m \u001b[0;34m=\u001b[0m \u001b[0;36m0\u001b[0m\u001b[0;34m\u001b[0m\u001b[0;34m\u001b[0m\u001b[0m\n\u001b[1;32m      3\u001b[0m \u001b[0mtotal\u001b[0m \u001b[0;34m=\u001b[0m \u001b[0;36m0\u001b[0m\u001b[0;34m\u001b[0m\u001b[0;34m\u001b[0m\u001b[0m\n\u001b[0;32m----> 4\u001b[0;31m \u001b[0;32mwith\u001b[0m \u001b[0mtorch\u001b[0m\u001b[0;34m.\u001b[0m\u001b[0mno_grad\u001b[0m\u001b[0;34m(\u001b[0m\u001b[0;34m)\u001b[0m\u001b[0;34m:\u001b[0m\u001b[0;34m\u001b[0m\u001b[0;34m\u001b[0m\u001b[0m\n\u001b[0m\u001b[1;32m      5\u001b[0m     \u001b[0;32mfor\u001b[0m \u001b[0mdata\u001b[0m\u001b[0;34m,\u001b[0m \u001b[0mtargets\u001b[0m \u001b[0;32min\u001b[0m \u001b[0mtest_loader\u001b[0m\u001b[0;34m:\u001b[0m\u001b[0;34m\u001b[0m\u001b[0;34m\u001b[0m\u001b[0m\n\u001b[1;32m      6\u001b[0m         \u001b[0;31m# Move test data and targets to the same device as the model\u001b[0m\u001b[0;34m\u001b[0m\u001b[0;34m\u001b[0m\u001b[0m\n",
            "\u001b[0;31mNameError\u001b[0m: name 'torch' is not defined"
          ]
        }
      ]
    },
    {
      "cell_type": "code",
      "source": [
        "#training the model on mnist and then checking how accurate it is on our dataset\n",
        "\n",
        "# Define the Spiking Neural Network (SNN) model\n",
        "class SpikingMNISTClassifier(nn.Module):\n",
        "    def __init__(self, timesteps):\n",
        "        super().__init__()\n",
        "        self.timesteps = timesteps\n",
        "        self.conv1 = nn.Conv2d(1, 16, kernel_size=3, padding=1)\n",
        "        self.lif1 = snn.Leaky(beta=0.9)\n",
        "        self.conv2 = nn.Conv2d(16, 32, kernel_size=3, padding=1)\n",
        "        self.lif2 = snn.Leaky(beta=0.9)\n",
        "        self.fc1 = None  # Will be dynamically set\n",
        "        self.lif3 = snn.Leaky(beta=0.9)\n",
        "        self.fc2 = nn.Linear(128, 10)\n",
        "        self.lif4 = snn.Leaky(beta=0.9)\n",
        "\n",
        "    def forward(self, x):\n",
        "        # Initialize hidden states\n",
        "        mem1, mem2, mem3, mem4 = self.lif1.init_leaky(), self.lif2.init_leaky(), self.lif3.init_leaky(), self.lif4.init_leaky()\n",
        "        spk_rec = []\n",
        "        for t in range(self.timesteps):\n",
        "            cur1 = self.conv1(x)\n",
        "            spk1, mem1 = self.lif1(cur1, mem1)\n",
        "            cur2 = self.conv2(spk1)\n",
        "            spk2, mem2 = self.lif2(cur2, mem2)\n",
        "            cur2 = torch.flatten(spk2, 1)  # Flatten output of conv2\n",
        "            cur3 = self.fc1(cur2)          # Pass through fully connected layer\n",
        "            spk3, mem3 = self.lif3(cur3, mem3)\n",
        "            cur4 = self.fc2(spk3)\n",
        "            spk4, mem4 = self.lif4(cur4, mem4)\n",
        "            spk_rec.append(spk4)\n",
        "        return torch.stack(spk_rec, dim=0).sum(dim=0)  # Sum spikes over time\n",
        "\n",
        "    def set_fc1_input_size(self, input_size):\n",
        "        \"\"\"Dynamically set the input size of fc1.\"\"\"\n",
        "        self.fc1 = nn.Linear(input_size, 128)\n",
        "\n",
        "# Initialize the model\n",
        "device = torch.device(\"cuda\" if torch.cuda.is_available() else \"cpu\")\n",
        "timesteps = 10\n",
        "model = SpikingMNISTClassifier(timesteps).to(device)\n",
        "\n",
        "# Dynamically calculate and set the input size for fc1\n",
        "dummy_input = torch.zeros(1, 1, 28, 28).to(device)  # Example input\n",
        "with torch.no_grad():\n",
        "    conv_output = model.conv2(model.lif1(model.conv1(dummy_input))[0])\n",
        "    flattened_size = torch.flatten(conv_output, 1).shape[1]\n",
        "    model.set_fc1_input_size(flattened_size)\n",
        "\n",
        "# Save the trained model properly (with fc1 initialized)\n",
        "torch.save(model.state_dict(), './spiking_mnist_model.pth')\n",
        "\n",
        "# Load external datasets\n",
        "X_test2 = torch.Tensor(np.load('./digits_X.npy')).float()\n",
        "y_test2 = torch.Tensor(np.load('./digits_y.npy')).long()\n",
        "\n",
        "# Normalize and reshape the external datasets\n",
        "X_test2 = X_test2 / 255.0\n",
        "X_test2 = X_test2.unsqueeze(1)  # Add a channel dimension for grayscale images\n",
        "\n",
        "# Create a DataLoader for the external dataset\n",
        "test_dataset = TensorDataset(X_test2, y_test2)\n",
        "test_loader = DataLoader(test_dataset, batch_size=64, shuffle=False)\n",
        "\n",
        "# Load the trained model\n",
        "model = SpikingMNISTClassifier(timesteps=10).to(device)\n",
        "model.set_fc1_input_size(flattened_size)  # Ensure fc1 is set before loading weights\n",
        "model.load_state_dict(torch.load('./spiking_mnist_model.pth', map_location=device))\n",
        "model.eval()\n",
        "model.to(device)\n",
        "\n",
        "\n",
        "\n",
        "# Test accuracy on the external dataset\n",
        "correct, total = 0, 0\n",
        "with torch.no_grad():\n",
        "    for data, targets in test_loader:\n",
        "        data, targets = data.to(device), targets.to(device)\n",
        "\n",
        "        outputs = model(data)\n",
        "        _, predicted = torch.max(outputs.data, 1)\n",
        "        total += targets.size(0)\n",
        "        correct += (predicted == targets).sum().item()\n",
        "\n",
        "# Print the test accuracy\n",
        "print('Test Accuracy on External Dataset: {:.2f}%'.format(100 * correct / total))\n",
        "\n"
      ],
      "metadata": {
        "colab": {
          "base_uri": "https://localhost:8080/"
        },
        "id": "r_AatSdGx9R-",
        "outputId": "996ccecf-9110-4f4e-b2bd-ffb8ea499bf3"
      },
      "execution_count": null,
      "outputs": [
        {
          "output_type": "stream",
          "name": "stdout",
          "text": [
            "Test Accuracy on External Dataset: 10.00%\n"
          ]
        },
        {
          "output_type": "stream",
          "name": "stderr",
          "text": [
            "<ipython-input-31-31b11c394839>:72: FutureWarning: You are using `torch.load` with `weights_only=False` (the current default value), which uses the default pickle module implicitly. It is possible to construct malicious pickle data which will execute arbitrary code during unpickling (See https://github.com/pytorch/pytorch/blob/main/SECURITY.md#untrusted-models for more details). In a future release, the default value for `weights_only` will be flipped to `True`. This limits the functions that could be executed during unpickling. Arbitrary objects will no longer be allowed to be loaded via this mode unless they are explicitly allowlisted by the user via `torch.serialization.add_safe_globals`. We recommend you start setting `weights_only=True` for any use case where you don't have full control of the loaded file. Please open an issue on GitHub for any issues related to this experimental feature.\n",
            "  model.load_state_dict(torch.load('./spiking_mnist_model.pth', map_location=device))\n"
          ]
        }
      ]
    },
    {
      "cell_type": "code",
      "source": [
        "# prompt: Now train the SNN model on the X_test2 = torch.Tensor(np.load('./digits_X.npy')).float()\n",
        "# y_test2 = torch.Tensor(np.load('./digits_y.npy')).long(). do kfold cross validation and also give the accuracy of teh testing set after training\n",
        "\n",
        "import torch\n",
        "import torch.nn as nn\n",
        "import torch.optim as optim\n",
        "from torch.utils.data import DataLoader, TensorDataset\n",
        "import numpy as np\n",
        "from sklearn.model_selection import KFold\n",
        "\n",
        "# Assuming SpikingMNISTClassifier and other necessary components are defined as in the previous code\n",
        "\n",
        "# Load the external datasets\n",
        "X_test2 = torch.Tensor(np.load('./digits_X.npy')).float()\n",
        "y_test2 = torch.Tensor(np.load('./digits_y.npy')).long()\n",
        "\n",
        "# Normalize and reshape\n",
        "X_test2 = X_test2 / 255.0\n",
        "X_test2 = X_test2.unsqueeze(1)\n",
        "\n",
        "# Create dataset and dataloader for k-fold\n",
        "dataset = TensorDataset(X_test2, y_test2)\n",
        "\n",
        "# Define k-fold cross-validation parameters\n",
        "k_folds = 5\n",
        "kfold = KFold(n_splits=k_folds, shuffle=True, random_state=42)\n",
        "\n",
        "# Initialize lists to store results\n",
        "fold_accuracies = []\n",
        "\n",
        "\n",
        "# K-fold cross-validation\n",
        "for fold, (train_idx, test_idx) in enumerate(kfold.split(dataset)):\n",
        "    print(f\"Fold {fold + 1}/{k_folds}\")\n",
        "\n",
        "    # Split data into train/test sets for this fold\n",
        "    train_subset = torch.utils.data.Subset(dataset, train_idx)\n",
        "    test_subset = torch.utils.data.Subset(dataset, test_idx)\n",
        "    train_loader = DataLoader(train_subset, batch_size=64, shuffle=True)\n",
        "    test_loader = DataLoader(test_subset, batch_size=64, shuffle=False)\n",
        "\n",
        "    # Initialize model, optimizer, and loss function\n",
        "    device = torch.device(\"cuda\" if torch.cuda.is_available() else \"cpu\")\n",
        "    timesteps = 10  # Number of timesteps for simulation\n",
        "    model = SpikingMNISTClassifier(timesteps).to(device)\n",
        "\n",
        "    # Dynamically set input size for fc1 (this part is crucial and needs to be included in your training loop as well)\n",
        "    dummy_input = torch.zeros(1, 1, 28, 28).to(device)\n",
        "    with torch.no_grad():\n",
        "        conv_output = model.conv2(model.lif1(model.conv1(dummy_input))[0])\n",
        "        flattened_size = torch.flatten(conv_output, 1).shape[1]\n",
        "        model.set_fc1_input_size(flattened_size)\n",
        "\n",
        "\n",
        "    optimizer = optim.Adam(model.parameters(), lr=0.001)\n",
        "    loss_fn = nn.CrossEntropyLoss()\n",
        "    model.to(device)\n",
        "    # Training loop\n",
        "    epochs = 5 # You may need to adjust epochs\n",
        "    for epoch in range(epochs):\n",
        "      for data, targets in train_loader:\n",
        "          data, targets = data.to(device), targets.to(device)\n",
        "          optimizer.zero_grad()\n",
        "          outputs = model(data)\n",
        "          loss = loss_fn(outputs, targets)\n",
        "          loss.backward()\n",
        "          optimizer.step()\n",
        "\n",
        "      print(f\"Fold {fold+1}, Epoch {epoch+1}/{epochs}, Loss: {loss.item():.4f}\")\n",
        "\n",
        "    # Testing loop\n",
        "    correct = 0\n",
        "    total = 0\n",
        "    with torch.no_grad():\n",
        "        for data, targets in test_loader:\n",
        "            data, targets = data.to(device), targets.to(device)\n",
        "            outputs = model(data)\n",
        "            _, predicted = torch.max(outputs.data, 1)\n",
        "            total += targets.size(0)\n",
        "            correct += (predicted == targets).sum().item()\n",
        "\n",
        "    accuracy = 100 * correct / total\n",
        "    fold_accuracies.append(accuracy)\n",
        "    print(f\"Fold {fold+1} Accuracy: {accuracy:.2f}%\")\n",
        "\n",
        "# Average accuracy over all folds\n",
        "avg_accuracy = sum(fold_accuracies) / len(fold_accuracies)\n",
        "print(f\"Average accuracy across all folds: {avg_accuracy:.2f}%\")\n"
      ],
      "metadata": {
        "colab": {
          "base_uri": "https://localhost:8080/"
        },
        "id": "SB7qDJ_m2kta",
        "outputId": "12c747b9-309c-4f35-fbf7-1e1dda52fa1a"
      },
      "execution_count": null,
      "outputs": [
        {
          "output_type": "stream",
          "name": "stdout",
          "text": [
            "Fold 1/5\n",
            "Fold 1, Epoch 1/5, Loss: 2.3026\n",
            "Fold 1, Epoch 2/5, Loss: 1.5494\n",
            "Fold 1, Epoch 3/5, Loss: 0.8864\n",
            "Fold 1, Epoch 4/5, Loss: 0.5661\n",
            "Fold 1, Epoch 5/5, Loss: 0.3407\n",
            "Fold 1 Accuracy: 84.48%\n",
            "Fold 2/5\n",
            "Fold 2, Epoch 1/5, Loss: 2.3026\n",
            "Fold 2, Epoch 2/5, Loss: 1.5536\n",
            "Fold 2, Epoch 3/5, Loss: 0.5884\n",
            "Fold 2, Epoch 4/5, Loss: 0.3730\n",
            "Fold 2, Epoch 5/5, Loss: 0.3646\n",
            "Fold 2 Accuracy: 81.03%\n",
            "Fold 3/5\n",
            "Fold 3, Epoch 1/5, Loss: 2.2114\n",
            "Fold 3, Epoch 2/5, Loss: 1.1399\n",
            "Fold 3, Epoch 3/5, Loss: 0.6460\n",
            "Fold 3, Epoch 4/5, Loss: 0.3063\n",
            "Fold 3, Epoch 5/5, Loss: 0.2396\n",
            "Fold 3 Accuracy: 70.69%\n",
            "Fold 4/5\n",
            "Fold 4, Epoch 1/5, Loss: 2.2745\n",
            "Fold 4, Epoch 2/5, Loss: 1.1317\n",
            "Fold 4, Epoch 3/5, Loss: 0.5094\n",
            "Fold 4, Epoch 4/5, Loss: 0.3189\n",
            "Fold 4, Epoch 5/5, Loss: 0.1820\n",
            "Fold 4 Accuracy: 75.86%\n",
            "Fold 5/5\n",
            "Fold 5, Epoch 1/5, Loss: 2.1510\n",
            "Fold 5, Epoch 2/5, Loss: 1.6213\n",
            "Fold 5, Epoch 3/5, Loss: 1.0362\n",
            "Fold 5, Epoch 4/5, Loss: 0.7179\n",
            "Fold 5, Epoch 5/5, Loss: 0.3224\n",
            "Fold 5 Accuracy: 81.03%\n",
            "Average accuracy across all folds: 78.62%\n"
          ]
        }
      ]
    }
  ],
  "metadata": {
    "kernelspec": {
      "display_name": "Python 3",
      "name": "python3"
    },
    "language_info": {
      "codemirror_mode": {
        "name": "ipython",
        "version": 3
      },
      "file_extension": ".py",
      "mimetype": "text/x-python",
      "name": "python",
      "nbconvert_exporter": "python",
      "pygments_lexer": "ipython3",
      "version": "3.11.9"
    },
    "colab": {
      "provenance": [],
      "gpuType": "T4",
      "include_colab_link": true
    },
    "accelerator": "GPU"
  },
  "nbformat": 4,
  "nbformat_minor": 0
}