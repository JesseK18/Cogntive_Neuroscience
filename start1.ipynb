{
  "cells": [
    {
      "cell_type": "markdown",
      "metadata": {
        "id": "view-in-github",
        "colab_type": "text"
      },
      "source": [
        "<a href=\"https://colab.research.google.com/github/JesseK18/Cogntive_Neuroscience/blob/main/start1.ipynb\" target=\"_parent\"><img src=\"https://colab.research.google.com/assets/colab-badge.svg\" alt=\"Open In Colab\"/></a>"
      ]
    },
    {
      "cell_type": "markdown",
      "metadata": {
        "id": "FrfKx63UZ4QT"
      },
      "source": [
        "# Coding for COGNEURO\n"
      ]
    },
    {
      "cell_type": "code",
      "execution_count": null,
      "metadata": {
        "collapsed": true,
        "id": "lLWiBxJ5Z4QW",
        "outputId": "5f84572f-22d1-4b60-aa38-e411d1f13049"
      },
      "outputs": [
        {
          "name": "stdout",
          "output_type": "stream",
          "text": [
            "Retrieving notices: ...working... done\n",
            "Channels:\n",
            " - conda-forge\n",
            " - defaults\n",
            "Platform: osx-64\n",
            "Collecting package metadata (repodata.json): done\n",
            "Solving environment: done\n",
            "\n",
            "## Package Plan ##\n",
            "\n",
            "  environment location: /opt/anaconda3/envs/ML_assignment_4\n",
            "\n",
            "  added / updated specs:\n",
            "    - tensorflow\n",
            "\n",
            "\n",
            "The following packages will be downloaded:\n",
            "\n",
            "    package                    |            build\n",
            "    ---------------------------|-----------------\n",
            "    absl-py-2.1.0              |     pyhd8ed1ab_0         105 KB  conda-forge\n",
            "    astunparse-1.6.3           |     pyhd8ed1ab_2          18 KB  conda-forge\n",
            "    flatbuffers-24.3.25        |       h6d0c2b6_0         1.4 MB\n",
            "    gast-0.5.5                 |     pyhd8ed1ab_0          23 KB  conda-forge\n",
            "    google-pasta-0.2.0         |     pyhd8ed1ab_1          48 KB  conda-forge\n",
            "    grpcio-1.62.2              |  py311hab2016f_0        1023 KB\n",
            "    h5py-3.12.1                |  py311ha611a00_0         1.3 MB\n",
            "    keras-3.7.0                |     pyhd8ed1ab_0         932 KB  conda-forge\n",
            "    libabseil-20240116.2       | cxx17_h548131f_0         1.1 MB\n",
            "    libgrpc-1.62.2             |       hf2926fd_0         5.7 MB\n",
            "    libprotobuf-4.25.3         |       h34eed0b_0         2.3 MB\n",
            "    libssh2-1.10.0             |       hd3787cc_2         221 KB  conda-forge\n",
            "    markdown-3.6               |     pyhd8ed1ab_0          76 KB  conda-forge\n",
            "    markdown-it-py-3.0.0       |     pyhd8ed1ab_0          63 KB  conda-forge\n",
            "    mdurl-0.1.2                |     pyhd8ed1ab_0          14 KB  conda-forge\n",
            "    ml_dtypes-0.4.0            |  py311he327ffe_0         151 KB\n",
            "    namex-0.0.8                |     pyhd8ed1ab_0          11 KB  conda-forge\n",
            "    opt_einsum-3.4.0           |     pyhd8ed1ab_0          61 KB  conda-forge\n",
            "    optree-0.9.0               |  py311h36992d9_0         256 KB  conda-forge\n",
            "    protobuf-4.25.3            |  py311h43dadc6_0         387 KB\n",
            "    python-flatbuffers-24.3.25 |     pyh59ac667_0          34 KB  conda-forge\n",
            "    re2-2022.04.01             |       h96cf925_0         201 KB  conda-forge\n",
            "    rich-13.9.4                |     pyhd8ed1ab_0         181 KB  conda-forge\n",
            "    snappy-1.2.1               |       h6d0c2b6_0          41 KB\n",
            "    tensorboard-2.17.1         |     pyhd8ed1ab_0         4.9 MB  conda-forge\n",
            "    tensorboard-data-server-0.7.0|  py311h968b48f_2         3.1 MB  conda-forge\n",
            "    tensorflow-2.17.0          |cpu_py311hb3d9b59_0          33 KB\n",
            "    tensorflow-base-2.17.0     |cpu_py311h0426836_0       162.9 MB\n",
            "    tensorflow-estimator-2.17.0|cpu_py311h7aa49ff_0         675 KB\n",
            "    termcolor-2.5.0            |     pyhd8ed1ab_0          12 KB  conda-forge\n",
            "    werkzeug-3.1.3             |     pyhff2d567_0         237 KB  conda-forge\n",
            "    wrapt-1.17.0               |  py311h4d7f069_0          60 KB  conda-forge\n",
            "    zipp-3.21.0                |     pyhd8ed1ab_1          21 KB  conda-forge\n",
            "    ------------------------------------------------------------\n",
            "                                           Total:       187.5 MB\n",
            "\n",
            "The following NEW packages will be INSTALLED:\n",
            "\n",
            "  absl-py            conda-forge/noarch::absl-py-2.1.0-pyhd8ed1ab_0 \n",
            "  astunparse         conda-forge/noarch::astunparse-1.6.3-pyhd8ed1ab_2 \n",
            "  c-ares             conda-forge/osx-64::c-ares-1.34.3-hf13058a_1 \n",
            "  flatbuffers        pkgs/main/osx-64::flatbuffers-24.3.25-h6d0c2b6_0 \n",
            "  gast               conda-forge/noarch::gast-0.5.5-pyhd8ed1ab_0 \n",
            "  giflib             conda-forge/osx-64::giflib-5.2.2-h10d778d_0 \n",
            "  google-pasta       conda-forge/noarch::google-pasta-0.2.0-pyhd8ed1ab_1 \n",
            "  grpcio             pkgs/main/osx-64::grpcio-1.62.2-py311hab2016f_0 \n",
            "  h5py               pkgs/main/osx-64::h5py-3.12.1-py311ha611a00_0 \n",
            "  hdf5               pkgs/main/osx-64::hdf5-1.12.1-ha01d115_3 \n",
            "  importlib-metadata conda-forge/noarch::importlib-metadata-8.5.0-pyha770c72_0 \n",
            "  keras              conda-forge/noarch::keras-3.7.0-pyhd8ed1ab_0 \n",
            "  libabseil          pkgs/main/osx-64::libabseil-20240116.2-cxx17_h548131f_0 \n",
            "  libcurl            pkgs/main/osx-64::libcurl-8.9.1-h3a17b82_0 \n",
            "  libev              conda-forge/osx-64::libev-4.33-h10d778d_2 \n",
            "  libgrpc            pkgs/main/osx-64::libgrpc-1.62.2-hf2926fd_0 \n",
            "  libnghttp2         pkgs/main/osx-64::libnghttp2-1.57.0-h9beae6a_0 \n",
            "  libprotobuf        pkgs/main/osx-64::libprotobuf-4.25.3-h34eed0b_0 \n",
            "  libssh2            conda-forge/osx-64::libssh2-1.10.0-hd3787cc_2 \n",
            "  markdown           conda-forge/noarch::markdown-3.6-pyhd8ed1ab_0 \n",
            "  markdown-it-py     conda-forge/noarch::markdown-it-py-3.0.0-pyhd8ed1ab_0 \n",
            "  mdurl              conda-forge/noarch::mdurl-0.1.2-pyhd8ed1ab_0 \n",
            "  ml_dtypes          pkgs/main/osx-64::ml_dtypes-0.4.0-py311he327ffe_0 \n",
            "  namex              conda-forge/noarch::namex-0.0.8-pyhd8ed1ab_0 \n",
            "  opt_einsum         conda-forge/noarch::opt_einsum-3.4.0-pyhd8ed1ab_0 \n",
            "  optree             conda-forge/osx-64::optree-0.9.0-py311h36992d9_0 \n",
            "  protobuf           pkgs/main/osx-64::protobuf-4.25.3-py311h43dadc6_0 \n",
            "  python-flatbuffers conda-forge/noarch::python-flatbuffers-24.3.25-pyh59ac667_0 \n",
            "  python_abi         conda-forge/osx-64::python_abi-3.11-2_cp311 \n",
            "  re2                conda-forge/osx-64::re2-2022.04.01-h96cf925_0 \n",
            "  rich               conda-forge/noarch::rich-13.9.4-pyhd8ed1ab_0 \n",
            "  snappy             pkgs/main/osx-64::snappy-1.2.1-h6d0c2b6_0 \n",
            "  tensorboard        conda-forge/noarch::tensorboard-2.17.1-pyhd8ed1ab_0 \n",
            "  tensorboard-data-~ conda-forge/osx-64::tensorboard-data-server-0.7.0-py311h968b48f_2 \n",
            "  tensorflow         pkgs/main/osx-64::tensorflow-2.17.0-cpu_py311hb3d9b59_0 \n",
            "  tensorflow-base    pkgs/main/osx-64::tensorflow-base-2.17.0-cpu_py311h0426836_0 \n",
            "  tensorflow-estima~ pkgs/main/osx-64::tensorflow-estimator-2.17.0-cpu_py311h7aa49ff_0 \n",
            "  termcolor          conda-forge/noarch::termcolor-2.5.0-pyhd8ed1ab_0 \n",
            "  werkzeug           conda-forge/noarch::werkzeug-3.1.3-pyhff2d567_0 \n",
            "  wrapt              conda-forge/osx-64::wrapt-1.17.0-py311h4d7f069_0 \n",
            "  zipp               conda-forge/noarch::zipp-3.21.0-pyhd8ed1ab_1 \n",
            "\n",
            "The following packages will be UPDATED:\n",
            "\n",
            "  ca-certificates    pkgs/main::ca-certificates-2024.3.11-~ --> conda-forge::ca-certificates-2024.8.30-h8857fd0_0 \n",
            "  certifi            pkgs/main/osx-64::certifi-2024.2.2-py~ --> conda-forge/noarch::certifi-2024.8.30-pyhd8ed1ab_0 \n",
            "  openssl              pkgs/main::openssl-3.0.13-hca72f7f_2 --> conda-forge::openssl-3.4.0-hd471939_0 \n",
            "\n",
            "\n",
            "Proceed ([y]/n)? ^C\n",
            "\n",
            "CondaSystemExit: \n",
            "Operation aborted.  Exiting.\n",
            "\n"
          ]
        }
      ],
      "source": [
        "! conda install -c conda-forge tensorflow\n"
      ]
    },
    {
      "cell_type": "code",
      "execution_count": 11,
      "metadata": {
        "id": "yetLT1paZ4QY"
      },
      "outputs": [],
      "source": [
        "import matplotlib.pyplot as plt\n",
        "import pandas as pd\n",
        "import numpy as np\n",
        "import tensorflow as tf\n",
        "from sklearn.model_selection import KFold\n",
        "from tensorflow.keras.models import Sequential\n",
        "from tensorflow.keras.layers import Dense, Flatten\n",
        "from tensorflow.keras.layers import Conv2D, MaxPooling2D\n",
        "from tensorflow.keras.optimizers import Adam\n",
        "from tensorflow.keras.losses import SparseCategoricalCrossentropy\n",
        "from tensorflow.keras.metrics import Accuracy\n",
        "from tensorflow.keras.layers import Dropout\n",
        "from tensorflow.keras.preprocessing.image import ImageDataGenerator\n",
        "\n"
      ]
    },
    {
      "cell_type": "code",
      "execution_count": 6,
      "metadata": {
        "colab": {
          "base_uri": "https://localhost:8080/"
        },
        "collapsed": true,
        "id": "v4c5owuyZ4Qa",
        "outputId": "c7fa8b2e-4035-494c-e595-a85c3c3a70fc"
      },
      "outputs": [
        {
          "output_type": "stream",
          "name": "stdout",
          "text": [
            "[[[0 0 0 ... 0 0 0]\n",
            "  [0 0 0 ... 0 0 0]\n",
            "  [0 0 0 ... 0 0 0]\n",
            "  ...\n",
            "  [0 0 0 ... 0 0 0]\n",
            "  [0 0 0 ... 0 0 0]\n",
            "  [0 0 0 ... 0 0 0]]\n",
            "\n",
            " [[0 0 0 ... 2 0 0]\n",
            "  [0 0 0 ... 0 0 0]\n",
            "  [0 0 0 ... 0 0 0]\n",
            "  ...\n",
            "  [0 0 0 ... 0 0 0]\n",
            "  [0 0 0 ... 0 0 0]\n",
            "  [0 0 0 ... 0 0 0]]\n",
            "\n",
            " [[0 0 0 ... 0 0 0]\n",
            "  [0 0 0 ... 0 0 0]\n",
            "  [0 0 0 ... 0 0 0]\n",
            "  ...\n",
            "  [0 0 0 ... 0 0 0]\n",
            "  [0 0 0 ... 0 0 0]\n",
            "  [0 0 0 ... 0 0 0]]\n",
            "\n",
            " [[0 0 0 ... 0 0 0]\n",
            "  [0 0 0 ... 0 0 0]\n",
            "  [0 0 0 ... 1 1 0]\n",
            "  ...\n",
            "  [0 0 0 ... 0 0 0]\n",
            "  [0 0 0 ... 0 0 0]\n",
            "  [0 0 0 ... 0 0 0]]\n",
            "\n",
            " [[0 0 0 ... 0 0 0]\n",
            "  [0 0 0 ... 0 0 0]\n",
            "  [0 0 0 ... 0 0 0]\n",
            "  ...\n",
            "  [0 0 0 ... 0 0 0]\n",
            "  [0 0 0 ... 0 0 0]\n",
            "  [0 0 0 ... 0 0 0]]]\n",
            "[0 1 2 3 4]\n",
            "Shape of df_X: (290, 784)\n",
            "Shape of df_y: (290, 1)\n",
            "    0    1    2    3    4    5    6    7    8    9    ...  774  775  776  777  \\\n",
            "0     0    0    0    0    0    0    0    0    0    0  ...    0    0    0    0   \n",
            "1     0    0    0    0    0    0    0    0    0    0  ...    0    0    0    0   \n",
            "2     0    0    0    0    0    0    0    1    1    0  ...    0    0    0    0   \n",
            "3     0    0    0    0    0    0    0    0    0    0  ...    0    0    0    0   \n",
            "4     0    0    0    0    0    0    0    0    0    0  ...    0    0    0    0   \n",
            "5     0    0    0    0    0    0    0    0    0    0  ...    0    0    0    0   \n",
            "6     0    0    0    0    0    0    0    0    0    0  ...    0    0    0    0   \n",
            "7     0    0    0    0    0    0    0    0    0    0  ...    0    0    0    0   \n",
            "8     0    0    0    0    0    0    0    0    0    0  ...    0    0    0    0   \n",
            "9     0    0    0    0    0    0    0    0    0    0  ...    0    0    0    0   \n",
            "10    0    0    0    0    0    0    0    0    0    0  ...    0    0    0    0   \n",
            "11    0    0    0    0    0    0    0    0    0    0  ...    0    0    0    0   \n",
            "12    0    0    0    0    0    0    0    0    0    0  ...    0    0    0    0   \n",
            "13    0    0    0    0    0    0    0    0    0    0  ...    0    0    0    0   \n",
            "14    0    0    0    0    0    0    0    0    0    0  ...    0    0    0    0   \n",
            "15    0    0    0    0    0    0    0    0    0    0  ...    0    0    0    0   \n",
            "16    1    1    0    0    0    0    0    0    0    0  ...    0    0    0    0   \n",
            "17    0    0    0    0    0    0    0    0    0    0  ...    0    0    0    0   \n",
            "18    0    0    0    0    0    0    0    0    0    0  ...    0    0    0    0   \n",
            "19    0    0    0    0    0    0    0    0    0    0  ...    0    0    0    0   \n",
            "\n",
            "    778  779  780  781  782  783  \n",
            "0     0    0    0    0    0    0  \n",
            "1     0    0    0    0    0    0  \n",
            "2     0    0    0    0    0    0  \n",
            "3     0    0    0    0    0    0  \n",
            "4     0    0    0    0    0    0  \n",
            "5     0    0    0    0    0    0  \n",
            "6     0    0    0    0    0    0  \n",
            "7     0    0    0    0    0    0  \n",
            "8     0    1    1    2    2    0  \n",
            "9     0    0    0    0    0    0  \n",
            "10    0    0    0    0    0    0  \n",
            "11    0    0    0    0    0    0  \n",
            "12    0    0    0    0    0    0  \n",
            "13    0    0    0    0    0    0  \n",
            "14    0    0    0    0    0    0  \n",
            "15    0    0    0    0    0    0  \n",
            "16    0    0    0    0    0    0  \n",
            "17    0    0    0    0    0    0  \n",
            "18    0    0    0    0    0    0  \n",
            "19    0    0    0    0    0    0  \n",
            "\n",
            "[20 rows x 784 columns]\n",
            "    Label\n",
            "0       0\n",
            "1       1\n",
            "2       2\n",
            "3       3\n",
            "4       4\n",
            "5       5\n",
            "6       6\n",
            "7       7\n",
            "8       8\n",
            "9       9\n",
            "10      0\n",
            "11      1\n",
            "12      2\n",
            "13      3\n",
            "14      4\n",
            "15      5\n",
            "16      6\n",
            "17      7\n",
            "18      8\n",
            "19      9\n"
          ]
        }
      ],
      "source": [
        "\n",
        "digits_X = np.load('digits_X.npy')\n",
        "digits_y = np.load('digits_y.npy')\n",
        "\n",
        "# Print the first few rows to confirm the data\n",
        "print(digits_X[:5])  # For large arrays, show only the first 5 rows\n",
        "print(digits_y[:5])\n",
        "\n",
        "# Reshape the feature matrix to 2D\n",
        "digits_X_reshaped = digits_X.reshape(digits_X.shape[0], -1)\n",
        "\n",
        "# Convert to DataFrame\n",
        "df_X = pd.DataFrame(digits_X_reshaped)\n",
        "df_y = pd.DataFrame(digits_y, columns=['Label'])\n",
        "print(\"Shape of df_X:\", df_X.shape)\n",
        "print(\"Shape of df_y:\", df_y.shape)\n",
        "print(df_X.head(20))  # First 5 rows of the feature matrix\n",
        "\n",
        "print(df_y.head(20))  # First 5 labels\n"
      ]
    },
    {
      "cell_type": "code",
      "execution_count": 6,
      "metadata": {
        "colab": {
          "base_uri": "https://localhost:8080/",
          "height": 354
        },
        "id": "jVqIoQ3xZ4Qb",
        "outputId": "b719c91d-7504-416f-f390-e2118a23edc7"
      },
      "outputs": [
        {
          "output_type": "display_data",
          "data": {
            "text/plain": [
              "<Figure size 1500x600 with 40 Axes>"
            ],
            "image/png": "[encoded data removed]"
          },
          "metadata": {}
        }
      ],
      "source": [
        "\n",
        "# load. Ensure you get the path correct -- this code assumes the files are in the working directory\n",
        "X_test2 = np.load('./digits_X.npy')\n",
        "y_test2 = np.load('./digits_y.npy')\n",
        "\n",
        "# plot to see if loaded correctly\n",
        "f, ax = plt.subplots(4,10, figsize=(15,6))\n",
        "ax = ax.ravel()\n",
        "for i in range(40):\n",
        "    ax[i].imshow(X_test2[i,:,:], cmap='Greys_r')\n",
        "    ax[i].set_title(y_test2[i])\n",
        "    ax[i].axis('off')"
      ]
    },
    {
      "cell_type": "code",
      "execution_count": 7,
      "metadata": {
        "colab": {
          "base_uri": "https://localhost:8080/",
          "height": 857
        },
        "id": "d5vAz78uZ4Qb",
        "outputId": "9ff61872-452a-433d-eefa-afa16626502e"
      },
      "outputs": [
        {
          "output_type": "stream",
          "name": "stderr",
          "text": [
            "/usr/local/lib/python3.10/dist-packages/keras/src/layers/reshaping/flatten.py:37: UserWarning: Do not pass an `input_shape`/`input_dim` argument to a layer. When using Sequential models, prefer using an `Input(shape)` object as the first layer in the model instead.\n",
            "  super().__init__(**kwargs)\n"
          ]
        },
        {
          "output_type": "display_data",
          "data": {
            "text/plain": [
              "\u001b[1mModel: \"sequential\"\u001b[0m\n"
            ],
            "text/html": [
              "<pre style=\"white-space:pre;overflow-x:auto;line-height:normal;font-family:Menlo,'DejaVu Sans Mono',consolas,'Courier New',monospace\"><span style=\"font-weight: bold\">Model: \"sequential\"</span>\n",
              "</pre>\n"
            ]
          },
          "metadata": {}
        },
        {
          "output_type": "display_data",
          "data": {
            "text/plain": [
              "┏━━━━━━━━━━━━━━━━━━━━━━━━━━━━━━━━━━━━━━┳━━━━━━━━━━━━━━━━━━━━━━━━━━━━━┳━━━━━━━━━━━━━━━━━┓\n",
              "┃\u001b[1m \u001b[0m\u001b[1mLayer (type)                        \u001b[0m\u001b[1m \u001b[0m┃\u001b[1m \u001b[0m\u001b[1mOutput Shape               \u001b[0m\u001b[1m \u001b[0m┃\u001b[1m \u001b[0m\u001b[1m        Param #\u001b[0m\u001b[1m \u001b[0m┃\n",
              "┡━━━━━━━━━━━━━━━━━━━━━━━━━━━━━━━━━━━━━━╇━━━━━━━━━━━━━━━━━━━━━━━━━━━━━╇━━━━━━━━━━━━━━━━━┩\n",
              "│ flatten (\u001b[38;5;33mFlatten\u001b[0m)                    │ (\u001b[38;5;45mNone\u001b[0m, \u001b[38;5;34m784\u001b[0m)                 │               \u001b[38;5;34m0\u001b[0m │\n",
              "├──────────────────────────────────────┼─────────────────────────────┼─────────────────┤\n",
              "│ dense (\u001b[38;5;33mDense\u001b[0m)                        │ (\u001b[38;5;45mNone\u001b[0m, \u001b[38;5;34m128\u001b[0m)                 │         \u001b[38;5;34m100,480\u001b[0m │\n",
              "├──────────────────────────────────────┼─────────────────────────────┼─────────────────┤\n",
              "│ dense_1 (\u001b[38;5;33mDense\u001b[0m)                      │ (\u001b[38;5;45mNone\u001b[0m, \u001b[38;5;34m10\u001b[0m)                  │           \u001b[38;5;34m1,290\u001b[0m │\n",
              "└──────────────────────────────────────┴─────────────────────────────┴─────────────────┘\n"
            ],
            "text/html": [
              "<pre style=\"white-space:pre;overflow-x:auto;line-height:normal;font-family:Menlo,'DejaVu Sans Mono',consolas,'Courier New',monospace\">┏━━━━━━━━━━━━━━━━━━━━━━━━━━━━━━━━━━━━━━┳━━━━━━━━━━━━━━━━━━━━━━━━━━━━━┳━━━━━━━━━━━━━━━━━┓\n",
              "┃<span style=\"font-weight: bold\"> Layer (type)                         </span>┃<span style=\"font-weight: bold\"> Output Shape                </span>┃<span style=\"font-weight: bold\">         Param # </span>┃\n",
              "┡━━━━━━━━━━━━━━━━━━━━━━━━━━━━━━━━━━━━━━╇━━━━━━━━━━━━━━━━━━━━━━━━━━━━━╇━━━━━━━━━━━━━━━━━┩\n",
              "│ flatten (<span style=\"color: #0087ff; text-decoration-color: #0087ff\">Flatten</span>)                    │ (<span style=\"color: #00d7ff; text-decoration-color: #00d7ff\">None</span>, <span style=\"color: #00af00; text-decoration-color: #00af00\">784</span>)                 │               <span style=\"color: #00af00; text-decoration-color: #00af00\">0</span> │\n",
              "├──────────────────────────────────────┼─────────────────────────────┼─────────────────┤\n",
              "│ dense (<span style=\"color: #0087ff; text-decoration-color: #0087ff\">Dense</span>)                        │ (<span style=\"color: #00d7ff; text-decoration-color: #00d7ff\">None</span>, <span style=\"color: #00af00; text-decoration-color: #00af00\">128</span>)                 │         <span style=\"color: #00af00; text-decoration-color: #00af00\">100,480</span> │\n",
              "├──────────────────────────────────────┼─────────────────────────────┼─────────────────┤\n",
              "│ dense_1 (<span style=\"color: #0087ff; text-decoration-color: #0087ff\">Dense</span>)                      │ (<span style=\"color: #00d7ff; text-decoration-color: #00d7ff\">None</span>, <span style=\"color: #00af00; text-decoration-color: #00af00\">10</span>)                  │           <span style=\"color: #00af00; text-decoration-color: #00af00\">1,290</span> │\n",
              "└──────────────────────────────────────┴─────────────────────────────┴─────────────────┘\n",
              "</pre>\n"
            ]
          },
          "metadata": {}
        },
        {
          "output_type": "display_data",
          "data": {
            "text/plain": [
              "\u001b[1m Total params: \u001b[0m\u001b[38;5;34m101,770\u001b[0m (397.54 KB)\n"
            ],
            "text/html": [
              "<pre style=\"white-space:pre;overflow-x:auto;line-height:normal;font-family:Menlo,'DejaVu Sans Mono',consolas,'Courier New',monospace\"><span style=\"font-weight: bold\"> Total params: </span><span style=\"color: #00af00; text-decoration-color: #00af00\">101,770</span> (397.54 KB)\n",
              "</pre>\n"
            ]
          },
          "metadata": {}
        },
        {
          "output_type": "display_data",
          "data": {
            "text/plain": [
              "\u001b[1m Trainable params: \u001b[0m\u001b[38;5;34m101,770\u001b[0m (397.54 KB)\n"
            ],
            "text/html": [
              "<pre style=\"white-space:pre;overflow-x:auto;line-height:normal;font-family:Menlo,'DejaVu Sans Mono',consolas,'Courier New',monospace\"><span style=\"font-weight: bold\"> Trainable params: </span><span style=\"color: #00af00; text-decoration-color: #00af00\">101,770</span> (397.54 KB)\n",
              "</pre>\n"
            ]
          },
          "metadata": {}
        },
        {
          "output_type": "display_data",
          "data": {
            "text/plain": [
              "\u001b[1m Non-trainable params: \u001b[0m\u001b[38;5;34m0\u001b[0m (0.00 B)\n"
            ],
            "text/html": [
              "<pre style=\"white-space:pre;overflow-x:auto;line-height:normal;font-family:Menlo,'DejaVu Sans Mono',consolas,'Courier New',monospace\"><span style=\"font-weight: bold\"> Non-trainable params: </span><span style=\"color: #00af00; text-decoration-color: #00af00\">0</span> (0.00 B)\n",
              "</pre>\n"
            ]
          },
          "metadata": {}
        },
        {
          "output_type": "display_data",
          "data": {
            "text/plain": [
              "\u001b[1mModel: \"sequential_1\"\u001b[0m\n"
            ],
            "text/html": [
              "<pre style=\"white-space:pre;overflow-x:auto;line-height:normal;font-family:Menlo,'DejaVu Sans Mono',consolas,'Courier New',monospace\"><span style=\"font-weight: bold\">Model: \"sequential_1\"</span>\n",
              "</pre>\n"
            ]
          },
          "metadata": {}
        },
        {
          "output_type": "display_data",
          "data": {
            "text/plain": [
              "┏━━━━━━━━━━━━━━━━━━━━━━━━━━━━━━━━━━━━━━┳━━━━━━━━━━━━━━━━━━━━━━━━━━━━━┳━━━━━━━━━━━━━━━━━┓\n",
              "┃\u001b[1m \u001b[0m\u001b[1mLayer (type)                        \u001b[0m\u001b[1m \u001b[0m┃\u001b[1m \u001b[0m\u001b[1mOutput Shape               \u001b[0m\u001b[1m \u001b[0m┃\u001b[1m \u001b[0m\u001b[1m        Param #\u001b[0m\u001b[1m \u001b[0m┃\n",
              "┡━━━━━━━━━━━━━━━━━━━━━━━━━━━━━━━━━━━━━━╇━━━━━━━━━━━━━━━━━━━━━━━━━━━━━╇━━━━━━━━━━━━━━━━━┩\n",
              "│ flatten_1 (\u001b[38;5;33mFlatten\u001b[0m)                  │ (\u001b[38;5;45mNone\u001b[0m, \u001b[38;5;34m784\u001b[0m)                 │               \u001b[38;5;34m0\u001b[0m │\n",
              "├──────────────────────────────────────┼─────────────────────────────┼─────────────────┤\n",
              "│ dense_2 (\u001b[38;5;33mDense\u001b[0m)                      │ (\u001b[38;5;45mNone\u001b[0m, \u001b[38;5;34m128\u001b[0m)                 │         \u001b[38;5;34m100,480\u001b[0m │\n",
              "├──────────────────────────────────────┼─────────────────────────────┼─────────────────┤\n",
              "│ dense_3 (\u001b[38;5;33mDense\u001b[0m)                      │ (\u001b[38;5;45mNone\u001b[0m, \u001b[38;5;34m64\u001b[0m)                  │           \u001b[38;5;34m8,256\u001b[0m │\n",
              "├──────────────────────────────────────┼─────────────────────────────┼─────────────────┤\n",
              "│ dense_4 (\u001b[38;5;33mDense\u001b[0m)                      │ (\u001b[38;5;45mNone\u001b[0m, \u001b[38;5;34m32\u001b[0m)                  │           \u001b[38;5;34m2,080\u001b[0m │\n",
              "├──────────────────────────────────────┼─────────────────────────────┼─────────────────┤\n",
              "│ dense_5 (\u001b[38;5;33mDense\u001b[0m)                      │ (\u001b[38;5;45mNone\u001b[0m, \u001b[38;5;34m10\u001b[0m)                  │             \u001b[38;5;34m330\u001b[0m │\n",
              "└──────────────────────────────────────┴─────────────────────────────┴─────────────────┘\n"
            ],
            "text/html": [
              "<pre style=\"white-space:pre;overflow-x:auto;line-height:normal;font-family:Menlo,'DejaVu Sans Mono',consolas,'Courier New',monospace\">┏━━━━━━━━━━━━━━━━━━━━━━━━━━━━━━━━━━━━━━┳━━━━━━━━━━━━━━━━━━━━━━━━━━━━━┳━━━━━━━━━━━━━━━━━┓\n",
              "┃<span style=\"font-weight: bold\"> Layer (type)                         </span>┃<span style=\"font-weight: bold\"> Output Shape                </span>┃<span style=\"font-weight: bold\">         Param # </span>┃\n",
              "┡━━━━━━━━━━━━━━━━━━━━━━━━━━━━━━━━━━━━━━╇━━━━━━━━━━━━━━━━━━━━━━━━━━━━━╇━━━━━━━━━━━━━━━━━┩\n",
              "│ flatten_1 (<span style=\"color: #0087ff; text-decoration-color: #0087ff\">Flatten</span>)                  │ (<span style=\"color: #00d7ff; text-decoration-color: #00d7ff\">None</span>, <span style=\"color: #00af00; text-decoration-color: #00af00\">784</span>)                 │               <span style=\"color: #00af00; text-decoration-color: #00af00\">0</span> │\n",
              "├──────────────────────────────────────┼─────────────────────────────┼─────────────────┤\n",
              "│ dense_2 (<span style=\"color: #0087ff; text-decoration-color: #0087ff\">Dense</span>)                      │ (<span style=\"color: #00d7ff; text-decoration-color: #00d7ff\">None</span>, <span style=\"color: #00af00; text-decoration-color: #00af00\">128</span>)                 │         <span style=\"color: #00af00; text-decoration-color: #00af00\">100,480</span> │\n",
              "├──────────────────────────────────────┼─────────────────────────────┼─────────────────┤\n",
              "│ dense_3 (<span style=\"color: #0087ff; text-decoration-color: #0087ff\">Dense</span>)                      │ (<span style=\"color: #00d7ff; text-decoration-color: #00d7ff\">None</span>, <span style=\"color: #00af00; text-decoration-color: #00af00\">64</span>)                  │           <span style=\"color: #00af00; text-decoration-color: #00af00\">8,256</span> │\n",
              "├──────────────────────────────────────┼─────────────────────────────┼─────────────────┤\n",
              "│ dense_4 (<span style=\"color: #0087ff; text-decoration-color: #0087ff\">Dense</span>)                      │ (<span style=\"color: #00d7ff; text-decoration-color: #00d7ff\">None</span>, <span style=\"color: #00af00; text-decoration-color: #00af00\">32</span>)                  │           <span style=\"color: #00af00; text-decoration-color: #00af00\">2,080</span> │\n",
              "├──────────────────────────────────────┼─────────────────────────────┼─────────────────┤\n",
              "│ dense_5 (<span style=\"color: #0087ff; text-decoration-color: #0087ff\">Dense</span>)                      │ (<span style=\"color: #00d7ff; text-decoration-color: #00d7ff\">None</span>, <span style=\"color: #00af00; text-decoration-color: #00af00\">10</span>)                  │             <span style=\"color: #00af00; text-decoration-color: #00af00\">330</span> │\n",
              "└──────────────────────────────────────┴─────────────────────────────┴─────────────────┘\n",
              "</pre>\n"
            ]
          },
          "metadata": {}
        },
        {
          "output_type": "display_data",
          "data": {
            "text/plain": [
              "\u001b[1m Total params: \u001b[0m\u001b[38;5;34m111,146\u001b[0m (434.16 KB)\n"
            ],
            "text/html": [
              "<pre style=\"white-space:pre;overflow-x:auto;line-height:normal;font-family:Menlo,'DejaVu Sans Mono',consolas,'Courier New',monospace\"><span style=\"font-weight: bold\"> Total params: </span><span style=\"color: #00af00; text-decoration-color: #00af00\">111,146</span> (434.16 KB)\n",
              "</pre>\n"
            ]
          },
          "metadata": {}
        },
        {
          "output_type": "display_data",
          "data": {
            "text/plain": [
              "\u001b[1m Trainable params: \u001b[0m\u001b[38;5;34m111,146\u001b[0m (434.16 KB)\n"
            ],
            "text/html": [
              "<pre style=\"white-space:pre;overflow-x:auto;line-height:normal;font-family:Menlo,'DejaVu Sans Mono',consolas,'Courier New',monospace\"><span style=\"font-weight: bold\"> Trainable params: </span><span style=\"color: #00af00; text-decoration-color: #00af00\">111,146</span> (434.16 KB)\n",
              "</pre>\n"
            ]
          },
          "metadata": {}
        },
        {
          "output_type": "display_data",
          "data": {
            "text/plain": [
              "\u001b[1m Non-trainable params: \u001b[0m\u001b[38;5;34m0\u001b[0m (0.00 B)\n"
            ],
            "text/html": [
              "<pre style=\"white-space:pre;overflow-x:auto;line-height:normal;font-family:Menlo,'DejaVu Sans Mono',consolas,'Courier New',monospace\"><span style=\"font-weight: bold\"> Non-trainable params: </span><span style=\"color: #00af00; text-decoration-color: #00af00\">0</span> (0.00 B)\n",
              "</pre>\n"
            ]
          },
          "metadata": {}
        },
        {
          "output_type": "stream",
          "name": "stderr",
          "text": [
            "/usr/local/lib/python3.10/dist-packages/keras/src/layers/convolutional/base_conv.py:107: UserWarning: Do not pass an `input_shape`/`input_dim` argument to a layer. When using Sequential models, prefer using an `Input(shape)` object as the first layer in the model instead.\n",
            "  super().__init__(activity_regularizer=activity_regularizer, **kwargs)\n"
          ]
        },
        {
          "output_type": "display_data",
          "data": {
            "text/plain": [
              "\u001b[1mModel: \"sequential_2\"\u001b[0m\n"
            ],
            "text/html": [
              "<pre style=\"white-space:pre;overflow-x:auto;line-height:normal;font-family:Menlo,'DejaVu Sans Mono',consolas,'Courier New',monospace\"><span style=\"font-weight: bold\">Model: \"sequential_2\"</span>\n",
              "</pre>\n"
            ]
          },
          "metadata": {}
        },
        {
          "output_type": "display_data",
          "data": {
            "text/plain": [
              "┏━━━━━━━━━━━━━━━━━━━━━━━━━━━━━━━━━━━━━━┳━━━━━━━━━━━━━━━━━━━━━━━━━━━━━┳━━━━━━━━━━━━━━━━━┓\n",
              "┃\u001b[1m \u001b[0m\u001b[1mLayer (type)                        \u001b[0m\u001b[1m \u001b[0m┃\u001b[1m \u001b[0m\u001b[1mOutput Shape               \u001b[0m\u001b[1m \u001b[0m┃\u001b[1m \u001b[0m\u001b[1m        Param #\u001b[0m\u001b[1m \u001b[0m┃\n",
              "┡━━━━━━━━━━━━━━━━━━━━━━━━━━━━━━━━━━━━━━╇━━━━━━━━━━━━━━━━━━━━━━━━━━━━━╇━━━━━━━━━━━━━━━━━┩\n",
              "│ conv2d (\u001b[38;5;33mConv2D\u001b[0m)                      │ (\u001b[38;5;45mNone\u001b[0m, \u001b[38;5;34m26\u001b[0m, \u001b[38;5;34m26\u001b[0m, \u001b[38;5;34m32\u001b[0m)          │             \u001b[38;5;34m320\u001b[0m │\n",
              "├──────────────────────────────────────┼─────────────────────────────┼─────────────────┤\n",
              "│ max_pooling2d (\u001b[38;5;33mMaxPooling2D\u001b[0m)         │ (\u001b[38;5;45mNone\u001b[0m, \u001b[38;5;34m13\u001b[0m, \u001b[38;5;34m13\u001b[0m, \u001b[38;5;34m32\u001b[0m)          │               \u001b[38;5;34m0\u001b[0m │\n",
              "├──────────────────────────────────────┼─────────────────────────────┼─────────────────┤\n",
              "│ flatten_2 (\u001b[38;5;33mFlatten\u001b[0m)                  │ (\u001b[38;5;45mNone\u001b[0m, \u001b[38;5;34m5408\u001b[0m)                │               \u001b[38;5;34m0\u001b[0m │\n",
              "├──────────────────────────────────────┼─────────────────────────────┼─────────────────┤\n",
              "│ dense_6 (\u001b[38;5;33mDense\u001b[0m)                      │ (\u001b[38;5;45mNone\u001b[0m, \u001b[38;5;34m128\u001b[0m)                 │         \u001b[38;5;34m692,352\u001b[0m │\n",
              "├──────────────────────────────────────┼─────────────────────────────┼─────────────────┤\n",
              "│ dense_7 (\u001b[38;5;33mDense\u001b[0m)                      │ (\u001b[38;5;45mNone\u001b[0m, \u001b[38;5;34m10\u001b[0m)                  │           \u001b[38;5;34m1,290\u001b[0m │\n",
              "└──────────────────────────────────────┴─────────────────────────────┴─────────────────┘\n"
            ],
            "text/html": [
              "<pre style=\"white-space:pre;overflow-x:auto;line-height:normal;font-family:Menlo,'DejaVu Sans Mono',consolas,'Courier New',monospace\">┏━━━━━━━━━━━━━━━━━━━━━━━━━━━━━━━━━━━━━━┳━━━━━━━━━━━━━━━━━━━━━━━━━━━━━┳━━━━━━━━━━━━━━━━━┓\n",
              "┃<span style=\"font-weight: bold\"> Layer (type)                         </span>┃<span style=\"font-weight: bold\"> Output Shape                </span>┃<span style=\"font-weight: bold\">         Param # </span>┃\n",
              "┡━━━━━━━━━━━━━━━━━━━━━━━━━━━━━━━━━━━━━━╇━━━━━━━━━━━━━━━━━━━━━━━━━━━━━╇━━━━━━━━━━━━━━━━━┩\n",
              "│ conv2d (<span style=\"color: #0087ff; text-decoration-color: #0087ff\">Conv2D</span>)                      │ (<span style=\"color: #00d7ff; text-decoration-color: #00d7ff\">None</span>, <span style=\"color: #00af00; text-decoration-color: #00af00\">26</span>, <span style=\"color: #00af00; text-decoration-color: #00af00\">26</span>, <span style=\"color: #00af00; text-decoration-color: #00af00\">32</span>)          │             <span style=\"color: #00af00; text-decoration-color: #00af00\">320</span> │\n",
              "├──────────────────────────────────────┼─────────────────────────────┼─────────────────┤\n",
              "│ max_pooling2d (<span style=\"color: #0087ff; text-decoration-color: #0087ff\">MaxPooling2D</span>)         │ (<span style=\"color: #00d7ff; text-decoration-color: #00d7ff\">None</span>, <span style=\"color: #00af00; text-decoration-color: #00af00\">13</span>, <span style=\"color: #00af00; text-decoration-color: #00af00\">13</span>, <span style=\"color: #00af00; text-decoration-color: #00af00\">32</span>)          │               <span style=\"color: #00af00; text-decoration-color: #00af00\">0</span> │\n",
              "├──────────────────────────────────────┼─────────────────────────────┼─────────────────┤\n",
              "│ flatten_2 (<span style=\"color: #0087ff; text-decoration-color: #0087ff\">Flatten</span>)                  │ (<span style=\"color: #00d7ff; text-decoration-color: #00d7ff\">None</span>, <span style=\"color: #00af00; text-decoration-color: #00af00\">5408</span>)                │               <span style=\"color: #00af00; text-decoration-color: #00af00\">0</span> │\n",
              "├──────────────────────────────────────┼─────────────────────────────┼─────────────────┤\n",
              "│ dense_6 (<span style=\"color: #0087ff; text-decoration-color: #0087ff\">Dense</span>)                      │ (<span style=\"color: #00d7ff; text-decoration-color: #00d7ff\">None</span>, <span style=\"color: #00af00; text-decoration-color: #00af00\">128</span>)                 │         <span style=\"color: #00af00; text-decoration-color: #00af00\">692,352</span> │\n",
              "├──────────────────────────────────────┼─────────────────────────────┼─────────────────┤\n",
              "│ dense_7 (<span style=\"color: #0087ff; text-decoration-color: #0087ff\">Dense</span>)                      │ (<span style=\"color: #00d7ff; text-decoration-color: #00d7ff\">None</span>, <span style=\"color: #00af00; text-decoration-color: #00af00\">10</span>)                  │           <span style=\"color: #00af00; text-decoration-color: #00af00\">1,290</span> │\n",
              "└──────────────────────────────────────┴─────────────────────────────┴─────────────────┘\n",
              "</pre>\n"
            ]
          },
          "metadata": {}
        },
        {
          "output_type": "display_data",
          "data": {
            "text/plain": [
              "\u001b[1m Total params: \u001b[0m\u001b[38;5;34m693,962\u001b[0m (2.65 MB)\n"
            ],
            "text/html": [
              "<pre style=\"white-space:pre;overflow-x:auto;line-height:normal;font-family:Menlo,'DejaVu Sans Mono',consolas,'Courier New',monospace\"><span style=\"font-weight: bold\"> Total params: </span><span style=\"color: #00af00; text-decoration-color: #00af00\">693,962</span> (2.65 MB)\n",
              "</pre>\n"
            ]
          },
          "metadata": {}
        },
        {
          "output_type": "display_data",
          "data": {
            "text/plain": [
              "\u001b[1m Trainable params: \u001b[0m\u001b[38;5;34m693,962\u001b[0m (2.65 MB)\n"
            ],
            "text/html": [
              "<pre style=\"white-space:pre;overflow-x:auto;line-height:normal;font-family:Menlo,'DejaVu Sans Mono',consolas,'Courier New',monospace\"><span style=\"font-weight: bold\"> Trainable params: </span><span style=\"color: #00af00; text-decoration-color: #00af00\">693,962</span> (2.65 MB)\n",
              "</pre>\n"
            ]
          },
          "metadata": {}
        },
        {
          "output_type": "display_data",
          "data": {
            "text/plain": [
              "\u001b[1m Non-trainable params: \u001b[0m\u001b[38;5;34m0\u001b[0m (0.00 B)\n"
            ],
            "text/html": [
              "<pre style=\"white-space:pre;overflow-x:auto;line-height:normal;font-family:Menlo,'DejaVu Sans Mono',consolas,'Courier New',monospace\"><span style=\"font-weight: bold\"> Non-trainable params: </span><span style=\"color: #00af00; text-decoration-color: #00af00\">0</span> (0.00 B)\n",
              "</pre>\n"
            ]
          },
          "metadata": {}
        }
      ],
      "source": [
        "\n",
        "# Define the model\n",
        "model_1_hidden = Sequential([\n",
        "    Flatten(input_shape=(28, 28)),  # Flatten the input\n",
        "    Dense(128, activation='relu'),  # 1 hidden layer with 128 nodes\n",
        "    Dense(10, activation='softmax')  # Output layer with 10 nodes (for 10 classes)\n",
        "])\n",
        "\n",
        "# Compile the model\n",
        "model_1_hidden.compile(optimizer='adam', loss='sparse_categorical_crossentropy', metrics=['accuracy'])\n",
        "\n",
        "# Summary of the model\n",
        "model_1_hidden.summary()\n",
        "\n",
        "\n",
        "# Define the model\n",
        "model_3_hidden = Sequential([\n",
        "    Flatten(input_shape=(28, 28)),  # Flatten the input\n",
        "    Dense(128, activation='relu'),  # 1st hidden layer with 128 nodes\n",
        "    Dense(64, activation='relu'),   # 2nd hidden layer with 64 nodes\n",
        "    Dense(32, activation='relu'),   # 3rd hidden layer with 32 nodes\n",
        "    Dense(10, activation='softmax')  # Output layer with 10 nodes (for 10 classes)\n",
        "])\n",
        "\n",
        "# Compile the model\n",
        "model_3_hidden.compile(optimizer='adam', loss='sparse_categorical_crossentropy', metrics=['accuracy'])\n",
        "\n",
        "# Summary of the model\n",
        "model_3_hidden.summary()\n",
        "\n",
        "\n",
        "\n",
        "\n",
        "# Define the model\n",
        "model_1_conv = Sequential([\n",
        "    Conv2D(32, (3, 3), activation='relu', input_shape=(28, 28, 1)),  # 1 convolutional layer\n",
        "    MaxPooling2D((2, 2)),  # Max pooling layer\n",
        "    Flatten(),\n",
        "    Dense(128, activation='relu'),  # Fully connected layer\n",
        "    Dense(10, activation='softmax')  # Output layer with 10 nodes (for 10 classes)\n",
        "])\n",
        "\n",
        "# Compile the model\n",
        "model_1_conv.compile(optimizer='adam', loss='sparse_categorical_crossentropy', metrics=['accuracy'])\n",
        "\n",
        "# Summary of the model\n",
        "model_1_conv.summary()"
      ]
    },
    {
      "cell_type": "code",
      "execution_count": 8,
      "metadata": {
        "colab": {
          "base_uri": "https://localhost:8080/"
        },
        "id": "eGiGbZBqZ4Qc",
        "outputId": "e6c2fe31-7340-4644-a0ea-47bec5b9d237"
      },
      "outputs": [
        {
          "output_type": "stream",
          "name": "stdout",
          "text": [
            "Downloading data from https://storage.googleapis.com/tensorflow/tf-keras-datasets/mnist.npz\n",
            "\u001b[1m11490434/11490434\u001b[0m \u001b[32m━━━━━━━━━━━━━━━━━━━━\u001b[0m\u001b[37m\u001b[0m \u001b[1m0s\u001b[0m 0us/step\n",
            "Epoch 1/5\n",
            "\u001b[1m1875/1875\u001b[0m \u001b[32m━━━━━━━━━━━━━━━━━━━━\u001b[0m\u001b[37m\u001b[0m \u001b[1m9s\u001b[0m 3ms/step - accuracy: 0.9112 - loss: 0.2976 - val_accuracy: 0.9795 - val_loss: 0.0665\n",
            "Epoch 2/5\n",
            "\u001b[1m1875/1875\u001b[0m \u001b[32m━━━━━━━━━━━━━━━━━━━━\u001b[0m\u001b[37m\u001b[0m \u001b[1m4s\u001b[0m 2ms/step - accuracy: 0.9827 - loss: 0.0551 - val_accuracy: 0.9839 - val_loss: 0.0493\n",
            "Epoch 3/5\n",
            "\u001b[1m1875/1875\u001b[0m \u001b[32m━━━━━━━━━━━━━━━━━━━━\u001b[0m\u001b[37m\u001b[0m \u001b[1m6s\u001b[0m 3ms/step - accuracy: 0.9894 - loss: 0.0332 - val_accuracy: 0.9859 - val_loss: 0.0443\n",
            "Epoch 4/5\n",
            "\u001b[1m1875/1875\u001b[0m \u001b[32m━━━━━━━━━━━━━━━━━━━━\u001b[0m\u001b[37m\u001b[0m \u001b[1m4s\u001b[0m 2ms/step - accuracy: 0.9938 - loss: 0.0211 - val_accuracy: 0.9873 - val_loss: 0.0402\n",
            "Epoch 5/5\n",
            "\u001b[1m1875/1875\u001b[0m \u001b[32m━━━━━━━━━━━━━━━━━━━━\u001b[0m\u001b[37m\u001b[0m \u001b[1m4s\u001b[0m 2ms/step - accuracy: 0.9954 - loss: 0.0141 - val_accuracy: 0.9866 - val_loss: 0.0462\n"
          ]
        },
        {
          "output_type": "execute_result",
          "data": {
            "text/plain": [
              "<keras.src.callbacks.history.History at 0x7e21ddaaebc0>"
            ]
          },
          "metadata": {},
          "execution_count": 8
        }
      ],
      "source": [
        "# Load the MNIST dataset\n",
        "mnist = tf.keras.datasets.mnist\n",
        "(X_train, y_train), (X_test, y_test) = mnist.load_data()\n",
        "\n",
        "# Normalize the data\n",
        "X_train, X_test = X_train / 255.0, X_test / 255.0\n",
        "\n",
        "# Reshape the data for convolutional networks\n",
        "X_train = X_train.reshape(-1, 28, 28, 1)\n",
        "X_test = X_test.reshape(-1, 28, 28, 1)\n",
        "\n",
        "# Train the model\n",
        "model_1_conv.fit(X_train, y_train, epochs=5, validation_data=(X_test, y_test))"
      ]
    },
    {
      "cell_type": "code",
      "execution_count": 13,
      "metadata": {
        "colab": {
          "base_uri": "https://localhost:8080/"
        },
        "id": "CqlSh9MeZ4Qd",
        "outputId": "8a7be47c-7d60-4677-8bbf-a21f0624f06c"
      },
      "outputs": [
        {
          "output_type": "stream",
          "name": "stderr",
          "text": [
            "/usr/local/lib/python3.10/dist-packages/keras/src/layers/reshaping/flatten.py:37: UserWarning: Do not pass an `input_shape`/`input_dim` argument to a layer. When using Sequential models, prefer using an `Input(shape)` object as the first layer in the model instead.\n",
            "  super().__init__(**kwargs)\n"
          ]
        },
        {
          "output_type": "stream",
          "name": "stdout",
          "text": [
            "Average Validation Accuracy: 0.9733\n",
            "Epoch 1/5\n",
            "\u001b[1m1875/1875\u001b[0m \u001b[32m━━━━━━━━━━━━━━━━━━━━\u001b[0m\u001b[37m\u001b[0m \u001b[1m4s\u001b[0m 2ms/step - accuracy: 0.8622 - loss: 0.4750\n",
            "Epoch 2/5\n",
            "\u001b[1m1875/1875\u001b[0m \u001b[32m━━━━━━━━━━━━━━━━━━━━\u001b[0m\u001b[37m\u001b[0m \u001b[1m3s\u001b[0m 2ms/step - accuracy: 0.9547 - loss: 0.1532\n",
            "Epoch 3/5\n",
            "\u001b[1m1875/1875\u001b[0m \u001b[32m━━━━━━━━━━━━━━━━━━━━\u001b[0m\u001b[37m\u001b[0m \u001b[1m6s\u001b[0m 2ms/step - accuracy: 0.9672 - loss: 0.1093\n",
            "Epoch 4/5\n",
            "\u001b[1m1875/1875\u001b[0m \u001b[32m━━━━━━━━━━━━━━━━━━━━\u001b[0m\u001b[37m\u001b[0m \u001b[1m3s\u001b[0m 2ms/step - accuracy: 0.9734 - loss: 0.0833\n",
            "Epoch 5/5\n",
            "\u001b[1m1875/1875\u001b[0m \u001b[32m━━━━━━━━━━━━━━━━━━━━\u001b[0m\u001b[37m\u001b[0m \u001b[1m3s\u001b[0m 2ms/step - accuracy: 0.9775 - loss: 0.0728\n",
            "\u001b[1m10/10\u001b[0m \u001b[32m━━━━━━━━━━━━━━━━━━━━\u001b[0m\u001b[37m\u001b[0m \u001b[1m1s\u001b[0m 33ms/step - accuracy: 0.6205 - loss: 1.5305\n",
            "Test Accuracy on External Validation Dataset: 0.5724\n"
          ]
        }
      ],
      "source": [
        "\n",
        "# Load the MNIST dataset\n",
        "(X_train, y_train), (X_test, y_test) = mnist.load_data()\n",
        "\n",
        "# Normalize the training and testing data\n",
        "X_train = X_train / 255.0\n",
        "X_test = X_test / 255.0\n",
        "\n",
        "# Reshape the data for fully connected networks\n",
        "X_train = X_train.reshape(-1, 28 * 28)\n",
        "X_test = X_test.reshape(-1, 28 * 28)\n",
        "\n",
        "# Load external validation dataset\n",
        "X_test2 = np.load('./digits_X.npy')\n",
        "y_test2 = np.load('./digits_y.npy')\n",
        "\n",
        "# Normalize and reshape the external validation dataset\n",
        "X_test2 = X_test2 / 255.0\n",
        "X_test2 = X_test2.reshape(-1, 28 * 28)\n",
        "\n",
        "# Define a function to create the model\n",
        "def create_model():\n",
        "    model = Sequential([\n",
        "        Flatten(input_shape=(28 * 28,)),  # Flatten the input\n",
        "        Dense(128, activation='relu'),   # First dense layer with 128 nodes\n",
        "        Dropout(0.2),                    # Dropout regularization to prevent overfitting\n",
        "        Dense(10, activation='softmax')  # Output layer with 10 nodes (for 10 classes)\n",
        "    ])\n",
        "    model.compile(\n",
        "        optimizer=Adam(),\n",
        "        loss=SparseCategoricalCrossentropy(),\n",
        "        metrics=['accuracy']\n",
        "    )\n",
        "    return model\n",
        "\n",
        "# Data augmentation using ImageDataGenerator\n",
        "datagen = ImageDataGenerator(\n",
        "    rotation_range=10,\n",
        "    width_shift_range=0.1,\n",
        "    height_shift_range=0.1,\n",
        "    shear_range=0.1,\n",
        "    zoom_range=0.1,\n",
        "    horizontal_flip=False,  # No horizontal flips for digit classification\n",
        "    fill_mode='nearest'\n",
        ")\n",
        "\n",
        "# Fit the data augmentation generator to the training data\n",
        "datagen.fit(X_train.reshape(-1, 28, 28, 1))  # Reshape to match expected 4D input for data augmentation\n",
        "\n",
        "# Example: Train a convolutional model (assuming `model_1_conv` is predefined)\n",
        "# model_1_conv.fit(datagen.flow(X_train.reshape(-1, 28, 28, 1), y_train, batch_size=32),\n",
        "#                  epochs=5, validation_data=(X_test.reshape(-1, 28, 28, 1), y_test))\n",
        "\n",
        "# Cross-validation with KFold\n",
        "kf = KFold(n_splits=5, shuffle=True, random_state=42)\n",
        "val_accuracies = []\n",
        "\n",
        "for train_index, val_index in kf.split(X_train):\n",
        "    X_train_fold, X_val_fold = X_train[train_index], X_train[val_index]\n",
        "    y_train_fold, y_val_fold = y_train[train_index], y_train[val_index]\n",
        "\n",
        "    model = create_model()\n",
        "    model.fit(X_train_fold, y_train_fold, epochs=5, verbose=0)  # Silent training\n",
        "\n",
        "    val_loss, val_accuracy = model.evaluate(X_val_fold, y_val_fold, verbose=0)\n",
        "    val_accuracies.append(val_accuracy)\n",
        "\n",
        "# Calculate the average validation accuracy\n",
        "average_val_accuracy = np.mean(val_accuracies)\n",
        "print(f'Average Validation Accuracy: {average_val_accuracy:.4f}')\n",
        "\n",
        "# Final model training on full dataset\n",
        "final_model = create_model()\n",
        "final_model.fit(X_train, y_train, epochs=5, verbose=1)\n",
        "\n",
        "# Evaluate on the external validation dataset\n",
        "test_loss, test_accuracy = final_model.evaluate(X_test2, y_test2, verbose=1)\n",
        "print(f'Test Accuracy on External Validation Dataset: {test_accuracy:.4f}')\n"
      ]
    }
  ],
  "metadata": {
    "kernelspec": {
      "display_name": "Python 3",
      "name": "python3"
    },
    "language_info": {
      "codemirror_mode": {
        "name": "ipython",
        "version": 3
      },
      "file_extension": ".py",
      "mimetype": "text/x-python",
      "name": "python",
      "nbconvert_exporter": "python",
      "pygments_lexer": "ipython3",
      "version": "3.11.9"
    },
    "colab": {
      "provenance": [],
      "gpuType": "T4",
      "include_colab_link": true
    },
    "accelerator": "GPU"
  },
  "nbformat": 4,
  "nbformat_minor": 0
}